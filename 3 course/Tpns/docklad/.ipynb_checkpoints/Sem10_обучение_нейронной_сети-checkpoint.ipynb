{
 "cells": [
  {
   "cell_type": "markdown",
   "metadata": {
    "_cell_guid": "48bb1394-d871-4670-812e-9e80ac87a27a",
    "_uuid": "84c59c4d97b2f0a0eb52a22d74e7939dd51873bf",
    "id": "4vZxS34R9P2_"
   },
   "source": [
    "# Обучение нейронной сети: advanced\n",
    "\n",
    "- На прошлой паре мы обучили простую многослойную нейросеть в базовом варианте\n",
    "- Возникают вопросы - какие могут быть проблемы при обучении нейронной сети, как их решать и можно ли ускорить обучение. Об этом и поговорим\n",
    "\n",
    "<br>**Содержание:**\n",
    "* [Типичные проблемы](#1)\n",
    "* [Artificial Neural Network (ANN)](#2)\n",
    "* [Concolutional Neural Network (CNN)](#3)"
   ]
  },
  {
   "cell_type": "code",
   "execution_count": null,
   "metadata": {
    "_cell_guid": "b1076dfc-b9ad-4769-8c92-a6c4dae69d19",
    "_uuid": "8f2839f25d086af736a60e9eeb907d3b93b6e0e5",
    "id": "dc2sbdUe9P3B"
   },
   "source": [
    "import numpy as np # linear algebra\n",
    "import pandas as pd # data processing, CSV file I/O (e.g. pd.read_csv)\n",
    "import matplotlib.pyplot as plt"
   ],
   "outputs": []
  },
  {
   "cell_type": "markdown",
   "metadata": {},
   "source": [
    "# Выбор фреймворка"
   ]
  },
  {
   "cell_type": "markdown",
   "metadata": {},
   "source": [
    "* Фреймворков для глубокого обучения - много\n",
    "* Основные отличия:\n",
    "    * Платформа, язык реализации, язык программирования\n",
    "    * Уровень абстрации\n",
    "    * Интеграции с другими инструментами\n",
    "    * Документация, поддержка сообществом, использование в продуктах/статьях\n",
    "\n",
    "![](https://www.researchgate.net/publication/348837323/figure/fig1/AS:1080270627319819@1634567996480/Popularity-of-deep-learning-frameworks-60.jpg)\n",
    "\n",
    "* Наш выбор (надеюсь) - PyTorch, на текущий момент самый популярный и удобный фреймворк\n",
    "* Есть способы обеспечить совместимость между моделями, обученными и сохраненными в разных фреймворках"
   ]
  },
  {
   "cell_type": "markdown",
   "metadata": {
    "_cell_guid": "79c7e3d0-c299-4dcb-8224-4455121ee9b0",
    "_uuid": "d629ff2d2480ee46fbb7e2d37f6b5fab8052498a",
    "id": "zOe-tTTm9P3D"
   },
   "source": [
    "<a name=\"1\"></a> <br>\n",
    "# Основы PyTorch"
   ]
  },
  {
   "cell_type": "markdown",
   "metadata": {},
   "source": [
    "### Документация\n",
    "\n",
    "https://pytorch.org/docs/stable/index.html"
   ]
  },
  {
   "cell_type": "markdown",
   "metadata": {
    "tags": []
   },
   "source": [
    "### Установка\n",
    "\n",
    "* pip install pytorch - не работает\n",
    "* Актуальные команды для установки - https://pytorch.org/get-started/locally/ "
   ]
  },
  {
   "cell_type": "markdown",
   "metadata": {
    "id": "m-KNr9zuBg0G"
   },
   "source": [
    "### Матрицы\n",
    "- В Pytorch матрицы (массивы, векторы) называются  тензорами (tensors)"
   ]
  },
  {
   "cell_type": "code",
   "execution_count": null,
   "metadata": {
    "_cell_guid": "0a70fde1-b9c4-47c5-aed7-1c863b2fd1e1",
    "_uuid": "d60e9b9f706124117b1d7ffcdeefb45b9aca45e6",
    "colab": {
     "base_uri": "https://localhost:8080/"
    },
    "id": "BEPwNJVA9P3D",
    "outputId": "9d3d3178-6792-4f16-a649-fa2378a81ef1"
   },
   "source": [
    "import numpy as np\n",
    "\n",
    "# numpy array\n",
    "array = [[1, 2, 3], [4, 5, 6]]\n",
    "first_array = np.array(array) # 2x3 array\n",
    "\n",
    "print(\"Array Type: {}\".format(type(first_array))) # type\n",
    "print(\"Array Shape: {}\".format(np.shape(first_array))) # shape\n",
    "print(first_array)"
   ],
   "outputs": []
  },
  {
   "cell_type": "markdown",
   "metadata": {
    "_cell_guid": "042b8e6f-0be6-43a1-96b4-49b32999a208",
    "_uuid": "28a4eb1e95add272552310eacf20740b895e43cd",
    "id": "qcCYHMxC9P3D"
   },
   "source": [
    "- Мы посмотрели на массив из numpy\n",
    "- Теперь создадим из него тензор (массив pytorch):\n",
    "    - Импортируем библиотеку pytorch\n",
    "    - Создаем тензор с помощью метода torch.Tensor()\n",
    "    - type: тип массива\n",
    "    - shape: форма массива"
   ]
  },
  {
   "cell_type": "code",
   "execution_count": null,
   "metadata": {
    "_cell_guid": "b383b085-a18f-4c18-a093-428336b6acf6",
    "_uuid": "126ea635dff4e2a6bc9a828dc560863e3be6aa74",
    "colab": {
     "base_uri": "https://localhost:8080/"
    },
    "id": "4bX4FJ839P3E",
    "outputId": "45b11626-7f60-4d3d-c4f0-13f8ef96918d"
   },
   "source": [
    "# import pytorch library\n",
    "import torch\n",
    "\n",
    "# pytorch array\n",
    "tensor = torch.Tensor(array)\n",
    "\n",
    "print(\"Array Type: {}\".format(tensor.type)) # type\n",
    "print(\"Array Shape: {}\".format(tensor.shape)) # shape\n",
    "print(tensor)"
   ],
   "outputs": []
  },
  {
   "cell_type": "markdown",
   "metadata": {
    "_cell_guid": "e1f7ac29-8aa8-46ff-929f-94f2cedf7541",
    "_uuid": "fa1375fffab5b879eb828de7261e3e436ec15102",
    "id": "YI5tPP629P3E"
   },
   "source": [
    "- Посмотрим, как создать тензор с нуля:"
   ]
  },
  {
   "cell_type": "code",
   "execution_count": null,
   "metadata": {
    "_cell_guid": "741468a5-5d91-48d7-95b0-6d02180d0c09",
    "_uuid": "2d36d68f3b57eef9d8f0ed94885f3376de92b414",
    "colab": {
     "base_uri": "https://localhost:8080/"
    },
    "id": "HEizULUV9P3E",
    "outputId": "507870e2-233f-46b3-9359-eb648e25d219"
   },
   "source": [
    "# numpy ones\n",
    "print(\"Numpy {}\\n\".format(np.ones((2, 3))))\n",
    "\n",
    "# pytorch ones\n",
    "print(torch.ones((2, 3)))"
   ],
   "outputs": []
  },
  {
   "cell_type": "code",
   "execution_count": null,
   "metadata": {
    "_cell_guid": "a578ff9f-df45-4acd-b5ec-2e26b2690adb",
    "_uuid": "1e6b8ce52af8a26ffc39fcd751a834ea7c870a2d",
    "colab": {
     "base_uri": "https://localhost:8080/"
    },
    "id": "w7XBnc0r9P3E",
    "outputId": "7aac3424-4fb2-4646-aefd-31eaff5e9e2c"
   },
   "source": [
    "# numpy random\n",
    "print(\"Numpy {}\\n\".format(np.random.rand(2, 3)))\n",
    "\n",
    "# pytorch random\n",
    "print(torch.rand(2, 3))"
   ],
   "outputs": []
  },
  {
   "cell_type": "markdown",
   "metadata": {
    "_cell_guid": "b5177215-45b5-40c1-b838-2d0e3acb48ba",
    "_uuid": "22b5e44de713f58261bf1ff0b3a52b22a81ef1ef",
    "id": "qphFzVvQ9P3F"
   },
   "source": [
    "- Часто бывает так, что внутри нейронной сети необходимо использовать тензоры из PyTorch, но снаружи - массивы из numpy, для совместимости с другими библиотеками. Поэтому посмотрим, как можно конвертировать одно в другое:\n",
    "    - torch.from_numpy(): from numpy to tensor\n",
    "    - numpy(): from tensor to numpy"
   ]
  },
  {
   "cell_type": "code",
   "execution_count": null,
   "metadata": {
    "_cell_guid": "f2cedc86-bd28-4709-906f-e236f4a4dbbe",
    "_uuid": "c6d3a7b8e0e42fcadecb16264b0563f74d01439a",
    "colab": {
     "base_uri": "https://localhost:8080/"
    },
    "id": "TmgPo8xw9P3F",
    "outputId": "dc3e0ca1-1891-455a-e21f-c6cd63681e59"
   },
   "source": [
    "# random numpy array\n",
    "array = np.random.rand(2, 2)\n",
    "print(\"{} {}\\n\".format(type(array), array))\n",
    "\n",
    "# from numpy to tensor\n",
    "from_numpy_to_tensor = torch.from_numpy(array)\n",
    "print(\"{}\\n\".format(from_numpy_to_tensor))\n",
    "\n",
    "# from tensor to numpy\n",
    "tensor = from_numpy_to_tensor\n",
    "from_tensor_to_numpy = tensor.numpy()\n",
    "print(\"{} {}\\n\".format(type(from_tensor_to_numpy), from_tensor_to_numpy))"
   ],
   "outputs": []
  },
  {
   "cell_type": "markdown",
   "metadata": {
    "_cell_guid": "6d7038e6-6aaf-4a1e-9204-406ab21082a2",
    "_uuid": "42cbe3900b733ab12867612d484d6fffaccd5e31",
    "id": "HifxAEp49P3F"
   },
   "source": [
    "### Базовые операции с тензорами в Pytorch\n",
    "- Изменение размерности: view()\n",
    "- Сложение: torch.add(a,b) = a + b\n",
    "- Вычитание: a.sub(b) = a - b\n",
    "- Поэлементное умножение: torch.mul(a,b) = a * b \n",
    "- Поэлементное деление: torch.div(a,b) = a / b \n",
    "- Среднее значение: a.mean()\n",
    "- Стандартное отклонение: a.std()"
   ]
  },
  {
   "cell_type": "code",
   "execution_count": null,
   "metadata": {
    "_cell_guid": "e43af8e7-53ab-40bc-a4f8-4cea941c6df0",
    "_uuid": "66193cb3c790d13b8328c1c1262e1e3c17230bb8",
    "colab": {
     "base_uri": "https://localhost:8080/"
    },
    "id": "v3BQnAR99P3G",
    "outputId": "9e8f5771-4375-46d1-fa57-3d23367c9b3f"
   },
   "source": [
    "# create tensor \n",
    "tensor = torch.ones(3, 3)\n",
    "print(\"\\n\",tensor)\n",
    "\n",
    "# Resize\n",
    "print(\"{}{}\\n\".format(tensor.view(9).shape,tensor.view(9)))\n",
    "\n",
    "# Addition\n",
    "print(\"Addition: {}\\n\".format(torch.add(tensor,tensor)))\n",
    "\n",
    "# Subtraction\n",
    "print(\"Subtraction: {}\\n\".format(tensor.sub(tensor)))\n",
    "\n",
    "# Element wise multiplication\n",
    "print(\"Element wise multiplication: {}\\n\".format(torch.mul(tensor,tensor)))\n",
    "\n",
    "# Element wise division\n",
    "print(\"Element wise division: {}\\n\".format(torch.div(tensor,tensor)))\n",
    "\n",
    "# Mean\n",
    "tensor = torch.Tensor([1, 2, 3, 4, 5])\n",
    "print(\"Mean: {}\".format(tensor.mean()))\n",
    "\n",
    "# Standart deviation (std)\n",
    "print(\"std: {}\".format(tensor.std()))"
   ],
   "outputs": []
  },
  {
   "cell_type": "markdown",
   "metadata": {
    "_cell_guid": "9fb8b7d4-848a-4d2c-8436-162fd47a0e11",
    "_uuid": "ff85694eebe8d02701e20d7c15b0ad2974175dd3",
    "id": "DUrxYVfb9P3G"
   },
   "source": [
    "### Переменные (Variables)\n",
    "- Сущность, которая накапливает градиент\n",
    "- Мы используем PyTorch для создания нейронной сети. И, как вы знаете, в нейронной сети у нас есть обратное распространение, во время которого вычисляются градиенты\n",
    "- Разница между переменной и тензором заключается в том, что переменная накапливает градиент, передает его другим другим переменным и изменяет свое значение в зависимости от градиента\n",
    "- Мы также можем производить математические операции с переменными как и с обычными тензорами\n",
    "- Для того, чтобы сделать обратное распространение нам нужны переменные"
   ]
  },
  {
   "cell_type": "code",
   "execution_count": null,
   "metadata": {
    "_cell_guid": "fd8ceaa3-f1e2-4761-924e-00a6daca4a82",
    "_uuid": "83e3222b53be71e5fc7207da552ce9e9b90486dd",
    "colab": {
     "base_uri": "https://localhost:8080/"
    },
    "id": "KnYESs8M9P3G",
    "outputId": "7d1a96a0-7fc4-46f7-caed-47b8c69a6621"
   },
   "source": [
    "# import variable from pytorch library\n",
    "import torch\n",
    "from torch.autograd import Variable\n",
    "\n",
    "# define variable\n",
    "var = Variable(torch.ones(3), requires_grad=True)\n",
    "var"
   ],
   "outputs": []
  },
  {
   "cell_type": "markdown",
   "metadata": {
    "_cell_guid": "f5d54144-0753-4e2a-bac1-ccfff3084f6e",
    "_uuid": "1cc3de04f98fc14624a18cceb5a84034b1dc29c7",
    "id": "ltg-TubR9P3H"
   },
   "source": [
    "- Рассмотрим уравнение: y = x^2\n",
    "- Пусть x = [2,4] (тип данных - переменная)\n",
    "- После вычислений: y = [4,16] (y = x^2)\n",
    "- Преобразуем \"y\" в скаляр (аналог функции ошибок): o = (1/2)*sum(y) = (1/2)*sum(x^2)\n",
    "- Производная функции \"o\" равна \"x\"\n",
    "- Соответственно, результат обратного распространения равен [2,4]\n",
    "- В коде:"
   ]
  },
  {
   "cell_type": "code",
   "execution_count": null,
   "metadata": {
    "_cell_guid": "cd73c1cf-d250-48e4-bfb7-ffbe8c03c267",
    "_uuid": "ff4010e2958a72ce45e43118790f3e20dc2abad6",
    "colab": {
     "base_uri": "https://localhost:8080/"
    },
    "id": "ICKwn_eC9P3H",
    "outputId": "30ebd12f-bb88-4aba-f685-776c1d5220bc"
   },
   "source": [
    "array = [2, 4]\n",
    "tensor = torch.Tensor(array)\n",
    "x = Variable(tensor, requires_grad = True)\n",
    "y = x**2\n",
    "print(\" y =  \", y)\n",
    "\n",
    "o = (1 / 2) * sum(y)\n",
    "print(\" o =  \", o)\n",
    "\n",
    "o.backward()\n",
    "\n",
    "print(\"gradients: \", x.grad)"
   ],
   "outputs": []
  },
  {
   "cell_type": "markdown",
   "metadata": {},
   "source": [
    "### Выбор устройства"
   ]
  },
  {
   "cell_type": "code",
   "execution_count": null,
   "metadata": {},
   "source": [
    "import torch\n",
    "\n",
    "device = torch.device(\"cuda:0\" if torch.cuda.is_available() else \"cpu\")\n",
    "device"
   ],
   "outputs": []
  },
  {
   "cell_type": "code",
   "execution_count": null,
   "metadata": {},
   "source": [
    "model.to(device)"
   ],
   "outputs": []
  },
  {
   "attachments": {
    "e8751c36-93e6-47de-b63e-769692f81a61.png": {
     "image/png": "[encoded data removed]"
    }
   },
   "cell_type": "markdown",
   "metadata": {},
   "source": [
    "Как проверить наличие GPU и его характеристики:\n",
    "\n",
    "```!nvidia-smi``` - \"снимок\" текущего состояния\n",
    "\n",
    "```!watch nvidia-smi``` - с обновлением (полезно для мониторинга нагрузки)\n",
    "\n",
    "Пример вывода:\n",
    "\n",
    "![image.png](attachment:e8751c36-93e6-47de-b63e-769692f81a61.png)"
   ]
  },
  {
   "cell_type": "markdown",
   "metadata": {
    "_cell_guid": "4d38db05-fad0-468c-9000-20caf5465eca",
    "_uuid": "ea9eba414f2f0f1e63ef564dc0ee708c753ff51f",
    "id": "H1HgPXnu9P3K"
   },
   "source": [
    "<a name=\"2\"></a> <br>\n",
    "# Artificial Neural Network (ANN)\n",
    "- Логистическая регрессия хороша для классификации, но когда сложность задачи (нелинейность) увеличивается, точность такой модели снижается\n",
    "- Следовательно, нам нужно увеличить сложность модели\n",
    "- Чтобы увеличить сложность модели, нужно добавить больше нелинейных функций в качестве скрытых слоя\n",
    "- Мы ожидаем от искусственной нейронной сети, что при увеличении сложности задачи мы используем больше скрытых слоев, и наша модель лучше адаптируется к данным, в результате чего повышается точность\n",
    "\n",
    "- **Пошагово разберем создание ANN:**\n",
    "    1. Импорт библиотек\n",
    "    1. Подготовка датасета\n",
    "        - Используем набор данных MNIST\n",
    "        - Он состоит из изображений 28*28 пикселей и 10 меток классов от 0 до 9\n",
    "        - Значения пикселей ограничены отрезком [0, 255], поэтому делим каждый пиксель на 255 и получаем значение от 0 до 1 (базовая нормализация изображений)\n",
    "        - Чтобы разделить данные, мы используем метод train_test_split из библиотеки sklearn\n",
    "        - Размер данных для обучения составляет 80% выборки, а размер тестовых данных — 20%\n",
    "        - batch_size = размер порции данных для одной итерации обновления параметров. Есть три режима:\n",
    "            - Batch - весь датасет\n",
    "            - Mini-batch - несколько примеров\n",
    "            - Stochastic batch - один пример из датасета\n",
    "        \n",
    "        Интуитивно понятно, что лучше всего прогнать весь набор данных через модель, посчитать общую ошибку и сделать обратное распространение исходя из нее. Например, если мы взяли только часть данных, то мы не уверены, что эта подвыборка повторяет распределение базовой выборки, т.е. модель не увидит все взаимосвязи в данных и мы посчитаем ошибку только на части данных. Но - чем больше данных в батче, тем дольше обучать модель и тем больше места нужно на GPU. Получается, нам выгоднее изменять веса модели как можно чаще - например, обучаясь на одном примере за раз. Этот метод называется стохастическим (случайным) градиентным спуском. Но тогда модель рискует очень быстро попасть в локальный экстремум и не выбраться оттуда.\n",
    "        \n",
    "        И первый вариант, и второй - экстремальные случаи. Гораздо лучше брать небольшой кусок данных (8-16-32-64 примера) и делать обратное распространение ошибки на нем. Так соблюдается баланс между скоростью и качеством обучения.\n",
    "\n",
    "        - epoch: одна эпоха означает полное прохождение по обучающему датасету\n",
    "        - TensorDataset(): обертка для датасета, где данные преобразуются в тензоры\n",
    "        - DataLoader(): обертка для TensorDataset-а, предлагающая удобное итерирование по данным\n",
    "        - Визуализируем одно из изображений датасета\n",
    "    1. Создаем модель:\n",
    "        - 3 скрытых слоя\n",
    "        - Используем функции активации ReLU, Tanh и ELU (для разнообразия)\n",
    "        ![image.png](data:image/png;base64,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)\n",
    "        - input_dim = 28*28  # Размер входных данных\n",
    "        - output_dim = 10  # Метки класса - 0, 1, 2, 3, 4, 5, 6, 7, 8, 9\n",
    "        - Размер скрытого слоя - 150. Это гиперпараметр\n",
    "    1. Выбираем функцию потерь\n",
    "        - Cross entropy loss\n",
    "    1. Выбираем оптимизатор (Optimizer)\n",
    "        - SGD Optimizer\n",
    "    1. Обучаем модель\n",
    "        - Пишем свою процедуру обучения или используем готовую/специальный объект\n",
    "    1. Прогнозируем\n",
    "- В результате, как вы можете видеть на графике, при уменьшении значения функции потерь точность увеличивается"
   ]
  },
  {
   "cell_type": "code",
   "execution_count": null,
   "metadata": {
    "_cell_guid": "6925f8ed-54b7-4d9a-9801-acd65f213bc9",
    "_uuid": "cf25ee4b28129a47bac4c9dc7d932295155b79f7",
    "id": "_5gz-57q9P3L"
   },
   "source": [
    "import torch\n",
    "import torch.nn as nn\n",
    "from torch.autograd import Variable\n",
    "from torch.utils.data import DataLoader\n",
    "import pandas as pd\n",
    "from sklearn.model_selection import train_test_split"
   ],
   "outputs": []
  },
  {
   "cell_type": "markdown",
   "metadata": {
    "id": "v-vdR944XsPm"
   },
   "source": [
    "Датасет качаем из соревнования https://www.kaggle.com/competitions/digit-recognizer/data"
   ]
  },
  {
   "cell_type": "code",
   "execution_count": null,
   "metadata": {
    "_cell_guid": "59cdc9d5-da8f-4d7a-abc5-c62b0008afb0",
    "_uuid": "c6e0d7d3843719091564a580dbe08f67ee0d93ec",
    "colab": {
     "base_uri": "https://localhost:8080/",
     "height": 264
    },
    "id": "2Q57MQT19P3J",
    "outputId": "e7542507-8872-4a50-8234-974397205bf9"
   },
   "source": [
    "# Prepare Dataset\n",
    "# load data\n",
    "train = pd.read_csv(r\"train.csv\",dtype = np.float32)\n",
    "\n",
    "# split data into features(pixels) and labels(numbers from 0 to 9)\n",
    "targets_numpy = train.label.values\n",
    "features_numpy = train.loc[:,train.columns != \"label\"].values/255 # normalization\n",
    "\n",
    "# train test split. Size of train data is 80% and size of test data is 20%\n",
    "features_train, features_test, targets_train, targets_test = train_test_split(features_numpy,\n",
    "                                                                             targets_numpy,\n",
    "                                                                             test_size = 0.2,\n",
    "                                                                             random_state = 42) \n",
    "\n",
    "# Create feature and targets tensor for train set\n",
    "# As you remember we need variable to accumulate gradients\n",
    "# Therefore first we create tensor, then we will create variable\n",
    "featuresTrain = torch.from_numpy(features_train)\n",
    "targetsTrain = torch.from_numpy(targets_train).type(torch.LongTensor) # data type is long\n",
    "\n",
    "# create feature and targets tensor for test set\n",
    "featuresTest = torch.from_numpy(features_test)\n",
    "targetsTest = torch.from_numpy(targets_test).type(torch.LongTensor) # data type is long\n",
    "\n",
    "# batch_size, epoch and iteration\n",
    "batch_size = 64\n",
    "num_epochs = 10\n",
    "\n",
    "# Pytorch train and test sets\n",
    "train = torch.utils.data.TensorDataset(featuresTrain, targetsTrain)\n",
    "test = torch.utils.data.TensorDataset(featuresTest, targetsTest)\n",
    "\n",
    "# data loader\n",
    "train_loader = DataLoader(train, batch_size=batch_size, shuffle=False)\n",
    "test_loader = DataLoader(test, batch_size=batch_size, shuffle=False)\n",
    "\n",
    "# visualize one of the images in data set\n",
    "plt.imshow(features_numpy[10].reshape(28, 28))\n",
    "plt.axis(\"off\")\n",
    "plt.title(str(targets_numpy[10]))\n",
    "plt.savefig('graph.png')\n",
    "plt.show()"
   ],
   "outputs": []
  },
  {
   "cell_type": "code",
   "execution_count": null,
   "metadata": {
    "_cell_guid": "3472f1c1-5888-4abe-822c-3a493a5f8be5",
    "_uuid": "cefd0bb2f23b80f30ca65cbb08859ad81ab12e08",
    "id": "ArlZIpeZ9P3L"
   },
   "source": [
    "# Create ANN Model\n",
    "class ANNModel(nn.Module):\n",
    "    \n",
    "    def __init__(self, input_dim, hidden_dim, output_dim):\n",
    "        super(ANNModel, self).__init__()\n",
    "        \n",
    "        # Linear function 1: 784 --> 150\n",
    "        self.fc1 = nn.Linear(input_dim, hidden_dim) \n",
    "        # Non-linearity 1\n",
    "        self.relu1 = nn.ReLU()\n",
    "        \n",
    "        # Linear function 2: 150 --> 150\n",
    "        self.fc2 = nn.Linear(hidden_dim, hidden_dim)\n",
    "        # Non-linearity 2\n",
    "        self.tanh2 = nn.Tanh()\n",
    "        \n",
    "        # Linear function 3: 150 --> 150\n",
    "        self.fc3 = nn.Linear(hidden_dim, hidden_dim)\n",
    "        # Non-linearity 3\n",
    "        self.elu3 = nn.ELU()\n",
    "        \n",
    "        # Linear function 4 (readout): 150 --> 10\n",
    "        self.fc4 = nn.Linear(hidden_dim, output_dim)  \n",
    "    \n",
    "    def forward(self, x):\n",
    "        # Linear function 1\n",
    "        out = self.fc1(x)\n",
    "        # Non-linearity 1\n",
    "        out = self.relu1(out)\n",
    "        \n",
    "        # Linear function 2\n",
    "        out = self.fc2(out)\n",
    "        # Non-linearity 2\n",
    "        out = self.tanh2(out)\n",
    "        \n",
    "        # Linear function 2\n",
    "        out = self.fc3(out)\n",
    "        # Non-linearity 2\n",
    "        out = self.elu3(out)\n",
    "        \n",
    "        # Linear function 4 (readout)\n",
    "        out = self.fc4(out)\n",
    "        return out\n",
    "\n",
    "\n",
    "# Другой способ определить модель (Sequentional API):\n",
    "\n",
    "# model = nn.Sequential(\n",
    "#           nn.Linear(input_dim, hidden_dim),\n",
    "#           nn.ReLU(),\n",
    "#           nn.Linear(hidden_dim, hidden_dim),\n",
    "#           nn.Tanh(),\n",
    "#           nn.Linear(hidden_dim, hidden_dim),\n",
    "#           nn.ELU(),\n",
    "#           nn.Linear(hidden_dim, output_dim),\n",
    "#         )\n",
    "\n",
    "\n",
    "# instantiate ANN\n",
    "input_dim = 28 * 28\n",
    "hidden_dim = 150 #hidden layer dim is one of the hyper parameter and it should be chosen and tuned. For now I only say 150 there is no reason.\n",
    "output_dim = 10\n",
    "\n",
    "# Create ANN\n",
    "model = ANNModel(input_dim, hidden_dim, output_dim)\n",
    "\n",
    "# Cross Entropy Loss \n",
    "# Функция потерь определяется решаемой задачей\n",
    "error = nn.CrossEntropyLoss()\n",
    "\n",
    "# SGD Optimizer\n",
    "# Подбор оптимизаторая и скорости обучения - отдельная задача\n",
    "# Обсудим это попозже\n",
    "learning_rate = 0.02\n",
    "optimizer = torch.optim.SGD(model.parameters(), lr=learning_rate)"
   ],
   "outputs": []
  },
  {
   "cell_type": "code",
   "execution_count": null,
   "metadata": {
    "_cell_guid": "7550e98b-5011-4d09-88ee-97b0ecbc6f19",
    "_uuid": "c91694f3af94e4e1b76ab01489e186718c70ccd3",
    "colab": {
     "base_uri": "https://localhost:8080/"
    },
    "id": "IQ93Vw3k9P3L",
    "outputId": "1ca03b41-b5b6-45ef-e692-82c227e6c4c7"
   },
   "source": [
    "# Стандартная процедура обучения нейронной сети в PyTorch\n",
    "\n",
    "# Создаем счетчик и структуры для хранения данных для визуализации\n",
    "count = 0\n",
    "loss_list = []\n",
    "iteration_list = []\n",
    "accuracy_list = []\n",
    "\n",
    "# Итерируемся по эпохам \n",
    "for epoch in range(num_epochs):\n",
    "    # В рамках эпохи проходим полностью по обучающим данным \n",
    "    for i, (images, labels) in enumerate(train_loader):\n",
    "        # Очищаем градиенты, накопленные на прошлой итерации\n",
    "        optimizer.zero_grad()\n",
    "        \n",
    "        # Делаем прямое распространеие\n",
    "        outputs = model(images)\n",
    "        \n",
    "        # Считаем ошибку\n",
    "        loss = error(outputs, labels)\n",
    "        \n",
    "        # Делаем обратное распространение ошибки\n",
    "        loss.backward()\n",
    "\n",
    "        # Обновляем параметры (веса)\n",
    "        optimizer.step()\n",
    "        \n",
    "        count += 1\n",
    "        \n",
    "        # Раз в определенное число итераций проводим тестирование качества\n",
    "        # модели на отложенной выборке\n",
    "        if count % 50 == 0:\n",
    "            # Вручную посчитаем Accurary - долю правильно угаданных объектов   \n",
    "            correct = 0\n",
    "            total = 0\n",
    "\n",
    "            for images, labels in test_loader:                \n",
    "                # Прямое распространение\n",
    "                outputs = model(images)\n",
    "                \n",
    "                # Мы задали размер выходного слоя как 10 - по количеству классов\n",
    "                # Так же помним, что на вход мы подавали batch_size примеров\n",
    "                # Соответственно, на выходе имеем тензор размерности (64, 10),\n",
    "                # где для каждого объекта определены 10 чисел\n",
    "                # Индекс (номер) наибольшего числа и есть ответ\n",
    "\n",
    "                # Функция torch.max возвращает два массива - значения и индексы \n",
    "                # наибольших элементов по заданной оси\n",
    "                # Нам интересны индексы (второй массив)\n",
    "                predicted = torch.max(outputs.data, 1)[1]\n",
    "                \n",
    "                # Total number of labels\n",
    "                total += len(labels)\n",
    "\n",
    "                # Total correct predictions\n",
    "                correct += (predicted == labels).sum()\n",
    "            \n",
    "            accuracy = 100 * correct / float(total)\n",
    "            \n",
    "            # Сохраняем значение функции потерь, числа итераций и точности\n",
    "            loss_list.append(loss.data)\n",
    "            iteration_list.append(count)\n",
    "            accuracy_list.append(accuracy)\n",
    "\n",
    "        # Раз в определенное количество итераций логгируем текущие результаты,\n",
    "        # чтобы видеть процесс обучения модели\n",
    "        if count % 500 == 0:\n",
    "            print('Iteration: {}  Loss: {}  Accuracy: {} %'.format(count, loss.data, accuracy))"
   ],
   "outputs": []
  },
  {
   "cell_type": "code",
   "execution_count": null,
   "metadata": {
    "_cell_guid": "5579a7d6-7766-4d0f-b9d0-584cb4f28321",
    "_uuid": "c5e2e6da7f1ee801e38358dc28d4c99e32d2b761",
    "colab": {
     "base_uri": "https://localhost:8080/",
     "height": 573
    },
    "id": "DxkXbDcy9P3L",
    "outputId": "bb2e967c-5ecc-4c4e-e709-962bce1a8f00"
   },
   "source": [
    "# visualization loss \n",
    "plt.plot(iteration_list,loss_list)\n",
    "plt.xlabel(\"Number of iteration\")\n",
    "plt.ylabel(\"Loss\")\n",
    "plt.title(\"ANN: Loss vs Number of iteration\")\n",
    "plt.show()\n",
    "\n",
    "# visualization accuracy \n",
    "plt.plot(iteration_list,accuracy_list,color = \"red\")\n",
    "plt.xlabel(\"Number of iteration\")\n",
    "plt.ylabel(\"Accuracy\")\n",
    "plt.title(\"ANN: Accuracy vs Number of iteration\")\n",
    "plt.show()"
   ],
   "outputs": []
  },
  {
   "cell_type": "markdown",
   "metadata": {
    "_cell_guid": "50bbb2e7-15d8-47f5-8f31-25e0d0cb9e29",
    "_uuid": "cd8f261d231acaccd0f0bc8466fc28c1b0c2f567",
    "id": "_04AG6OE9P3L"
   },
   "source": [
    "<a name=\"3\"></a> <br>\n",
    "# Convolutional Neural Network (CNN)\n",
    "- CNN лучше подходит для обработки изображений\n",
    "- Все аналогично предыдущей сети, кроме пары слоев\n",
    "\n",
    "\n",
    "        "
   ]
  },
  {
   "cell_type": "code",
   "execution_count": null,
   "metadata": {
    "_cell_guid": "abbc86d1-f677-4d4b-9b7b-09c7f9962288",
    "_uuid": "c78fdf4401cb34db0d963df0249bf92144bc5fbd",
    "id": "k9-7mcc39P3M"
   },
   "source": [
    "# Import Libraries\n",
    "import torch\n",
    "import torch.nn as nn\n",
    "from torch.autograd import Variable"
   ],
   "outputs": []
  },
  {
   "cell_type": "code",
   "execution_count": null,
   "metadata": {
    "_cell_guid": "9ca5af9e-6821-4d60-8084-edb523a39c6b",
    "_uuid": "4915535771ffdd33ef480200393216f215b4fc48",
    "id": "ZPvXnXo49P3M"
   },
   "source": [
    "# Create CNN Model\n",
    "class CNNModel(nn.Module):\n",
    "    def __init__(self):\n",
    "        super(CNNModel, self).__init__()\n",
    "        \n",
    "        # Convolution 1\n",
    "        self.cnn1 = nn.Conv2d(in_channels=1, out_channels=16, kernel_size=5, stride=1, padding=0)\n",
    "        self.relu1 = nn.ReLU()\n",
    "        \n",
    "        # Max pool 1\n",
    "        self.maxpool1 = nn.MaxPool2d(kernel_size=2)\n",
    "     \n",
    "        # Convolution 2\n",
    "        self.cnn2 = nn.Conv2d(in_channels=16, out_channels=32, kernel_size=5, stride=1, padding=0)\n",
    "        self.relu2 = nn.ReLU()\n",
    "        \n",
    "        # Max pool 2\n",
    "        self.maxpool2 = nn.MaxPool2d(kernel_size=2)\n",
    "        \n",
    "        # Fully connected 1\n",
    "        self.fc1 = nn.Linear(32 * 4 * 4, 10) \n",
    "    \n",
    "    def forward(self, x):\n",
    "        # Convolution 1\n",
    "        out = self.cnn1(x)\n",
    "        out = self.relu1(out)\n",
    "        \n",
    "        # Max pool 1\n",
    "        out = self.maxpool1(out)\n",
    "        \n",
    "        # Convolution 2 \n",
    "        out = self.cnn2(out)\n",
    "        out = self.relu2(out)\n",
    "        \n",
    "        # Max pool 2 \n",
    "        out = self.maxpool2(out)\n",
    "        \n",
    "        # flatten\n",
    "        out = out.view(out.size(0), -1)\n",
    "\n",
    "        # Linear function (readout)\n",
    "        out = self.fc1(out)\n",
    "        \n",
    "        return out\n",
    "\n",
    "# batch_size, epoch and iteration\n",
    "batch_size = 64\n",
    "num_epochs = 5\n",
    "\n",
    "# Pytorch train and test sets\n",
    "train = torch.utils.data.TensorDataset(featuresTrain, targetsTrain)\n",
    "test = torch.utils.data.TensorDataset(featuresTest, targetsTest)\n",
    "\n",
    "# data loader\n",
    "train_loader = torch.utils.data.DataLoader(train, batch_size=batch_size, shuffle=False)\n",
    "test_loader = torch.utils.data.DataLoader(test, batch_size=batch_size, shuffle=False)\n",
    "    \n",
    "# Create CNN\n",
    "model = CNNModel()\n",
    "\n",
    "# Cross Entropy Loss \n",
    "error = nn.CrossEntropyLoss()\n",
    "\n",
    "# SGD Optimizer\n",
    "learning_rate = 0.1\n",
    "optimizer = torch.optim.SGD(model.parameters(), lr=learning_rate)\n"
   ],
   "outputs": []
  },
  {
   "cell_type": "code",
   "execution_count": null,
   "metadata": {
    "_cell_guid": "99a8903c-da15-496c-96b7-f5402c8fc5f0",
    "_uuid": "f44e02d25698ac1a014795d972a384a3f3003d35",
    "colab": {
     "base_uri": "https://localhost:8080/"
    },
    "id": "HOmWr5P89P3M",
    "outputId": "88562886-40eb-4456-c90d-b5d4acb08d86"
   },
   "source": [
    "# CNN model training\n",
    "count = 0\n",
    "loss_list = []\n",
    "iteration_list = []\n",
    "accuracy_list = []\n",
    "\n",
    "for epoch in range(num_epochs):\n",
    "    for i, (images, labels) in enumerate(train_loader):\n",
    "        \n",
    "        train = Variable(images.view(images.shape[0], 1, 28, 28))\n",
    "        labels = Variable(labels)\n",
    "\n",
    "        optimizer.zero_grad()\n",
    "     \n",
    "        outputs = model(train)\n",
    "\n",
    "        loss = error(outputs, labels)\n",
    "     \n",
    "        loss.backward()\n",
    "        \n",
    "        optimizer.step()\n",
    "        \n",
    "        count += 1\n",
    "        \n",
    "        if count % 50 == 0:\n",
    "            # Calculate Accuracy         \n",
    "            correct = 0\n",
    "            total = 0\n",
    "            # Iterate through test dataset\n",
    "            for images, labels in test_loader:\n",
    "          \n",
    "                test = Variable(images.view(images.shape[0], 1, 28, 28))\n",
    "                \n",
    "                outputs = model(test)\n",
    "    \n",
    "                predicted = torch.max(outputs.data, 1)[1]\n",
    "              \n",
    "                total += len(labels)\n",
    "                \n",
    "                correct += (predicted == labels).sum()\n",
    "            \n",
    "            accuracy = 100 * correct / float(total)\n",
    "          \n",
    "            loss_list.append(loss.data)\n",
    "            iteration_list.append(count)\n",
    "            accuracy_list.append(accuracy)\n",
    "            \n",
    "        if count % 500 == 0:\n",
    "            # Print Loss\n",
    "            print('Iteration: {}  Loss: {}  Accuracy: {} %'.format(count, loss.data, accuracy))"
   ],
   "outputs": []
  },
  {
   "cell_type": "code",
   "execution_count": null,
   "metadata": {
    "_cell_guid": "ac9e4aee-b8af-4641-8794-bad03b650179",
    "_uuid": "44c1ed412d778f3e6b08f11bddc5321f63e408dd",
    "colab": {
     "base_uri": "https://localhost:8080/",
     "height": 573
    },
    "id": "rDdZlgV59P3M",
    "outputId": "9f8d121c-3888-41c4-9bef-8aa02f7906bd"
   },
   "source": [
    "# visualization loss \n",
    "plt.plot(iteration_list,loss_list)\n",
    "plt.xlabel(\"Number of iteration\")\n",
    "plt.ylabel(\"Loss\")\n",
    "plt.title(\"CNN: Loss vs Number of iteration\")\n",
    "plt.show()\n",
    "\n",
    "# visualization accuracy \n",
    "plt.plot(iteration_list,accuracy_list,color = \"red\")\n",
    "plt.xlabel(\"Number of iteration\")\n",
    "plt.ylabel(\"Accuracy\")\n",
    "plt.title(\"CNN: Accuracy vs Number of iteration\")\n",
    "plt.show()"
   ],
   "outputs": []
  }
 ],
 "metadata": {
  "colab": {
   "collapsed_sections": [],
   "provenance": [],
   "toc_visible": true
  },
  "kernelspec": {
   "display_name": "Python 3 (ipykernel)",
   "language": "python",
   "name": "python3"
  },
  "language_info": {
   "codemirror_mode": {
    "name": "ipython",
    "version": 3
   },
   "file_extension": ".py",
   "mimetype": "text/x-python",
   "name": "python",
   "nbconvert_exporter": "python",
   "pygments_lexer": "ipython3",
   "version": "3.11.4"
  }
 },
 "nbformat": 4,
 "nbformat_minor": 4
}
