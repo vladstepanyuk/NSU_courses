{
 "cells": [
  {
   "cell_type": "markdown",
   "id": "a1a1b07a-b7d4-4bb9-8743-3d9dcee2bacd",
   "metadata": {
    "tags": []
   },
   "source": [
    "# NSK SHAD, Sem 10 - Введение в глубокое обучение"
   ]
  },
  {
   "cell_type": "markdown",
   "id": "c7d63a57-8845-4cdf-a6c1-1652f26a06ac",
   "metadata": {},
   "source": [
    "# Структура оставшейся части курса"
   ]
  },
  {
   "cell_type": "markdown",
   "id": "69500568-f12c-4ff3-852a-49b569b6a767",
   "metadata": {},
   "source": [
    "### Введение в DL. Нейронные сети как последовательность диф. преобразований\n",
    "1. Активации, линейные слои, вот это все.\n",
    "2. Backpropagation сюда же.\n",
    "\n",
    "### Проблемы работы с нейронными сетями и их решения. Методы регуляризации в нейронных сетях.\n",
    "1. Подбор гиперпараметров, lr\n",
    "2. Неустойчивость сходимости\n",
    "3. Регуляризация в нейронных сетях\n",
    "\n",
    "### Работа с данными, обладающими структурой: последовательности\n",
    "1. Марковское свойство, RNN\n",
    "\n",
    "### Работа с данными, обладающими структурой: изображения\n",
    "1. Инвариантность, эквивариантность, операция свертки\n",
    "\n",
    "### Механизм внимания. Attention & Self-attention\n",
    "1. Базово про (nano)GPT, ViT на примере задач из предыдущих занятий\n",
    "\n",
    "### Опционально - Построение представлений. Автоэнкодеры "
   ]
  },
  {
   "cell_type": "markdown",
   "id": "9084e000-3057-4a18-aa93-8e31458e1369",
   "metadata": {
    "tags": []
   },
   "source": [
    "# Экспресс введение в DL"
   ]
  },
  {
   "cell_type": "markdown",
   "id": "a226af62-4796-4dbb-b317-b3134abe43b5",
   "metadata": {
    "tags": []
   },
   "source": [
    "* **Deep learning:** один из методов машинного обучения, в котором признаки извлекаются непосредственно из данных при минимальном участии человека\n",
    "* **Почему понадобился deep learning:** когда объем данных сильно увеличивается, методы классического анализа данных становится сложнее использовать в виду более сложного анализа данных. Deep learning помогает обрабатывать большие объемы данных автоматически, при этом зачастую обеспечивает лучшее качество\n",
    "\n",
    "<a href=\"http://ibb.co/m2bxcc\"><img src=\"http://preview.ibb.co/d3CEOH/1.png\" alt=\"1\" border=\"0\"></a>\n",
    "* **Что такое \"много данных?\":** Трудно ответить, но интуитивно достаточно 1 миллиона объектов, чтобы сказать «большой объем данных». Не путать с термином \"BigData\" - это такой объем данных, для обработки которого нужны специальные распределенные и отказоустойчивые системы (\"BigData\" - это данные, не помещающиеся на одном компьюетере)\n",
    "* **Области применения deep learning:** распознавание речи, классификация изображений, обработка естественного языка (NLP), рекомендательные системы\n",
    "* **Deep learning и machine learning:** \n",
    "    * Глубокое обучение - это область машинного обучения\n",
    "    * В машинном обучении признаки генерируются вручную\n",
    "    * Глубокое обучение извлекает признаки непосредственно из данных\n",
    "\n",
    "<a href=\"http://ibb.co/f8Epqx\"><img src=\"http://preview.ibb.co/hgpNAx/2.png\" alt=\"2\" border=\"0\"></a>"
   ]
  },
  {
   "cell_type": "markdown",
   "id": "213dfbef-c26f-4e14-a593-91bdd3261c3e",
   "metadata": {},
   "source": [
    "Рассмотрим на примере"
   ]
  },
  {
   "cell_type": "code",
   "execution_count": 3,
   "id": "03ca1f91-7162-4e08-87ee-b38eb26d6e5d",
   "metadata": {
    "_cell_guid": "6fe1e8d5-b36d-4e39-9a9b-34618b5e275e",
    "_uuid": "79f18357b846d2cd91e0f7b2389e1dba8097cbdb",
    "id": "bX9SnSnzLPu9"
   },
   "source": [
    "import numpy as np \n",
    "import pandas as pd \n",
    "import matplotlib.pyplot as plt\n",
    "import warnings\n",
    "warnings.filterwarnings('ignore')"
   ],
   "outputs": []
  },
  {
   "cell_type": "markdown",
   "id": "858a68d2-86f7-4fc3-88a8-f1230355512b",
   "metadata": {
    "_cell_guid": "62bb7abd-122c-4f87-97ad-eb203e9dea1f",
    "_uuid": "3e3e94ca5c9349ac36416482d30af378966c7a8a",
    "id": "owRsUjvcLPu_"
   },
   "source": [
    "<a name=\"2\"></a> <br>\n",
    "## Обзор данных\n",
    "\n",
    "* В качестве датасета рассмотрим «цифры языка жестов» - https://www.kaggle.com/datasets/ardamavi/sign-language-digits-dataset\n",
    "* В этих данных содержится 2062 изображения цифр жестового языка\n",
    "* Следовательно, существует 10 уникальных цифр (классов)\n",
    "* Сначала будем использовать только знаки 0 и 1 для простоты"
   ]
  },
  {
   "cell_type": "code",
   "execution_count": 4,
   "id": "f0d28b01-3c79-48aa-b010-a3354c1eceaf",
   "metadata": {
    "_cell_guid": "4768ce70-3e7f-4ac9-8764-642e88006b77",
    "_uuid": "d6b38399b27c2d723750c0b4f8787a7d6d0025ea",
    "colab": {
     "base_uri": "https://localhost:8080/",
     "height": 200
    },
    "id": "d7RK-Vq9LPu_",
    "outputId": "a4662fa9-68fd-4d07-d41e-f289d8d1ac19"
   },
   "source": [
    "# load data set\n",
    "x_l = np.load('X.npy')\n",
    "Y_l = np.load('Y.npy')\n",
    "img_size = 64\n",
    "plt.subplot(1, 2, 1)\n",
    "plt.imshow(x_l[260].reshape(img_size, img_size))\n",
    "plt.axis('off')\n",
    "plt.subplot(1, 2, 2)\n",
    "plt.imshow(x_l[900].reshape(img_size, img_size))\n",
    "plt.axis('off')"
   ],
   "outputs": []
  },
  {
   "cell_type": "markdown",
   "id": "a0d13b09-0433-43bc-a0ac-f448afc29f14",
   "metadata": {
    "_cell_guid": "1c9cf8f2-f318-4f69-b92e-9c1bfe78c2c7",
    "_uuid": "c12d1854c6f5fb43c8f081083a441585ed48dc93",
    "id": "PMcncmS2LPvA"
   },
   "source": [
    "* Чтобы создать массив изображений, объединяем массивы изображениями для нуля и единицы\n",
    "* Затем создаем массив меток 0 для изображений с нулевым знаком и 1 для изображений с одним знаком"
   ]
  },
  {
   "cell_type": "code",
   "execution_count": 5,
   "id": "8dfecc3f-d9b8-406f-88bc-504a72a5b5b9",
   "metadata": {
    "_cell_guid": "88a9b18b-12c7-46d6-8370-e2f02b55dd7a",
    "_uuid": "ad417f6189b0d9476388d92b6be09c887f7f1a40",
    "colab": {
     "base_uri": "https://localhost:8080/"
    },
    "id": "lFYTVgaFLPvA",
    "outputId": "7ea9003c-2097-4470-cf62-1eb205bb286c"
   },
   "source": [
    "# Join a sequence of arrays along an row axis.\n",
    "X = np.concatenate((x_l[204:409], x_l[822:1027] ), axis=0) # from 0 to 204 is zero sign and from 205 to 410 is one sign \n",
    "z = np.zeros(205)\n",
    "o = np.ones(205)\n",
    "Y = np.concatenate((z, o), axis=0).reshape(X.shape[0], 1)\n",
    "print(\"X shape:\", X.shape)\n",
    "print(\"Y shape:\", Y.shape)"
   ],
   "outputs": []
  },
  {
   "cell_type": "markdown",
   "id": "ccddaf28-79f5-438a-97a8-9dcacd0b0093",
   "metadata": {
    "_cell_guid": "d6024477-cf34-40f9-b079-8388b5146e1b",
    "_uuid": "a999c02e74af603d65a4442842d739aa351f593c",
    "id": "nQ1EWNBMLPvB"
   },
   "source": [
    "* Shape (размерность) X - (410, 64, 64)\n",
    "     * 410 означает, что у нас есть 410 изображений (знаки ноль и единица)\n",
    "     * 64, 64 означает, что размер нашего изображения 64x64 (64x64 пикселя)\n",
    "* Размерность Y - (410, 1)\n",
    "     * 410 означает, что у нас 410 меток (0 и 1)\n",
    "\n",
    "\n",
    "Разделим X и Y на обучающую и тестовую выборки:\n",
    "\n",
    "* test_size - доля тестовой выборки (15%)\n",
    "* random_state (random_seed) - рекомендуется использовать одно и то же значение при рандомизации для воспроизводимости результатов"
   ]
  },
  {
   "cell_type": "code",
   "execution_count": 6,
   "id": "e4abbca7-ff23-4f92-963d-259e181c2f5a",
   "metadata": {
    "_cell_guid": "00db1f03-75d3-48dc-a6fb-824a58790d42",
    "_uuid": "82869efdb6890ede1899c1bc8c90fa8b1caceec3",
    "id": "KtoKzqjTLPvB"
   },
   "source": [
    "# Then lets create x_train, y_train, x_test, y_test arrays\n",
    "from sklearn.model_selection import train_test_split\n",
    "\n",
    "X_train, X_test, Y_train, Y_test = train_test_split(X, Y, test_size=0.15, random_state=42)\n",
    "number_of_train = X_train.shape[0]\n",
    "number_of_test = X_test.shape[0]"
   ],
   "outputs": []
  },
  {
   "cell_type": "markdown",
   "id": "156fc595-40e3-4d68-a122-65964dfca3f9",
   "metadata": {
    "_cell_guid": "4bb55e07-cabb-46ce-b21a-fe4a7b34995f",
    "_uuid": "e294dc952e7ba34569162a8965680ead8edd2834",
    "id": "tQKSSkmhLPvC"
   },
   "source": [
    "* Теперь у нас есть трехмерный входной массив (X). Нам нужно сделать его плоским (2D), чтобы использовать его в качестве входных данных для нашей первой модели глубокого обучения\n",
    "* Наш массив меток (Y) уже сглажен (2D), поэтому мы оставляем как есть"
   ]
  },
  {
   "cell_type": "code",
   "execution_count": 7,
   "id": "41187612-784d-485a-b2fe-6df675eb8c0e",
   "metadata": {
    "_cell_guid": "f5937123-1e16-4036-844b-f498ed42e504",
    "_uuid": "f8b7203144bc85873d960f765e2bb3e711b57f30",
    "colab": {
     "base_uri": "https://localhost:8080/"
    },
    "id": "_o9UyUXdLPvC",
    "outputId": "92d91884-3054-4179-ce44-3cf3f7ab4edf"
   },
   "source": [
    "X_train_flatten = X_train.reshape(number_of_train, X_train.shape[1] * X_train.shape[2])\n",
    "X_test_flatten = X_test .reshape(number_of_test, X_test.shape[1] * X_test.shape[2])\n",
    "print(\"X train flatten\", X_train_flatten.shape)\n",
    "print(\"X test flatten\", X_test_flatten.shape)"
   ],
   "outputs": []
  },
  {
   "cell_type": "markdown",
   "id": "7e149268-c1b7-4349-871e-fa630e75d781",
   "metadata": {
    "_cell_guid": "dab40a5b-e319-4807-a608-12065d860847",
    "_uuid": "cb26fc242ffcae8bf8f164d32dc9c5436e8312fc",
    "id": "3K8ikJKTLPvD"
   },
   "source": [
    "* Как видите, у нас есть 348 изображений, где каждое изображение имеет 4096 пикселей, в обучающей выборке\n",
    "* Кроме того, у нас есть 62 изображения, где каждое изображение имеет 4096 пикселей, в тестовой выборке\n",
    "\n",
    "\n",
    "Транспонируем данные для удобства дальнейшей обработки (черная магия, лучше такого не делать в будущем)"
   ]
  },
  {
   "cell_type": "code",
   "execution_count": 8,
   "id": "15e7a893-8fd2-416d-b554-d7a0d26b4031",
   "metadata": {
    "_cell_guid": "ad9bee66-78f1-44ec-a114-465356b9cc7d",
    "_uuid": "88eef1b839ee51234a53da3ccb1e36a2e5e9a0e6",
    "colab": {
     "base_uri": "https://localhost:8080/"
    },
    "id": "nKXqZ0l9LPvD",
    "outputId": "31905c9a-64e1-4554-c790-e403d3aca9e3"
   },
   "source": [
    "x_train = X_train_flatten.T\n",
    "x_test = X_test_flatten.T\n",
    "y_train = Y_train.T\n",
    "y_test = Y_test.T\n",
    "print(\"x train: \",x_train.shape)\n",
    "print(\"x test: \",x_test.shape)\n",
    "print(\"y train: \",y_train.shape)\n",
    "print(\"y test: \",y_test.shape)"
   ],
   "outputs": []
  },
  {
   "cell_type": "markdown",
   "id": "acb3d0cc-6f51-45fa-b30e-e9d9be935000",
   "metadata": {
    "_cell_guid": "0dfdae4c-5c3e-4ebd-8714-2ecf974ef2fa",
    "_uuid": "ed7b18eea8062e401823686bb2f672e1c548fac0",
    "id": "RzR4BqHGLPvD"
   },
   "source": [
    "Что мы сделали до этого момента:\n",
    "* Выбрали из датасета изображения, на которых показаны цифры \"0\" и \"1\"\n",
    "* Сформировали обучающий и тестовый наборыд анных\n",
    "* Наши окончательные входные данные (изображения) и выходные данные (метки или классы) выглядят так:\n",
    "<a href=\"http://ibb.co/bWMK7c\"><img src=\"http://image.ibb.co/fOqCSc/3.png\" alt=\"3\" border=\"0\"></a>"
   ]
  },
  {
   "cell_type": "markdown",
   "id": "ad708bcf-6df2-444b-9f65-b355766991e7",
   "metadata": {
    "_cell_guid": "8b5f8812-f21c-4936-91b9-d33048dec40b",
    "_uuid": "5f037b5d3f44a9bf139dddb7946c0b33cf7d0298",
    "id": "PJJbGfV0LPvE"
   },
   "source": [
    "<a name=\"3\"></a> <br>\n",
    "## Logistic Regression\n",
    "* Когда мы говорим о бинарной классификации (классы 0 и 1, \"да\"/\"нет\"), основной бэйзлайн — это логистическая регрессия\n",
    "* Логистическую регрессию можно реализовать с помощью очень простой нейронной сети.\n"
   ]
  },
  {
   "cell_type": "markdown",
   "id": "3eee2124-e058-4f74-8087-96a0859ff477",
   "metadata": {
    "_cell_guid": "9db2d7f4-0393-47d2-bbf3-88600177b4d1",
    "_uuid": "e2f49564d7d487417546d3b1ce94bc63e6394632",
    "id": "jPSOxktCLPvE"
   },
   "source": [
    "<a name=\"4\"></a> <br>\n",
    "###  Computation Graph\n",
    "* Графы вычислений — удобное представление математического выражения\n",
    "* Например, у нас есть функция $$c = \\sqrt{a^2 + b^2}$$\n",
    "* А ниже - соответствующий ей граф вычислений\n",
    "\n",
    "<a href=\"http://imgbb.com/\"><img src=\"http://image.ibb.co/hWn6Lx/d.jpg\" alt=\"d\" border=\"0\"></a>"
   ]
  },
  {
   "cell_type": "markdown",
   "id": "3c5810df-1596-485f-945b-963fcdd06bd2",
   "metadata": {
    "_cell_guid": "7c968bd6-39d6-4497-add1-6fd1eb331659",
    "_uuid": "5060aff503466a5c54bcf76a545484abda032e03",
    "id": "C0D2yuy-LPvE"
   },
   "source": [
    "* Теперь давайте посмотрим на график вычислений логистической регрессии:\n",
    "<a href=\"http://ibb.co/c574qx\"><img src=\"http://preview.ibb.co/cxP63H/5.jpg\" alt=\"5\" border=\"0\"></a>\n",
    "    * Параметры модели - weights (веса) and bias (сдвиг, смещение).\n",
    "    * Weights: коэффициенты для каждого пикселя\n",
    "    * Bias: смещение\n",
    "    * z = (w.t)x + b \n",
    "    * Простым языком: z = b + px1*w1 + px2*w2 + ... + px4096*w4096\n",
    "    * y_head = sigmoid(z)\n",
    "    * Sigmoid-функция преобразует z в число на отрезке [0, 1], что можно интерпретировать как вероятность\n",
    "* Почему мы используем сигмовидную функцию?\n",
    "     * Моделирует вероятность\n",
    "     * Это дифференцируемая функция, поэтому мы можем использовать ее в алгоритме градиентного спуска\n",
    "\n",
    "* Пример:\n",
    "     * Допустим, мы получили z = 4 и помещаем z в сигмовидную функцию. Результат(y_head) почти 0,9. Это означает, что результат нашей классификации равен 1 с вероятностью 90%"
   ]
  },
  {
   "cell_type": "markdown",
   "id": "42401e8a-24a2-4553-8066-aff082a8379e",
   "metadata": {
    "_cell_guid": "b9ec7e1d-186b-4911-be80-bc856f43b689",
    "_uuid": "40c4a1af2372960d36b6649f5baf4915e9e16738",
    "id": "QBJlnrZ6LPvE"
   },
   "source": [
    "<a name=\"5\"></a> <br>\n",
    "### Инициализация параметров\n",
    "* Входными данными являются наши изображения размером 4096 пикселей (каждое изображение в x_train)\n",
    "* Каждый пиксель имеет собственный вес\n",
    "* Первый шаг — умножение каждого пикселя на его собственный вес\n",
    "* Вопрос в том, каково начальное значение весов?\n",
    "     * Есть различные методы инициализации весов нейронной сети, но на этот раз начальные веса просто равны 0,01\n",
    "     * Хорошо, веса равны 0,01, но какова форма массива весов? Как вы поняли из расчетного графика логистической регрессии, это (4096,1)\n",
    "     * Также начальное смещение равно 0"
   ]
  },
  {
   "cell_type": "code",
   "execution_count": 9,
   "id": "3f1bc99a-fc7e-4d13-9686-63b517e907eb",
   "metadata": {
    "_cell_guid": "74d461fc-4aa9-4b76-bd26-43551cef138b",
    "_uuid": "f3be95b8ca86fea08336badabf563b5f8f59a142",
    "id": "7o0M-4ceLPvE"
   },
   "source": [
    "# lets initialize parameters\n",
    "# So what we need is dimension 4096 that is number of pixels as a parameter for our initialize method(def)\n",
    "def initialize_weights_and_bias(dimension):\n",
    "    w = np.full((dimension,1),0.01)\n",
    "    b = 0.0\n",
    "    return w, b"
   ],
   "outputs": []
  },
  {
   "cell_type": "markdown",
   "id": "d41488b1-8fc9-4e5d-8df0-01a533324b68",
   "metadata": {
    "_cell_guid": "1fbf27d5-1f4b-4b94-a757-99e2becf54a0",
    "_uuid": "dde6fab55966b2de3dc808e03613df9bea7bb0d2",
    "id": "XRdnBSFQLPvF"
   },
   "source": [
    "<a id=\"6\"></a> <br>\n",
    "### Forward Propagation\n",
    "* Все шаги от входных данных (в нашем случае - пикселей) до функции стоимости называются прямым распространением\n",
    "     * z = (w.T)x + b => в этом уравнении мы знаем x, который является массивом пикселей, мы знаем w (веса) и b (смещение), так что остальное — расчет\n",
    "     * Затем мы помещаем z в сигмовидную функцию, которая возвращает y_head (вероятность)\n",
    "     * Затем мы вычисляем функцию потерь (ошибок)\n",
    "     * Функция стоимости представляет собой суммирование всех потерь (ошибок)"
   ]
  },
  {
   "cell_type": "code",
   "execution_count": 10,
   "id": "1f3b3a77-b08c-46a8-8c5b-c2db55f68b08",
   "metadata": {
    "_cell_guid": "697be401-792b-46c0-8fe6-79cd65110419",
    "_uuid": "e024479bce9ce2022f65ffd586a6c29b124e7ab5",
    "id": "vCZj_6ztLPvF"
   },
   "source": [
    "# calculation of z\n",
    "#z = np.dot(w.T,x_train)+b\n",
    "def sigmoid(z):\n",
    "    y_head = 1/(1+np.exp(-z))\n",
    "    return y_head"
   ],
   "outputs": []
  },
  {
   "cell_type": "code",
   "execution_count": 11,
   "id": "a3baf2fd-7a6a-48a5-bf7d-0ce2521edf6d",
   "metadata": {
    "_uuid": "da7e0244449200eaf382507806f01901f1d281c8",
    "colab": {
     "base_uri": "https://localhost:8080/"
    },
    "id": "U_s5K11ZLPvF",
    "outputId": "6e3931ad-81bb-4fbb-a3f4-75ee76a70d3f"
   },
   "source": [
    "y_head = sigmoid(0)\n",
    "y_head"
   ],
   "outputs": []
  },
  {
   "cell_type": "markdown",
   "id": "8257956d-c4a2-4786-87f5-cf9443b5ce90",
   "metadata": {
    "_cell_guid": "571dc02a-b25d-4726-ad2b-9661ae6783e2",
    "_uuid": "d67ca31d01cc8f03fdd862789454e4acf1b2033b",
    "id": "-7Z_ZOLNLPvG"
   },
   "source": [
    "* Давайте узнаем, что такое функция потерь (ошибок)\n",
    "* Разберем последовательность действий:\n",
    "    1. Используем одно изображение в качестве входных данных\n",
    "    2. Умножаем значения его пикселей на их их веса и добавляем смещение\n",
    "    3. Находим z\n",
    "    4. Применяем сигмоиду к z чтобы получить y_head\n",
    "    5. Получаем прогно - например, y_head стал равным 0,9, что больше 0,5, поэтому мы считаем, что на изображении цифра 1\n",
    "    \n",
    "\n",
    "* Хорошо, все выглядит нормально. Но как проверить, верен прогноз или нет? Ответ с функцией потери (ошибки):\n",
    "\n",
    "\n",
    "Функция log loss (error): \n",
    "\n",
    "![image.png](data:image/png;base64,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)\n",
    "\n",
    "* Что нам дает эта функция? Если мы сделаем неверный прогноз, потеря (ошибка) станет большой\n"
   ]
  },
  {
   "cell_type": "code",
   "execution_count": 12,
   "id": "1e20ba1b-9109-4a92-8992-7cbec311b3bf",
   "metadata": {
    "_cell_guid": "adbc7d22-8bba-48c1-b754-75c9d4f0543c",
    "_uuid": "447f1ee51819fdfeba0e1ce0b03449cb549510ed",
    "id": "zKdYdtnnLPvG"
   },
   "source": [
    "# Forward propagation steps:\n",
    "# find z = w.T*x+b\n",
    "# y_head = sigmoid(z)\n",
    "# loss(error) = loss(y,y_head)\n",
    "# cost = sum(loss)\n",
    "def forward_propagation(w,b,x_train,y_train):\n",
    "    z = np.dot(w.T,x_train) + b\n",
    "    y_head = sigmoid(z) # probabilistic 0-1\n",
    "    loss = -y_train*np.log(y_head)-(1-y_train)*np.log(1-y_head)\n",
    "    cost = (np.sum(loss))/x_train.shape[1]      # x_train.shape[1]  is for scaling\n",
    "    return cost "
   ],
   "outputs": []
  },
  {
   "cell_type": "markdown",
   "id": "ae02a788-6eb0-4b1f-bee4-d25d1f434767",
   "metadata": {
    "_cell_guid": "b4700f54-c2c5-4a53-ad1f-7fd63f5cd2e9",
    "_uuid": "e577873215128f94fea2eb328de90a4f32b7f803",
    "id": "WZ296YZoLPvG"
   },
   "source": [
    "<a name=\"7\"></a> <br>\n",
    "###  Gradient Descent\n",
    "* Теперь мы знаем, какова наша стоимость наших ошибок (довольно высокая)\n",
    "* Следовательно, нам нужно снизить стоимость, потому что, как мы знаем, если стоимость высока, это означает, что мы делаем неправильный прогноз\n",
    "* Давайте подумаем, от чего зависят прогнозы?\n",
    "* Правильно - чтобы снизить стоимость, нам необходимо обновить веса и смещение\n",
    "* Другими словами, наша модель должна подобрать веса и смещение, которые минимизируют функцию стоимости. Этот метод называется градиентным спуском.\n",
    "* Давайте сделаем пример:\n",
    "     * У нас есть w = 5 и смещение = 0 (поэтому пока игнорируйте смещение). Затем мы делаем прямое распространение, и наша функция стоимости равна 1,5.\n",
    "     * Это выглядит так (красные линии):\n",
    "    <a href=\"http://imgbb.com/\"><img src=\"http://image.ibb.co/dAaYJH/7.jpg\" alt=\"7\" border=\"0\"></a>\n",
    "    * Как видно из графика, мы не достигли точки минимума функции стоимости. Хорошо, давайте обновим вес (символ := присваивание)\n",
    "    * w := w - step. Вопрос в том, что это за \"шаг\"? step - это slope1 (наклон1). Хорошо, выглядит замечательно. Чтобы найти точку минимума, мы можем использовать наклон1. Затем скажем, slope1 = 3 и обновим наш вес. w := w - slope1 => w = 2\n",
    "    * Теперь наш вес w равен 2. Как вы помните, нам снова нужно найти функцию стоимости с прямым распространением\n",
    "    * Допустим, согласно прямому распространению с w = 2 функция стоимости равна 0,4. Хм, мы на правильном пути, потому что наша функция стоимости убывает. У нас есть новое значение функции стоимости: 0,4. Этого достаточно? На самом деле я не знаю, давайте попробуем еще один шаг.\n",
    "    * Slope2 = 0,7 и w = 2. Обновим вес w : = w - step(slope2) => w = 1,3, это новый вес. Итак, давайте найдем новую стоимость.\n",
    "    * Сделаемм еще одно прямое распространение с w = 1,3 и нашей стоимостью = 0,3. Окей, у нас даже стоимость уменьшилась, вроде неплохо, но достаточно ли этого или нужно сделать еще один шаг? Ответ снова я не знаю, давайте попробуем.\n",
    "    * Наклон3 = 0,01 и w = 1,3. Обновление веса w := w - step(slope3) => w = 1,29 ~ 1,3. Таким образом, вес не меняется, потому что мы находим точку минимума функции стоимости.\n",
    "    * Вроде все хорошо, но как найти уклон? Если вы помните из средней школы или университета, чтобы найти наклон функции (функция стоимости) в данной точке (при заданном весе), мы берем производную функции в данной точке. Также вы можете спросить, что хорошо, мы находим склон, но откуда он знает, куда он идет. Вы можете сказать, что это может привести к более высоким значениям стоимости вместо минимальной точки. Ответ заключается в том, что наклон (производная) дает как шаг, так и направление шага\n",
    "    * Уравнение обновления выглядит так. В нем говорится, что существует функция стоимости (принимает вес и смещение). Возьмите производную функции стоимости в соответствии с весом и смещением. Затем умножьте его на скорость обучения α. Затем обновите вес. Пока что мы игнорируем bias, но в будущем он появится\n",
    "    <a href=\"http://imgbb.com/\"><img src=\"http://image.ibb.co/hYTTJH/8.jpg\" alt=\"8\" border=\"0\"></a>\n",
    "    * Что такое скорость обучения (learning rate)? Это то, как сильно меняются значения весов за одну итерацию. Чем выше скорость, тем быстрее обучается алгоритм, но и тем выше вероятность не попасть в минимум функции\n",
    "    * Скорость обучения является гиперпараметром, который необходимо выбрать и настроить. Пока просто скажем, что скорость обучения равна 1 для нашего предыдущего примера\n",
    "  \n",
    "* Думаю, теперь вы понимаете логику прямого распространения (от весов и смещения к стоимости) и обратного распространения (от стоимости к весам и смещению для их обновления). Также вы изучили градиентный спуск в простом варианте. Прежде чем реализовать код, вам нужно узнать еще одну вещь: как мы берем производную функции стоимости в соответствии с весами и смещением. Это не связано с python или кодированием. Это чистая математика. Есть два варианта: первый — погуглить, как получить производную от функции потери, а второй — тоже погуглить, но уже готовую формулу)\n",
    "$$ \\frac{\\partial J}{\\partial w} = \\frac{1}{m}x(  y_head - y)^T$$\n",
    "$$ \\frac{\\partial J}{\\partial b} = \\frac{1}{m} \\sum_{i=1}^m (y_head-y)$$"
   ]
  },
  {
   "cell_type": "code",
   "execution_count": 13,
   "id": "88c01aa8-b340-4719-8058-a7b020d37844",
   "metadata": {
    "_cell_guid": "2b74bb7c-bcbe-4865-ac61-25ced274e7de",
    "_uuid": "088f192f99d2a31f041116c893ec713ef3b4fe43",
    "id": "7e_WMEpULPvH"
   },
   "source": [
    "# In backward propagation we will use y_head that found in forward progation\n",
    "# Therefore instead of writing backward propagation method, lets combine forward propagation and backward propagation\n",
    "def forward_backward_propagation(w,b,x_train,y_train):\n",
    "    # forward propagation\n",
    "    z = np.dot(w.T,x_train) + b\n",
    "    y_head = sigmoid(z)\n",
    "    loss = -y_train*np.log(y_head)-(1-y_train)*np.log(1-y_head)\n",
    "    cost = (np.sum(loss))/x_train.shape[1]      # x_train.shape[1]  is for scaling\n",
    "    # backward propagation\n",
    "    derivative_weight = (np.dot(x_train,((y_head-y_train).T)))/x_train.shape[1] # x_train.shape[1]  is for scaling\n",
    "    derivative_bias = np.sum(y_head-y_train)/x_train.shape[1]                 # x_train.shape[1]  is for scaling\n",
    "    gradients = {\"derivative_weight\": derivative_weight,\"derivative_bias\": derivative_bias}\n",
    "    return cost,gradients"
   ],
   "outputs": []
  },
  {
   "cell_type": "code",
   "execution_count": 14,
   "id": "6cee3ac9-8e42-4727-8feb-418fd8b392fe",
   "metadata": {
    "_cell_guid": "0940e18d-636d-4503-a2c6-1994024726fe",
    "_uuid": "31299bda686ae2ab157ea18df70e4741e5225345",
    "id": "Xfgx_rbPLPvH"
   },
   "source": [
    "# Updating(learning) parameters\n",
    "def update(w, b, x_train, y_train, learning_rate,number_of_iterarion):\n",
    "    cost_list = []\n",
    "    cost_list2 = []\n",
    "    index = []\n",
    "    # updating(learning) parameters is number_of_iterarion times\n",
    "    for i in range(number_of_iterarion):\n",
    "        # make forward and backward propagation and find cost and gradients\n",
    "        cost,gradients = forward_backward_propagation(w,b,x_train,y_train)\n",
    "        cost_list.append(cost)\n",
    "        # lets update\n",
    "        w = w - learning_rate * gradients[\"derivative_weight\"]\n",
    "        b = b - learning_rate * gradients[\"derivative_bias\"]\n",
    "        if i % 10 == 0:\n",
    "            cost_list2.append(cost)\n",
    "            index.append(i)\n",
    "            print (\"Cost after iteration %i: %f\" %(i, cost))\n",
    "    # we update(learn) parameters weights and bias\n",
    "    parameters = {\"weight\": w,\"bias\": b}\n",
    "    plt.plot(index,cost_list2)\n",
    "    plt.xticks(index,rotation='vertical')\n",
    "    plt.xlabel(\"Number of Iterarion\")\n",
    "    plt.ylabel(\"Cost\")\n",
    "    plt.show()\n",
    "    return parameters, gradients, cost_list\n",
    "#parameters, gradients, cost_list = update(w, b, x_train, y_train, learning_rate = 0.009,number_of_iterarion = 200)"
   ],
   "outputs": []
  },
  {
   "cell_type": "markdown",
   "id": "e85a96f3-47d0-4dbf-8d61-68f331b575bd",
   "metadata": {
    "_cell_guid": "202a05c6-2187-40eb-9733-e4da792f04b6",
    "_uuid": "1892ccefd7debe1e9f59b500873b7afded3a4a01",
    "id": "CSXli0RmLPvH"
   },
   "source": [
    "* Кстати, у нас все готово для прогнозирования\n",
    "* На этапе прогнозирования у нас есть x_test в качестве входных данных, и при его использовании мы делаем прогноз вперед"
   ]
  },
  {
   "cell_type": "code",
   "execution_count": 15,
   "id": "bd3f74dd-7f26-4e22-a5e4-92241e30ff61",
   "metadata": {
    "_cell_guid": "1fd35d0f-e989-49fa-9bcb-1769d92a5ab4",
    "_uuid": "c9b80f081f49a722818cfebfc01e8b8dc69db9c1",
    "id": "3MwwNRmOLPvH"
   },
   "source": [
    " # prediction\n",
    "def predict(w,b,x_test):\n",
    "    # x_test is a input for forward propagation\n",
    "    z = sigmoid(np.dot(w.T,x_test)+b)\n",
    "    Y_prediction = np.zeros((1,x_test.shape[1]))\n",
    "    # if z is bigger than 0.5, our prediction is sign one (y_head=1),\n",
    "    # if z is smaller than 0.5, our prediction is sign zero (y_head=0),\n",
    "    for i in range(z.shape[1]):\n",
    "        if z[0,i]<= 0.5:\n",
    "            Y_prediction[0,i] = 0\n",
    "        else:\n",
    "            Y_prediction[0,i] = 1\n",
    "\n",
    "    return Y_prediction\n",
    "# predict(parameters[\"weight\"],parameters[\"bias\"],x_test)"
   ],
   "outputs": []
  },
  {
   "cell_type": "code",
   "execution_count": 16,
   "id": "555ebc5d-40c6-400f-a328-c7d0232e3515",
   "metadata": {
    "_cell_guid": "029e2cd3-125b-4ca4-8b94-25d8164ba1a7",
    "_uuid": "81fb6989ff3860d72462f8212b1d00325272a471",
    "colab": {
     "base_uri": "https://localhost:8080/",
     "height": 583
    },
    "id": "fprg7kjVLPvI",
    "outputId": "9f82b9f0-04aa-454b-e2ea-caeb0081f51a"
   },
   "source": [
    "def logistic_regression(x_train, y_train, x_test, y_test, learning_rate ,  num_iterations):\n",
    "    # initialize\n",
    "    dimension =  x_train.shape[0]  # that is 4096\n",
    "    w,b = initialize_weights_and_bias(dimension)\n",
    "    # do not change learning rate\n",
    "    parameters, gradients, cost_list = update(w, b, x_train, y_train, learning_rate,num_iterations)\n",
    "    \n",
    "    y_prediction_test = predict(parameters[\"weight\"],parameters[\"bias\"],x_test)\n",
    "    y_prediction_train = predict(parameters[\"weight\"],parameters[\"bias\"],x_train)\n",
    "\n",
    "    # Print train/test Errors\n",
    "    print(\"train accuracy: {} %\".format(100 - np.mean(np.abs(y_prediction_train - y_train)) * 100))\n",
    "    print(\"test accuracy: {} %\".format(100 - np.mean(np.abs(y_prediction_test - y_test)) * 100))\n",
    "    \n",
    "logistic_regression(x_train, y_train, x_test, y_test,learning_rate = 0.01, num_iterations = 150)"
   ],
   "outputs": []
  },
  {
   "cell_type": "markdown",
   "id": "bfd32da5-90a6-4881-ac43-32c639cf6056",
   "metadata": {
    "_cell_guid": "6603c5a2-0a1b-4e4a-addd-a89be453e6fd",
    "_uuid": "1da3b972bab3207d2ba77f3d21516296f3e9be02",
    "id": "qny0oc4GLPvI"
   },
   "source": [
    "* Мы изучили логику простой нейронной сети (логистическая регрессия) и способы ее реализации.\n",
    "* Теперь мы можем просто использовать библиотеку sklearn, в которой уже все реализовано"
   ]
  },
  {
   "cell_type": "markdown",
   "id": "492d3306-9cd1-464c-8b95-d503cb53f06c",
   "metadata": {
    "_cell_guid": "119db4ab-f04c-41c0-aef9-728565786e94",
    "_uuid": "ba8b9c960d1735b146fbbad378c90902e7218d59",
    "id": "nsIm-LMiLPvI"
   },
   "source": [
    "<a name=\"8\"></a> <br>\n",
    "### Logistic Regression из Sklearn\n",
    "* В Sklearn уже есть реализованная логистическая регрессия\n",
    "* Точность отличается от того, что получаем мы. Потому что в методе логистической регрессии используется множество различных улучшений, которые мы не используем, например, различные параметры оптимизации и регуляризация"
   ]
  },
  {
   "cell_type": "code",
   "execution_count": 17,
   "id": "5493b4ce-6643-4f8e-a043-2d640cb580ef",
   "metadata": {
    "_cell_guid": "5bc37200-cd53-4da3-a2ef-c630cf1a2d10",
    "_uuid": "a13b1565f8a5ae234eaa9ed6da288103a3579938",
    "colab": {
     "base_uri": "https://localhost:8080/"
    },
    "id": "3ppEz98KLPvI",
    "outputId": "b1930479-370c-4d48-8a5a-e18119feae38"
   },
   "source": [
    "from sklearn import linear_model\n",
    "logreg = linear_model.LogisticRegression(random_state = 42,max_iter= 150)\n",
    "print(\"test accuracy: {} \".format(logreg.fit(x_train.T, y_train.T).score(x_test.T, y_test.T)))\n",
    "print(\"train accuracy: {} \".format(logreg.fit(x_train.T, y_train.T).score(x_train.T, y_train.T)))"
   ],
   "outputs": []
  },
  {
   "cell_type": "markdown",
   "id": "c1cfaa2b-42e0-4f36-b556-1ab8addec18b",
   "metadata": {
    "_cell_guid": "b889d43b-15c9-4f31-a4ff-c51c9b5ac077",
    "_uuid": "3379f61c2fb28d4f6e0e7b55fa31da22bab037a9",
    "id": "gFEPqRryLPvI"
   },
   "source": [
    "<a name=\"9\"></a> <br>\n",
    "### Вывод по первой части\n",
    "\n",
    "Что мы изучили в этой первой части:\n",
    "\n",
    "* Базовая инициализация параметров веса и смещения\n",
    "* Прямое распространение\n",
    "* Функция потери\n",
    "* Функция стоимости\n",
    "* Прогноз с изученными параметрами веса и смещения\n",
    "* Логистическая регрессия с помощью sklearn"
   ]
  },
  {
   "cell_type": "markdown",
   "id": "2c61c19d-27da-47f5-a7f9-9e5b2eb8a4f4",
   "metadata": {
    "_cell_guid": "a800aa00-7adf-4d10-83c1-3a5221219329",
    "_uuid": "dd0e970ce5194a34ca55b27b6580ef85714e1b92",
    "id": "ADf3yXQJLPvJ"
   },
   "source": [
    "<a name=\"10\"></a> <br>\n",
    "# Artificial Neural Network (ANN) - искусственная нейронная сеть\n",
    "* **Что такое нейронная сеть:** в самом простом случае берем логистическую регрессию и повторяем ее как минимум 2 раза. По определению — математическая модель, построенная по принципу организации и функционирования биологических нейронных сетей\n",
    "\n",
    "![image.png](data:image/png;base64,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)\n",
    "* В логистической регрессии есть входной и выходной слои. Однако в полносвязной нейронной сети между входным и выходным слоями есть как минимум один скрытый слой\n",
    "* **Почему он называется скрытым:** Потому что скрытый слой не видит входные данные (обучающий набор)\n",
    "* Например, у вас есть входной, один скрытый и выходной слои. Когда кто-то спросит вас: «Привет, мой друг, сколько слоев у твоей нейронной сети?» Ответ: «У меня двухслойная нейронная сеть». Потому что при вычислении номера слоя входной слой игнорируется.\n",
    "* Там мы представляли логистическую регрессию в виде графа:\n",
    "<a href=\"http://ibb.co/c574qx\"><img src=\"http://preview.ibb.co/cxP63H/5.jpg\" alt=\"5\" border=\"0\"></a>\n",
    "* Давайте посмотрим на двухслойную нейронную сеть:\n",
    "<a href=\"http://ibb.co/eF315x\"><img src=\"http://preview.ibb.co/dajVyH/9.jpg\" alt=\"9\" border=\"0\"></a>\n",
    "* Разберем картинку:\n",
    "    * Как видите, между входным и выходным слоями есть один скрытый слой. И этот скрытый слой имеет 3 узла. Количество узлов является гиперпараметром, таким же как скорость обучения \n",
    "    * Входной и выходной слои не меняются. Они такие же, как логистическая регрессия\n",
    "    * На картинке есть новая функция: tanh. Это функция активации, такая же как сигмовидная функция. Функция активации Tanh лучше сигмовидной для скрытых единиц, потому что среднее значение ее выходных данных ближе к нулю, поэтому она лучше центрирует данные для следующего слоя. Также функция активации tanh увеличивает нелинейность, что способствует лучшему обучению нашей модели\n",
    "   \n",
    "    \n",
    "    "
   ]
  },
  {
   "cell_type": "markdown",
   "id": "18f0ad78-357c-4b54-bb46-2c903fce6f78",
   "metadata": {
    "id": "lPC2d9O2CoeD"
   },
   "source": [
    "<a name=\"11\"></a> <br>\n",
    "## Нелинейность\n",
    "\n",
    "Что вообще такое нелинейность и зачем она нам?\n",
    "\n",
    "* Мы уже увидели, что нейронная сеть тоже может быть представлена в виде вычислительного графа, т.е. ее можно представить в виде некоторой функции, где значения коэффициентов - это параметры нейронной сети (веса и смещения нейронов)\n",
    "* TL;DR - нейронная сеть это универсальный аппроксиматор неизвестной функции. Мы подбираем коэффициенты этой функции по имеющимся данным\n",
    "* Суперпозиция линейных функций - всегда линейная функция. Но как только добавляем нелийненость - можем получить любую нелинейную функцию, т.е. потенциально способны решить любую задачу\n",
    "\n",
    "![image.png](data:image/png;base64,iVBORw0KGgoAAAANSUhEUgAAAsUAAAEKCAIAAAB1/7+zAAAgAElEQVR4nOydZ3xcxdWH55YtWvUu7arLktVlSS6yJRvb2HTTA6EllJdASGIgkNBDaCGQAAkJJBAgCc3UALYBF2zAuMm2ere6ZMnqdYt2b3s/jHY82pVl2ZIt7fo8H/Rb7S172zn3P2fOnGEURUEAAAAAAADTgJ3tAwAAAAAAwOUBPQEAAAAAwHQBPQEAAAAAwHQBPQEAAAAAwHQBPQEAAAAAwHQBPQEAAAAAwHQBPQEAAAAAwHQBPQEAAAAAwHQBPQEAAAAAwHQBPQEAAAAAwHQBPQEAAAAAwHQBPQEAAAAAwHQBPQEAAAAAwHQBPQEAAAAAwHQBPQEAAAAAwHQBPQEAAAAAwHQBPQEAAAAAwHQBPQEAAAAAwHQBPQEAAAAAwHQBPQEAAAAAwHQBPQEAAAAAwHQBPQEAAAAAwHThZ/sApouiKA4fGIYhfwEAAE4BcCwAcLK4dnxCsSPLsqIoAwMD5DNmtg8QAADXAxwLAJwC7qAnJEmSJKm7u3vDhg2iKMp2ZvvoAABwScCxAMAp4MJ6gjQgJEkSRfH777/v6+srLy8XBEGSJNKYmO3DBADAlQDHAgCnhmvrCVmWRVEUBOHo0aO1tbUIoX379gmCQBoTs32MAAC4GOBYAODUcFU9QQKSoijabLY9e/bg7/v7+2tqamw2G7Z8aEkAADB1wLEAwCnjwnoCByQFQejo6GhqaiKLDh48iM0eBydn8SABAHAtwLEAwCnjknqCzpYSBKGgoIBe2tfX19jYSHd2ztZxAgDgQoBjAYDp4Kp6AvdiSpLU3t7e3t7usEJRUREdlgTLBwDghIBjAYDp4JJ6AoNbEocOHXJe1Nvb29bWhl0D2DwAAFMHHAsAnBquWh8TtyRsNpterw8ICBgcHMSNCa1WGxERwfO82WwmDQhFUaCqHQAAJwQcCwCcMq6nJ+gwI8/zqampRqOxtbUVm71Op5s/f76np6eXlxc0IAAAmCLgWABgmrhkfwcppI9hWZa0EliW5TiO4ziWZenvAQAAJgccCwBMB9fTE8TmiYXzPM9xHF7KsizP8/gbYvlg/AAATA44FgCYJq6nJzCsHWzkLMuS71UqFWlJgM0DADB1wLEAwCnjknqCbkngxgQdlqSbEWDzAABMEXAsADAdXFVPEJvHZk83I0hAEsKSAABMHXAswJmBzDkny7LY20BGILt6UROX1BPIqSVB7oGzwYPNAwAwRcCxAKcVIhqwgLBVbzH+97rRva/L8rGiq64rKVxvvChhQpOmTR0MHgCAkwUcC3D6wFoBSwdpqH105/MIKbaCNxVOo154o8OoIpfDVeMTGKLjyPQ8rnsnAACYI4BjAU4HREzgmu7W7c8gmwkhxPhGsKmXuUGXhwvHJyYEzB4AgBkHHAswTUg3B55wTir9WOkoQQghhkOrHpZYtSJJyB4Jc9HSqy4cn6BFHPnsivcAAIC5AzgW4HRAzzYn9LdKB/6Fv5fSrxH94txjnjk3iU84hyXB/gEAmCbgWIAZgQ5OiKKo/PAiEq0IIdk/1pr8I04UEUIsy8qyTIYUuSJuoicIkDAFAMCMA44FOGXoMR2iKIrVX7IdxQghxLCm7DsVWUGSRA8mcl1cWArR0M0IsHkAAGYEcCzA9KHTJkRjH3twrKdjdN4lgk8MGSbqBriJnqCHic/ukQAA4DaAYwGmiUNwQin4J7KOIIRkz1Bj4pVYsDJOzPZRnyJgJAAAAAAw8xAxgYMTckcJ27ADLxpOu1lmVWh8VVZXr3HiJnqChCWhGQEAwEwBjgWYJsfSMAUr2vs3/KVVv8QanI7sddzpUu4Qn5h93Kb/CQCAuQM4FuCUcSg4IZd/ygy2IIQU3mM45UZEiQkyma1LF8dE7qcnoBkBAMBMAY4FOGXoghPicDdT/C7+3ph4haz1x2KCt0OiFBCfmGXoAiCueycAAJhTgGMBThmH4AQ6+C9GtCCERC+DKeY8nDDhLCaQiz9pLq8nXH1CNgAA5iDgWIBThh7TIUmS1FHGNu7Ei4bTfsqwvENPhxtEJjCurSeItUNYEgCAmQIcCzBNqOCEyOx/BX9p1S8RglJIcEKlUjmICdATcwJoRgAAMOOAYwFOFsd5v6q+ZPobEEIKpx5Jvh4hRHo6ODvuEZxA7qcnoBkBAMBMAY4FOFnoNEzJMswV/wd/b563TvIIpNMm3GZYB8FNjMQ5bco95B4AALMIOBbgpMAPDAlOKEXvoNEhhJDkEWSKu5hhGDptghYT7vFQuZuewLjHvQEAYHYBxwKcFOPGiPa3sDVf4O+NKdcpnJqMEaVrWLnTQ+Wq84s62Dldxs6dbg8wHSbs/CaPxyRd4/AInbWAYwEm53h+g2EYurS2KIrMgdeRLCGEbAHzLWGLWYaha064WeYExh3iE/QNdrgxbnOfgJOCHq8ly7JNEEVRwvP44b8OA7qaeoclSSIT/UEWHoDAsQBOOPiNjkET9jDE1eDvBUEQWw+wRwoQQggxwyk3KorCMIxDGqZLT9UxIS6vJ0h/Ff7Xne4NMB2IzfcbLT/7tDDrpa8FQRRFUabALYnv6zvz/r59R10nlhTkWQLOZsCxAA7Qk3uJovh+ccvCv2yp7hwYK6eN+zhE0WazWUct6MBreCujId/qFUlm/KILTrhf0MuF9QRdvY7gZrcHOAXoBkT7oOn8N3b1STpPndevPi+02QQBywo7hW29d31W9NMVy5/cUfvMNxV09GK2zwOYHcCxAMeDdGfct6nkb/uaV2UsuO79/Q3dg4Ig2Gw2m81mtVptNputcrNquA0hNIrULw4swMEJ9+7pwLiwnqCBsrgADQk/PvVNpbend1RoeG5yRlmP9e6NxdjeMYVtvTd/dOjCBdn76w4nBmjvW55IujwAAIFjASiIV/msvK1x0JoQHR8WFJQYFXfNhgP1XQOjo6NWq3V0dHSwr1u2T9Xx1kj66uR5iqI4Z2K65RPlJnoCwpKAA7gl8cKFqekB3L6KEqsk5aZmVPQL935ZZrGMWq3Wwrbe2z4tXpO5oLilKdoLPbd2viJLJD4x24cPzAnAsQAYklkly/JFiSG/WhheUFHa2tsbHaZPjIy74eOius5+s9ncPzSy96vXfRkzQqhD9EpZelWYl5qxZ2KSv+5RDdMZN9ETBPe7Q8ApQLo8RFF8cFnUklBtQWWpVZRyUzKqBsT7t1TWdA7csbFidcaC8pbmKJ389Mo4pICSAI4LOBaAlhQLQr3+fG5ccU1la29vVGhYQkTsrZ+XtfUOPrV598XoIF6/J/LiYC8dGj8vubv2dGDcRE84NyPc8m4Bp4CiKPcvDs8J4rGkWJqSUTMo/3Jr3fLU9PKWpggP6ff5UVhMIHhsgPGAYwEI9FBzRVEWhHr9YXlEcXVFa29vZEhIYkTsH/d1XId+UCERITSoMSj6hQihsyENk+AmeoLgfiNwgFOAGQ9C6N7skOwArqCydFSUlqVlxoZHV7U2R2jFx3L1SJEZJ2b7DIC5BTgWAI13LAihjGDdE0tDi2sqWnt7DEFBerlrOSrHa3YYLsZpEyqVSq1W49m/3Ds4gdxGT9BpU+56q4Cpgx8Dh9SnX6T7nRvO17c1DY+ORoaGKYjhkCJLIt6EtQOSAiCAYwEwRFCSzgvsK1IDtE8vDqiuq65rP3IHsw0/Iu26ZKNnNBYTWE+QqUTd+ylyEz1Bl7Gb3SMB5ghEH5DSMYcHrZ83DGk8fdp6emWElqSk15nYZwqOKgoio8PhtQHQgGMBCKSlQXwLQmhUlF+vHPLy9Foweih2tBYhJCLurua0bpPgMPXX2dBWcTcjceNbBUwROiZJLL9uyPbIvi5DZHxHV0dDa8PusiKrJC1Nyaw3sk/uaaWzMOERApyBpwJA6FjDAzdRBIV5eE/7MNLq1JrrzZ/jdXbrVmrCUp/cd6THInIchyMTJHlido//dOMmpwfDuoAJwaqius9837ctAWHRA/1d0WrbW8sD0r2lgopSqyQtS8usHUGPfFsvSVDJCnAEHAtwPKyScs/2+i5Rzao0Kwc2R/PDCKEhWfO2sMwQHBofGfvQ981dJoFOwHTv4ARyGz0BZWcAB8jgrvKu4bu+qmH8Qs1DvfM8pPszfDmO+9l8z3RvGadn5ian1wzJv91WTUsKUBUAAscCjIc4B7NNvGNz5RErJ/NquafxV95jY0TLtIsPNR05OjRkCA2fFxm3fmttx8io23dzENxBT9De/2y4Z8Dk0HP2lB4dvO3zslGvIGQeSvZhHl0cqtWoNRqNWq3+Rbpfph8qqCy1SvLipLSqvtENJa0wfwdAAMcCOIAfCZNVuPmTogajYmV4eaDzzdgKlWRBCFl4P2vo4p+n+VU1NhwdHIoKM8Too+77unq2j/rM4arzlRMcJoQEswcQVc9qf0sfz/O8NJoZwD+5LEKRJVnmFfsso/dkBf+ttH9fRbEoST9KCvpRWjipjwkP0lkOOBaAhm6l1HQPDdvEUQl5j/b9bZlXTNU+vE5T8BqVxiPNg71P5/lSWX3P8IiGsb5xRdbZE+90bT0B0/YAxwPb8K05UedE+9+5qfyJ5ckajlGUsQeezC+6Pif047qhRXrfBeE+Z4/ZA5MDjgWYEKwn0kK837si/Rcby65PjkzpfJeRRYSQ0TPaFJytQ4hhmExv/iFPrwFFfU50pLeGP3seHtfWEwRImwJo6GZllK9244+zSPlL/ISQyco1inJLhpbneRU/3aHhDi1acgAIHkuXBRwLQKCTq7Q8+7cLEpXuau/uscyJ7pjLtVotKVCx2Fet0Wh0Oh0eKer2IzswbqInJgxLggs4a8G3nlS6pZOrca411hP4r6IoDqX1T+q3iIxwyOV0KKUHT6MrAo4FIDg8AwzD+B7+EP9rDM6WAud7MAz2IdiZaLVaXBnz7Cls47Z64my4ecAksCyrKAoWExzH4W+InlAUBesJnDDB2Itp4mHlU3x4aAEh21EURbYMoqYfUFelas0jdOkbeCZdDnAsAIFOq2IYxqO7UDNQhxBCLD+YcLVarSaTfuGymLj4BK4/cZY8Nu6pJ86SmwccDxKKQOPfBKShgGMS9GgOlmJySUEiEERG2EMdotJRgg5vY1p+QLKIEBIzfsSHJOKfg2fSFQHHAmDwrT/WmylLuor38MeRyNXIO1zD87SAwMKCVMZ04znAaNxETxDOkrASMAmks4NWFciuJ/AHRVFwAMOhe2ISs6f7NcbiEPYkDGmwTWn4lq3bwpj76E3E2i1MYDxRMPBkui7gWM5y6LwoRVFU9V+zxk6EkKLyNCZcjtUDmacD/8WJFGfVrEAurCfoGwxpU4AD+EngOI7IBeQUtaYzKOkVHJ4ih9wIkngh2cxyyz6mbht7tNjh1yW/OCl+DZuwlrMPQD3NpwvMGOBYAGfoVgRjM/EVY5kTIwmXI7UXCUVgSaFSqUhZbnQ2BbdcWE/QEBdwlqTRApNDDNihy3OSlZ1XcAhIECRJknsb5Nqv2MadnGCmN5HVPqP6JZaocxn/KLVareE1ICZcGnAsABpffEKWZVT6PrIOI4QkXYg5eg2dNkHmJaczsc4GJYFxNz1x9tw5YCpM/jxM0rXhnGgpSZJkHpAbvmMPf80MNnPjdsRaA5KNhvzR0ByWU3Ecp6JyNc6GOKe7Ao4FQFSjQpIkaaiDq92Evx9JupbhVGQeUTKP+dmTMOEA6Alg9iG3j27KT3grT2u+/SSJlnJ7MTq8lW3dw8kivYmoCzWH55oizpHUPox96DnJyaLHoMKT6YqAY3FpHByLw4BPh5QIdByvQrcrJEliDr2FJAEhJPgnWPVLsMmT7EuiJ07/yc1F3ERPEMDsXQ6H7AT8pXOznqywu6knPzaYHrsxzZs+SaKlPNQu1+9g67aw4xMtFU4zGpJlMuSP+ifh4+TttS7IDMUkJwvEhBsAd9C1oI3aIeea3Ep6nYbekbhAL3oFkmJFPIMoilJnFdf8Pd58JOV60oSgOZtN3h30BL7Z+LPDXTw7b6prQcv/Q219V7+zN9TbY9v/rfD1UJOYIVnnrYNNT31TeV1WzDMXpPPcdIOKDlLGMdHy8Fa2s4Qbv4ngE23U51v0y2ROw7IsN96h0OPEaP8yvSsEzA7gWFwa4lWGLbbz39zVMWT+6MZli6MCadGA12nsM65+7du08MBXL8+MCfSmR4SRdXADgzn4Gl5k1S8R/BNYhnGw97Ozm4Pg8npCoVL0Edi5q4FvHDbX7xu6frmxdE32wt7Bvqve2ff+tQsDvbTYtrFJv13U8ur+5rvWrvmy8OCXVe3rUg0kaHlS912ZLNGyXq79esJES3PYIqNhpegVjp2RiuMcmia0hnAeJwZPpmsBjsWlIdbdbxr90Xv7/f2CMxNDb/340F/XpZ8TF0Le+rIsN/SOXPfBwctycobMI7/6vOiLW5Yj+2jzcWkTkiQ37eK6qxBCiOVHkq6lgxOkzsRZbuyurSec+93PtnxaN4AYbceQWc1xHMcnR8dXNaPrPjj47o+y/XVqbNjvFLf+82Db1UuWfrB37/ql0ecnBMuyfLJNfzoaMS5DYpJEy8AUoz7PEpLNsDzDMBxVSdNBSRDnQgpxIqhb4JqAY3Fp6FZK97BZlBRvtcZT57U8Y8Hdm0pevChleUwQLj/T1G+68eOivKTUlp5ujWJ++5qFkiQh+3Ae2kuINit76C28f3P0GkkXwlFiwqH9MIvnPru4tp4gOPS7k8+zd0TAVCEtgEvnhyiS+OzuomXpWSmx8VXN6MaPi966LM3PQ7WhvOP1wo4rliz5eP/eny80XJkUQiYWV6ZQJ4p0oDrKCEmUjxShum0TJ1rql5oMyyW1L8MwnH00OUmSIK6ElhEQkHAzwLG4KKTNEOWrfW1dyk2flsqKkmCIXJ6x4NdflTy3NiE/OrBl0HLzZ2W5SaktPV0a2fzyxSkqRsGtFLwtbslgd4GqNzIjHQgXsEq8AjcYnHs6zvJnw030BAH6ql0UbLdrY/ysVv2LB4uXpWelxMRXN6NbPi//cUrw68Wd6xYt+axg/+0LQi9PDJKnViTqBImWdd+w9VunmGg5YY8GLSNob3KW+xS3BByLy0EMP0jLvX5R4u1f1iKEsKR4YHvJQ8tGXyg4kpOQ3NbTrZFNL5yXoGYR7VXozg7ZMsyWvo+/NyZeoag8uYmGdYCecBM94Zw2dZbfV9dlTbSvKIovF49Jiv5B/zfKDq/MyPriwP7/ywi+dF7AVELQzv0aU0u0XG7RL50k0XISGQGuxC0Bx+K60Hcq2IP/+5qYX37TjBBKMESet2jJCwcOJUbGtPf1eMim51bFqNljW5ENx3o6RFEufpejCliRzAmHmhPwbLiJniDAHXU5sAHTL+bVkd6iKL5aXrwsPSvIL2BxUtoPFWW/ygxcHeOLezeO11U5eaKlUruFadwxzURLvIg+YARP3VkA3GLXwtmrhOhUL51juOe7FjQWpcgua6w/16C6Oi5cxRxropBMTGTXEw4FrBDLH6+nAx4SN9ET9CyRs3skwMlC9AExToTQOXqd2Sa+VVaSk5gcERSUnZj4TnVNdqhXsEpF1qdVxfETLQflhm9xouX4AX+QaAmcGHAsrghjL7TvYLlBWu4PS4J+W9AmSnJyVPTSlNQNe36I80R5UQHIPsMwHZywF7B6EwpYTREX1hMOHV2zezDAqeFg+eTvpqbh9w6PZCSlFtVWeWgzA30DfANCf/39kVfOi/fwONa/4JA2BYmWwPQBx+IGkPgEbcXtRuE3+3oiDDEjxqG69rYEQ+SKzKxnCoof5/lz4rTM+OmFFUURRVHqrOSad+FvoIDVCXFhPYFxMHi4qS4H/Z7GxvlFw+B7dcbYuPkVtZU3xmreKy9elp6VEh1fpaBfbm/81yXJoRoNQggrCdyCnFqiZbbJkAeJlsBUAMfi6tCSAouJe3e1+4dEDI0MhbOmpo5BBaHEiMgVmVlP7i15RqNZNc+DbHusgNUBUsAqFwpYnRDX1hPE5iEs6TZ8WNX1RnlvSERcQ0PN9XEeq8LVKhb9p7x4WXpWamx8ZZNy+6aqt6/KDOS4sXFc2PhtZrl5H1M3SaJlrsxpIdESmArgWNyM1qHRO7fWawPCzabhIGRZn+I5ZJN+X9LCIJRgiFyRseCRb0ueV6lWzQvjOE6xV9eWG7/neqoRwgWsrmGggNWJcFU9AXFI90AZz3ul7f8o7FAFRXS1Ndw832etQStJ0jl6juO4N8uKlqYvSI6KqZKlB7bWvLIuled5hmFQfyNTt+04iZaLjYZzINESmDrgWNwGkk3V1G/66ecVik+QzTJi4G2/yw7gkaxVcU/l+D5WaE/PTF/w220l3+j9/e35mKJtlD30Jt6VOeY8KGA1FVxVTzhAvAA0I1wRnPrwz/2Nb5a0W72DlZ62OzKCL4jyJBNqrIpQcSz7Wmnh0pTMEB/f7YWHS+t1mWKFuvEbdqhl3L4Y1hqYYtLnm0OyTphoSWdsQKIl4Aw4FheFiImi9oFfbiwb8fDXjZqitfKzeQZOkbDDMWjQ88s0D+xrRQjFhul5jntke9XL6zLHxndUb2SMnQghRe1lSricgQJWU8Dd9ATgchDLX2Tw/efBZo3Uc1d2+CVxvpIk8TxPhoCfY/BEivLCgd0rPY7uTGw1FL6OTjXRkpYR0K8BTAI4FleEHjeeGOgZ7KkeNZujdcxLq2NxBUzicwwa5S8rI9Z/23q4teX8ON/7l8VJksQwjDI6rCIFrOZdLqt0UMBqKriJnsDQtxZus6tAOjsyw32//+mijyuPXhLvzyIFtwjHzFtReEvPZVLBdYa93tIIGqI2h0RL4DQDjsXlIF5Fy7Mbrs58p7jtknkBGm5sNBmyx0RlWdar5VfWxnaahMURfmqexSlZfMl7yGZECEmeYeaYtQwUsJoa7qAnoIad60KPzZNlmWOZq5NDsJ0jhGRZZhXBs7vIo+17j4Fqh22tXlEj4XmjhqUK78FxHCRaAjMLOBY3AJv59Rl6fDcZqmLV2IgwWY7SKFH+Y11asiwzI0f5ui/x5iPJP0Ysd7yeDngeHHAHPeEA3GOXQxk/6xKGG2zWtH6vbtvFihZ6ZZH3GgrMGgrLV3wjsIWrnKQDJFoCMw48My4HSXpgqDo3RE8cG2Quy3gpwzCyLKuL/41kCSFkC0iyhi2EAlZTxx30BD2mC2zeVRg33Y4dRVGQdUTV+oO2eSc33DpuA4Y1+c4fDF48HJDOciqVSsVznFqt5nlepVJBoiUw44BjcV2w1SuKwnEcsqfT0noC2bs8RFGka/Oz3ZV8ewHeCV3AyqGJAs5kQtxBT0DOlAtBag4SMSGKoiiKgmBDHUXqhm9U7QUOiZaCR4gxLHc4bKnAeyOEtBzHsqxKpcJKAn+AREtgxgHH4qKQGCSREST8QL5EpI+V44gXUhRFXfIWXmox5Il+caSAlYOYmK1Tm+O4lZ6A2zxnUY4zdbgoivJQu1y3XdWwnXGqaGkJzjLq80b95zMMwyKkxf0g9sCjg5KAREtgZgHH4tKQLk4cqMA3kR1fURs7CkVRxrow6raz/Q0IIYVTm6gCVrwdyJyYHLfSE9CnNQdxnqnr2NThzfvY+q3s0RKH2yb4xIyE55GKlvz4OvwOGgIbOQQkgBkHHIvrQpoTk9RNx5+xmGAYRhFG+dK38SJz3EWSRyA3vvwdFLA6Ie6gJ0g3JzB3UCaZOrynTjm89XgVLUf0KyRvPTZatVNFSwfzxplWxMhJKwRalsD0Acfi0jhLCgdvQOdgyrLMlH+EQ6Sy1s80bx0zvoAVKImp4PJ6gp4DEJoRcwHngAQ1dfhO9vCWiaYOTzXp8yapaElqUrFOOAQk6OeB7jc901cBcHHAsbgNxzN/PGQUZ06IQ0f5qk/x98OJP5JZNUeFRcmADuxP8EyEk+z5rMXl9QSCtKm5gUOi5fipwwtR3Ta2de9EU4cvMxnyHSpaOg/+pIdp9JisB44MLgj3jQn0dvh1zO6m7gNtA/fkJ7LssdwrsHzgZAHH4sbQKVw2m005+CYSrQghwSfapF/Gjh9cihAaMFsf3Vbx4rpsT42KpHnO8jnMPVxbT5AXGP4XbvCZ53iJlvapw7ez9ducpw63hGSZ9PnWgClVtKRTqIZHhVs/LrQxGpOl5pMbcw2+Onr0l6Iozf3G9V8Ue2k9m/rNz12UrlPzkI8NnCzgWNwberC6IAji0QqPlu/xou2e56WKkkp1LPCpKIooyb/bWlnSacr9+47/XrsoyxCAh6EieDbG48J6gi6tiD/ArT2TTJpouZet38YcdZ46PMZoyLeEn9zU4Yy9+Iwsy1e9u8/HL3RBVExjx5Gr393/wY8XYkmBEJJlubnfeN2Hh5YmpnQM9B0ZHBFFUeZZOq8CAE4IOJazAexPBEGw2Ww9374chRBCqJDPfLRQuUvddUGSnmhKUZIf/LqycVg+JyX1q+IiHHbFA81m9xTmIC6sJwhg9meSEyVabmEad87s1OEIIVxUX5blB5bH3/tVpZenT5w+AiF07YaD7169wOCrQwi1Dppv+Lgod35Ke38fEob/dXmmmkWyLNMdn2f+cgGuCzgWt4T4Lpw4gep3RIlHEEIC4jb5XpWd5PVqQQ3DspekRkqShBj2sZ01DSMoOzb+q+Ki1y5LTwvxxl4FXIoz7qwn4GbPLKeYaGnINwcvmM7U4TjNHv9orsH32dXzHtpZjpLS48IjEEI3flLy1qUpkoJu+bxicWJye38fYxv++4VJ9ESCs3K5AFcHHItbQrsvcdSkLnsHf/+RJb2gwzwvMnhRcvqrB2s5lfripPDHvm1oNDELYuO3lBT97aKklCBPSZKwmJjds5ibuKeeAIOfQU6QaHl4K9u275QTLbmTqWiJD2CJ3vuJ/KjHdx+TFLdurLII0sKEpI7+PkYYfmntPA0HE0IC0wUci/tBXBnO8WLKP2ItfQghUeUTlXiJeV93QwefFP1FhuUAACAASURBVBOXm7bglUPVu9tNHTZVWkzsN6UlL66NTwnyBBkxOe6gJxymAQSbnxHOQKIlN7WKlrTCwH8XhXk+uiT86YJylJQep4+IDQ1r7epq7Drqw1j/tCqaiAmGgfEdwKkDjsX9UOg5g4Y7NYe/wN93GC7QanWP5eqfPthd16FJik9Yu3hZaWNDkJ//t+Vlf14dkxyowy6R7ocFHHAHPUGASgMzwqkkWvrGGvV5J5toOfWKlngFepOFoboHsoOeKypHSemGAH8vnU7qtPx2WaiaHUuVoLtO4KkApgM4FveA9mmiKDIH/4XHiFq9o4dCchmr1Uer+t2SsKeL+g+3taXEJSTHxpXU1d6eHpjgq8bicsKaNwDBHfTEhN2ccLNPlkkTLQ8rh7dOnGgZvsSoX3GyiZYOHO9g6DgzQ+Ve4KhDhCfvp+F7h4cs1tGE8PC4yNhf76p7eXVUVICaVhLwJACnBjgW12Ly/FmHxC+pvZhv3Y0X9cT/iOM4lUolSZI3w84P0NaYTW29vTHh4YtTM94sPKhV8RclBBN/BYW3j4c76AmHsCRwskySaKk07GRmLtESIUTyopnxhbEdjof+wFAT+RCx0mkWf72nKzQ8ymI2Hu1q99BoI4JDRwVh/c7m1y9KjPbwgDYEME3AsbgEDsVC0HEGcxHPJgiCzWblDryGvzeH59r8E3hRRAghhv1LaVezTRMWGl7f2mi2WVNj4vMzs18pKVKpVJcmh4NXmRwX1hPOryK4zSfFVBItmQkSLfNMhryTTbRE1N3BP4fGCwX6kBRFaewzqjg20k9Hb0uMucNo+9XOVt9gvdE47CmO3J+sfbZiLJeCQeiOr+v+fVlqrFZ75i4l4EaAY3EhFCfQ+JnK8WrYv9kEcXNF69p5wUr1ZmagESGkcOqhxGuwp5IV9OKBjjoL7xsY1NDa+ES271+qO6sYNiUmLj8z+y8Hi1Qq1eWphlk82bmPC+sJAi5OgMDsp8bkiZZK3TdM/dbjJFoutwbMx2/0k020xD+KrXrIYrvgjV0dw+Y7l8777TnzieAgR9XQO3Lu699pVfzzF2dclhrhIDiODI/etrmG9Q0xmYyByPzYAh81i9Yno5ery1FSeqw+QlHQLV9Ufn79wiCe5zgOhokDpwY4ljkO0RC4IfSXHw7/dffhEG+Pr2/ND/TU0oEEURQFUfr5p4d21B45P9rzL8LYPKLG+EtFjR8jywzLPre/uXoEaf0CuzuPPJoTEOnNP5Gl+n1pZyVCqbFx+ZnZf9pbpFGpLkuLgPoTx8NV9YRDSBzjonfXIVfgFFaY+g9NlmhZt43pLHH4jRlMtMQ/1z5ouuXjQ7zG88rliz4rKxIl+bcrEnBSBT7C+p7h6z88dFlOzpDZ+J+DzeuS9cjeSyLLcuug+fpPSmyeAapRk563Pb04GNeZWBTG/5rnXywfi1IghB7eUff71YlRgTxYPjB13MaxTJ5MMJUVXALiyp7dWb35cO+Vy1c0tR+55t397/94UaCnhlTOtQni+i+K2obF65fmplU9x6hGEEKiR/BIzAUIIQUxT+1qLOkXWJ+gkb6Op5aFJ/hqZFkOUKM/LFI/fLCzCkuKjOzHdx5MDfNNCvMnrTKXvnozjqvqCYxDzxmdvjdrxzQ1nN3WhKLheJ2CJ3WCZzLR8ngjP0kUxE/DhXppmkdkhJi89OxN5UWyLN+fH49Xbuo33fRJcV5Saktvt1o2v3VVliRJjH1CYVmWr//wkFHjq7ZZ9BrpxXOieCSTEEuuQfOASvVcUTmXktHW05nirwrxVOOlCCwfOBlc3bGcMJlgwhXm/tlNCB6skRioG7ZYjBZrUnRcdbNy3YYDb1+dFeipQQiJknzv5rLmISk1IqK66MvHfMqQghBCQ8nXywyHFOWZ72qbzZxJ7eM53Pvcqpj5/h4knqpWK3/OC/vN3q6KJuShVqs5VsONuSMYOOYM9/vf/362j+FUkO1Tw4miODAw0NjYiBDy8vJKSEhQqVRk0vq5eb8dshbMNnHUJjo/m0QBfHP4aJi3BynRNPWEIDoagXs08BUTjP1S9Zdo91+Ysg1M32FGFuy7ZkeDUocTrupP+Yk1OANpfViW5XlepVKpVCq1HY1Ggz/g7+m8ywkzn+nODlkSV0f77m3pqTnaow8OjQoN31Hd2DVsWhjm1dA78tP/lS6Zn9LW262WzX+7KNlDdWwyMHwWa+ICitt62nsHP7wiRafmaTiOi/DRxPlq3iqo+dmCsF8vjaGPCrKogKng6o6F2LsgySarTZZllhlbRK8jy3KvcfSbw0cTgrzoPczN85oE4tlifTUhHtyGwpogv4CosLCRUesHRQ2ro315pNz3dWXLsJRkiPi2rOQD/Tcetn6E0Ghg6mD85QghlmVXxAZ3m0ar23v+cv789FAf4u7w7fZQcedG+b5b2mrQMa9ckBDq7YFnPCZD1Wb7GswhXDI+4ZwwhXGhW0sa3E19xsv+u2dUlO/Jn3dnbrxDMoEsy/taem//+KBOzb906YI1CWHO6Y3OTJJoKbUVMnUTJFpKnqGm8BMkWjqP15h6AQn6rFmk/HFlzG93Nh6qqViYlJaXkb2lrMhiE75pGshJSD7S26OWTC+cNw/PvkEHVxRFCfPSPL86XsfF00WrEEJj+R+ynB+l/vcluuQQH6JCEAQngKnhco7FIcyA7UtRFJNVuHdT6cEjg3ofzQfXL/HWqomFYjsasthu2FBgFJgttZ1/vTQLW/OcPc3j4eDo1sT42Wz6Fw4WL0vLSo6Jr2lmbv28PCHQo2lYTjZEfFtW/J/0Xv+WBoQQYrm+xB8jez0JnmXX58aumx8WH+jJ2l0fsosVWZY1GuXddfM9tWpvD7XLXaUziUvqCQfoYV0ucbNJE6F1wLjqtW+XpqaF+Pm/cbBQluWfLY7Fshevs6+l964vSq9ZmlvV1vJFxZHV8SHM8WfLdOjXUCZKtOQmSLTMNunzT5hoSSS5cxBi6tecbMIi5cll+kd3HzlUU7kwKXVl1qK6loa02HntfT1ayfjcqhg1e2x98isMw3AcF+7jQYaHkKXkTBVFSdFq6cjESR0hABDmpmOhezTICxVR4yFlWT7v9e+8ffzXLFxc2VT/4/f2v3NNjrdWjd+RWEzc9NEhH6/AJH//oobao8Nmva+OsSdNz50zPSHO92V1lI8oin8txpIizhgUWNpQHxsS+l1ZybNLA5MO/wuvNmBYLXqG83YXh/eTFObHMAxxdMguU0RRlGU5WINwsBbCEpPgDnqC4BL3mBbUoTrVTdkxe472GoKCly/IeauwUJKk2xfF4BPZ39q3/svKS3MW7amtXqz3fHJNkizLDFVDmt7ncRMtm/aw9duPk2iZbwlfcpoqWtIQDUQ2Z1mWZ5nfLQ55oqALRymi9VFt3V1RWuGeBeEq5tigL6IJFEXBgzXINWSpmcNoZ4oXEQ3kEk8FMJeZ9UfIWUMoiqLYTOLRCrmzSu5vUgZbkalPsQwgRVZ4jy/9wr7u8+3rOk8VnVfS3HzTh4fevCIDRylGrOIt/yvx8g700en21Va996OsIA9etk/D63Iw46tLMQyzMsJLFMVXyouXpS4I9PZOjootra14Pi88s2czbxtGCAlq38GYS3i7iyC+jqGK6OBdKVRxbsVedZdeYbbPfs7hDnrCOW1qjkPnNKxfFFG2saLocHVWYvLyzJz/lhRKknRLVsShjqF7t9RcnLNoT211Vojm4fwYPK8dS01tp5wg0XIL0/jt6U60nCLE7Gl1wjHoF6k+Dxb0t/Z0RwQFJ0RE7SjseKtCvis7HDl5CnLWZLwGrSdoyyfbQvIEMB3mgmOhQ/pjZj7QKtbtlFr3K52VSJGdN2FEi2ao6XIeoaMlI92+hwIvekPKuPXT4n9ekqIw7B2bq7y9A308dOXN9W9dmhqsU8n2aXhdtFuQodpC2Bvkh3mU9+oKDtckRUbp/f3jDZHvHdy3Svs9Xr837kpGrcNpYThJgu7DddATin0wKmnD4FaKi8qv04076AnZBcvYEQNmkfyXNXHrt9UXH67OTkxenpnzbmlh98jo5vq+87Jy9tVWZ4doHloWRR5oh82VKVe0HA1MMemXW4IXMNypTx0+zbN2sPyjZvGeH7rCwqN7B/v7BvqyEpPzM3O+Ky3kuO67l0QxTuA9OHR20HoCBzAcohcu9FQAc4rZdSzKeGTLsFD9tVTzldJbN/WdeEtDq7o3LOK+fou78GcbZVFRvH1CPbXaiqa6f12SjMUEWdkVLcWhocJxHGLYZwp7my2cPjSssLZKk5IW4h9wffd3jCIjhEw+84whi9QMw3EcTrAlGeVkP8S3jLloliVehQ6aQivFGXfQExM2I2b2TisTJWqRn5hw6STH4NBfoGbRn86JvP+7VhylOHfhkqK66vzUjIN1tQsC+PsXhctUNUnn9Agq0XIL27Z/VhItpwJ5/eNfaTfa7v7uiH9wxIhxyFc2evPMoZqKhclp+Rk5O8oKeb7jvrw4hyvJ2it2k2/I4dFmr1D1vGf2FICzitPtWI7nVRybCn3NUumH0uFtePIqel3FP1YMnC/5xco+EbIuWFB5CaIsW4bQQJO6u8y7+4DKOoAQ8pIG10sbVnkt/pO8jlerqlsa/r42PlDLEUtxURshNn6sY5RhH9/X0Wjh/PyDGprqfjFf82p54a+ihlOVJoSQpLCHwy/zsocZ6BDF8dLCnPWE616uM4DL6wnFXrwZ2d80M75/ZXzqE+MU86dX6DFaQ7y1ZOnkkoI8wWoWPbM09OG9nS1Hj8SERyZExu6vrrwyzvPaRD+HyATOD0Ik93h6iZbOhbGn2a8xRVqHLHdsqdcGhJnNI0GM+eEMb1aRX6y2HKquWJiUtjwzZ1tZEce1PHBOIjn949mws693CNuC5QOnwGl1LA4uhXYs5BtJkqSeOvHAW0rz7nEbc2oxLFuMyLWFZMpqr3HiQ5AkSRKQ2uYZazMYWoJW+vYWBbZv9ZWHEULpxgPPMw0PDl/z0vK0AA0rSZJKpSKO6HSb/BlAVtBvdjRUDSuePv5trQ2PZHobNPJt0ejSvvcQixBCG5XFf9tnfOliSacbc4b0GGA0/kY7+HBlfLKqS1+o04dr64njBQZmcP90Q+GVvfV/+q76q9tWpIT60u9dEjD4T2Hr77eW7rhjVUKwD3k0HZ48Z02N3+Uajrk9yfueH+q8vXwDvb3z0zI+LS2SReGGtFCe57F/YVkW+zhZsCjNe4+TaBln1OedmUTLU7iYsiw3D5hu+l+5zTOAsRgNvPB4TiAuS/XbDNWfykfGBpGmZ31dXnzh/OHsiADZXjpmkgMDAQHMIKfVsShUORZFUep6hte8/t3PlyX8ZkUisscnpMEj0v7XlMbv6Q0lv1hr7FqrYanMe+D9KIKgOCVRkc+SjDq90pqj4qwNWy7kShFCYUrfK6r/PLX36ptX5geqVGh8g9vlDIc+a1GS139VWdovKFrvgc4jTy0ONmhkq9V6JbMnkLUghPoZ3/0h13jJvf841P742hTieEmbavLmistdnFnBhfWEMj4tEZ2eW066FZ7ZUf1ZdeeqzAXXvrf/31dnZxkCWKrUkijJv/yiuGVYXpue9tfddS9floXGz3TlAGN/zZNQW1mv5fcFPVlJqaaRgT2lxeuWLc/PzPqsuJDl2J9k6CVJ4jhOEARusJGp3840fstOkGiZa9QvP8OJllO/jJiC1r67N5eNeARobWaDh/xcvoFHxzKoH10Y9Iei/kM1FVmJKbKCfvN1xfbb8kkzDgDOAGfAsZC3YGl7/00fHliWmva/imabTbgvP54RzKjobVS9Edk7LhWEqrWZT7VEvHjRtQghRmGQIEx4VM7iwGST/lDYj3Tnl3tn/sL2vicreiqWJ5gPnvpeufW8NVqtFk0UcHUhiGO55dPCulGVidNqBzufXxER5YFsNpvG2BbWfwCv+UxfzqCnwqvUOxtaf5U/z9vbm86WmN2zcBtcWE8QTqvZY8tv6Bne19Yfo48K9AtYnJx688eFb1yRmWUIwL8oycrdm8pajMqC6NivS4r+dWUWnkmIOX6tCNrsOY4r6TY9vr9THxnX2tGa6S3FevNFhysz4xOXpWV8XHJIkaSbU/1VXQV887fsUMv4Hc2JRMsTXkZk96ELDX5XJIVuazOxSPzrmgSVvbOYDE75fW7Y4/s7v9iza3l0wAvnZ9BNLjB74Exyuh2LJEmFRwa0Go9QP/8Qb59N5UWJ/bvXGb9kRgfJmt9aYysjbvqobmD1fF+bzYbdhUM00SFQOhbhkCSrwjx7oNOm8lIh5pMjqsCoq9dZNoZwZg0SHmM+fHI7+8tLL9ZoJPJKdlH7wmd9f1787V+UyebRv140P86bFwQBISXiyOcMUhBCA57xep/sjaWlkQHe7/8oK9jL48wEZc82XFVPKOMHO+APM/tM0G/BCB/N3y9MumJDEcsw0aFhS1LS/++z0n+uS80I81UQc9+W6lYTyoiO+bqk6B/rUtNDvHDfxBRb1Yc6hh7Y2eQbFtXf1ZHtq9w6T2sRpOfL+4urKzLi438SqyQ0/du/vZFDEr2V5Blq0ueZ9LOfaDlFiNv6VW5MRkh3ZoiXmj2W66DYx2XJsvzsiqhDXaaVsUEqDowcOKOcAceC7E+7IAhXJwfvqDt6qLp8dYz/G96fJfSWkXW6PWLuO7IgPHnNvprqvAiv69LCRFHkeR7Zy6s4Jzxh88Gfh0dtv/uhdZj31HK8eajn7mRPX7XXf4UrbpK+CGONGkV4BH346Eb1Q1deqFKpOI7DG7rca5V4lZQQ750/WVh+dDDeVy0IAs/zXq07PEytCCGZ4Vv0l+apff29tLnRwTrduHp3rnjWcxZX1RM0zsO6ZvD5IE1nPw33z4sS7/iyFiGEJcWdm8pfPj/x3YruVhOTER2zraT45QsSkwN1uG9icjFBulH2tvSu/6oa+YWa+o4uDVLdnuRltVpVjPJowmhD3a419ZXBzAhSUxtyGnNwlsmQbwtIwpYwpxItJ4fomPzoQLpQBGMvHYNL0SmKsjLWA0rRAbPLaXIsx7r8RdFmsz29POqbLe9eXb9di8am0RlifIoCL/p1hfeqtLQ9VZV5Bq8b0kLxwdAphA52jR2OKIosy/aZrPdtr+tjdQzDCeaBB7KDvDlFFMW08ND3uq+80fZpKGvSIetjyof//D70zjW5QS5eU4E4luRgL1wklx0d9G/8HC/t0a9BPnotQosjvfD0Q1hCTZI2AZwa7qAnCKfpZUka0NE+mr+tjf3V9nqEmOjQ0Pz0rFs3HsiJi06MCN5eVvLSmrikAA+yySQvQiImajoHf7WpzOwR4DncnRuquSvdT7SaAofKA/oO+poaF4+/OUc5PRuz3BK+hNV4EXU9FxItpwg+AJwAxYyvmMnapyMnIQqEEDe+Gi6YPTBbzKBjcUjxVka6AgpevlGoxEtlxH6vO/eRxojeJun8BSkFNTW54R7XpQYjhDiOIzPwqdVq+nVIdADOXBYE4eebK3okjcLx3tahJ5dHebGyIAi4IP2CCP0nR6+60fKhL2v1RyM39LwuW1JEnYZur0//NM8YxKtgZ0gkoEf1u6xoQQgJnmFDMRdqEcswjEql0mg0Wq2WSAqXO985jjvoCfn0lNkn7zz6fRblrX7hHMN939fxPGcIDPrJmvNYhD7d/d1zKyIS/TR4w0le4cdSryVJFMVoX81NGfrXChrzYv0fSLR6Nn3i03OIk0bpTQZlj8+GoxT90oXJKWq1Ws2pybSacyHRcirQ6oGjxmUx1IhZRNXMVuxDs6ANAcwiM+5YFApJklDLbq99LyObES9tUQKfMZ+vDs7PzWQ4hNSyeVGI+tqkQJZlyey+Wq2W1hO0mdMRvv9es3jtW7tj/DyeXpXkyck2m020I0lSRnTM561XXGf5WM1IUUyPcPBl2+rHsBuRXXAabjzqDR8/9jNcxyFNRwFe2pd0k0rjgS8UDk7ga4gDPGi2faOb4Q56gvQszHi8jmgCOo0x0kv17NLge36oUKUtCPbxHRgeMNsEURQVe1nGCbvl6HaJKIqCIFitVpvN9pMEj9WWIykjn6mL2sf/Njugi+v0zuzUJbJGOT3cF4c68VzhuJky64mWU4dcRmSXF4jq7CARIFmWsVOjN+Hm6vTQgHszs45lXFvCakZ7/qaq2Ty2jGE7gpY3eOV2lg6yXUdDA4N4ht1aUbU60odhGJ7n1Wq1h4cHblhrNBp6iCOBBPYURQnykt+4IivRT401hFarFQQBd6/gQEXSvLT9beYVQxsRQqqOAlvFx1L2DaIozpEWyNQhbRJFUTiOkyRJtpo0Ra/jpWZDvhScqkYIazLiP+ky27N7/G6GO+iJ0wozvn4Dy7IKYt6pHdaqNVqtR11H+7xw/crMrIf3lP9ppSrLoHGITJCxjnSnqSiKNptVbD2obtju3VkYNL6ipU0b1B+4sNc/28p6yrLsw7IZPiyW1Rissp0zJI4XFJkj0OJMoUpU0UfLUqXo6BXm7EkBwAlxCEsI/a3StseRvWy2qA1siv5xDxtS0jbYPGSN9eH6R4xBvr4rsxcfqKlUN4zcnuOHlQS2fTo4Qb/+6SiFWq3OiQwUBIHE/HD6p81mw80YWZbV8fm9HYNBnbsQQurSd8XQNDlmoUzNODj3LY74WNZemIdhGK7kHdbcixCS1d7Dyddh30j6iejGGIiJGccd9MRprY9JXoFj+UoM+/SBrsZRPsJg2FNUwDKMmudjwsKWpKT95ruKv56nXhjlQeyQNBdIu0SSJGnwiFK3na/frraMq2gps+qRwMyhkCVmn3kIIR4hzh7wwF2nGooJE7LQHHYB5MAYamYv56MlDsJ5qzNxlABAMSOOhQ5MSpIkNu6Wdj6jWMf6OCxhi9tjrzHZlKKm3v/UDEZExR/pOpLkp64ZHsycn7IkPWdvbYWmqn/9Mj/8IsR/6V5CYhpYi+P8JPwNDvWRX8cxUZVKZbVaBUFQFKUn9govS7t2qAEpEvvDc0Lw66x3oGvJd8WhWEhPrerwWNRnOPkGRuvLMgy5bvgvdp4udI4uhDvoiTOGgphHdrVUDSs638DmlvpHMr21LHqipI5BKDo0LDcl/e5t5a9erFoYFUwH9nGjRLKZ5abdTP12trPUYbej3jFDIUtGgnMU3oPjOC0lEYhicDAJhwaKSxjG1MWBS5wOAJwQOvVSkiThwL/lQ/8eW8aphpJvGAjNEyyWA+3dr5V1B4ZHd3W1Lw1RXxrp8XqDrbyxISspLS9z0XdVZZqSzt+sSKRzJiaUOCT4h9+XMjXXF66uTd6mOKNCUZSetJ8ZDjzFCkbW3KvsekG64CmXaJ8QiI9FCMmiwO59CSEFIWQLyRiNyGMZhp6ng+7mmPun5oq4g55wHtY1s4xpAlm5b1ttSb/Aefr1d7Y8sSgw1pNVFOWJHO7xwjqkKNGhYYuTUu7aVPGPS9OyIwKx5SuKovQeVmq3ME3fOU8dbgxdPBiyVPAMQwhxLEtSIkjSAOnLwN/Tw5xcJSYJAC7KNB0LLSbEUaOw/Wml+YexPeuCB3PWmzwMks22r7X/5UPtumDDcH/3OXrdlXFeCKG7MzxfPTxa2lifk5SWl7lwe2WpuqDlwZVJCjXXnTN0VwVL1b/B2kIURSJHOI7DvR4yChxIuzWw+GWEENO6R6jazKSuc9jVKZz7mcEhvV0ufpcdaEYIKZxmKO0WhqpBTAd05/IZuTouryfo7vbT0d+B9y9K8i83lRV0mWWdL9d39LnlhjgvDnuKGJ7/Qy7/yL46RZYjQ4Iz4+Lv21y65ZY8VjDxrbu4+u0TTR2eagzPMwdlMhyPFEXDsqy9jDxdQII8/c7plsQkFKrKBW0nykTVL8CQAGCKTMexOCRMSMOdwlcPkXnGxZD0gaxf2BitJAh7W/pf3Nci+obYhvvXRHn/ONGPBCYfyPF+oXykqL5mYUp6bmrmlxUlmeF+l6ZFkgM7Xnchay/oQq+DB24QB4KdDB4MMhqabY5eo2v5BiHE7P+HoF+A/CPxHlj7gCxyXs4nO1texSH2I/XWs2Uf4EXGpB/JumDsOR2GwjlnygMziGvrCZLqePr2jzsg2waMvWbBKkiaoe6Xzo1N9NPgXAi8QoxK9WxeyAO7anr6u81Dvf9dqnA/PKfpLETOU4fbK1oihEj6Az3mc8LxGsTF0DKCnLtzZJK+LC0Dpmh/T0hEAICpMx3H4pgw0Vklfv0QMvfjpdZ5Fw8l/ViUZEkUFUUpPjrEqlScefDCxOCfpIUQS0cIsSz7u1zPpw/1HqgsHzabHsqPWRsfJI+fbZiGoca3OzQzFKrWiwO44stI8nWavirO2MGIFvm7520X/xl3mpBynPSpIYSODJoj/HRotjOcjl1kwYZ2vYD9reCfYIo5j7WPNqeDE67SieO6uLCecMzEmen4BL3/CF+Ply5Ier2w9ZrEQL2XCg93psdrRHiq/pTNDzZ8dXFglapicNx+OI0lNMekz7P6O04d7lxDgp20oiXtqhRF2Vrb+bNPDmy4YenS6CB2/MBLzM0fFgyNSm9cnRPkpWWPM98pAAA003EsdFhClmWhYZf0zZNItCKEEMsZM//PHLECGy9+wd+1NN7g35Wt943w1qj5Yw0Jsp/fLTX8fHvTO5fOj/A7NjW5cvxZgRw+kH/pcAuiBpPjcaSSohrIvCNo75NIkdjuihdffbY75pLn1mVhVYF/jvz07qbuG97fv+GGZXmxwQ7tnDMGHZwQRVEu/YjtO4wQUlh+OPN2nGFCiwmoZHNmcGE9QTh98QlESfJQL80DS6NxEhN5bYuiqIij2u6DXkf3Jg7WIoSQ7di2Nt9Ykz5/ZqcOJ5L8w9LWp3fWrMnK+dmnhS+vy1gRF0KsBR/zSz8crumxrExNW/uv7wrvPg9NOt/p9K/ShN+T45lkKQDMTU7WsThEVWsxCwAAIABJREFU4IWy/8l7XkaKjBBS1F7Di+61BiRhMUH6MVUq9OPMSLqnn+Rd4TU1svzBFSnke3SqVkO6QhyOk3ywekcPx6/zqf8cIfRL3d7/O5L8283o2QszcAon9kWyLJcdHbzrs6Ib8/Me2lKxLink/pXJiCpPdwoHNgmTXH/iBgVBEHsb2JK38ffm+VfZdGGcvQ4vERO0U53ZgwRo3EpPnI78CQJ+Fjl7SVdFUdj+Bs+Wb9VH9uDCrgRJ5T0csnAkLF/xjcBuYganDieGtKn6aEx4hJ+Pb15a5vpNpS9dlLo8Npi8v1/e2/BJZfclOQs/3r/36bXJJ5zv9JShe14URanuGkoO9XWwWzp6XNU5mBLmh2Y7UgoAJ+SkHItDi1nY+w+ldKw7X/YMHVr6oE0brNirOzi820j6FHEIJMKBLZesMJ03N5EUOP6BAw9kHLuiKIPRF4ltBwKsHWpFeMprx61Hgh76quzp81NxGjhCqOzo4G3/Kz4vI6uwsSEhwOMXuXGyffqxmYV2KfiDRZB0ap6cBQkMC7ZR9P3zSBIQQqJvzFD0+ayTmIC0iTOGW+mJGX9FkdHbdIyRsRlVrT+om3dyw63j1mbYEZ/EweBcc1AGr9bwFBMqCfbkK1oSnyVJ0ovnJ13y7kGe4+cZIvLSFtzzZfGfz0/Kiw5ECP29oPnzmt6LsnM+3r/38ZXz1sQFntR8p1OHXBnsRis7h65+Z+81mZFPnJdGB0LJOo9sKf+isv2Tm5alhPnN/exx4Cxn6o6FNkxJtNm+eRbVb8eLRP/4oSW/FXlP7ECO16dJKwaWZWUKsuGMSwo6miKKoqSgkdRbfIr+yCMp2lp3T2jzSx1xj2yteOLcJI7jqnqMd26sWJ2RWd7WYtDJfzovGSkyTvOc8VYKogoAmqzi77ZXf1LaVHX/hZ4aFT4LfMA2m00ufp/vr0cISQzfl/Z/iOGQfeofGNZx5nErPYGZZtINLYqPWZokybKEOoq0jTtURw86JFqKupDh0NzB4MWiyodlWTXH4RK5tJ5wlhGT92tMfoSyLGtY9MbFSbdtrkYIzTNE5Kdn3b+1+A+r4sp6zBvrBtZmZn26f/8jy2NWRftNZb7TU4ZcpR11nXdvKsvPyNpYXan31ty2KBafI1nn9YLGbXU91y5ddv37+/9wYfpFyQYwcmAuM0XHMk5MWM22LY+htrHJI2zhC4ezfykxPO7joNvNDs0Jh/xruj9CoerazUg7m3SvkMMmQRGTJqTPsDa0fQtC6IKBj6rjnt/aNPjY9uqbMvV3fFm7MmNBZVurwUP6w8p5DDWKZToH4wwtdHpGLFe9s8/fPyQ5IuK69/e/c81CnXosrGKz2aTuw+qyDXirt21L68pMv8hT6JYbLSbA1ZwBXFJPODzBdBm76cgIRD3Kin2iDVEU5aF2VLdd3bCdtfSP24TTmEOyjeF5o34JiqKwCGmpJCBSOmYqiZandsAhOv7VtXF3bW9UEEowRKxcsPClg1V9Zuv5WTkbDx54cGnEOZE+zm2sGWcsXvJDXbze4OvlvSIj+58HCmVZviUnmuiJNw42/6e4/YpFSz7av/fBFQlr4oNxpFQ5zsg3ADjznIJjocWEaBoUvn4QdVbgRaMxa4bTb5ZlBdkHXhK3QE9uSYco6JAea689T2xkpsQEohIpeJ7HpTPJ8XSGrfLuL9NZOlSy7equVweSnq5uabz245ILcxZWt7boteJTy2NZBpGjOk3Gi3t83iho8NB6RIbpPTWa0rqaGz84+MblGR4qVpIkYdTE7XqeUSSEULWs364seCI7RlEUWkxADuYZxiX1BI0yPmmZXjTFx4ju0SAxxmMVLeu2cV1lDpsIfnEmfb4pdBFOtOTt04DhR5meqYuOYZ5yQMIBeichOv6vKyPXf9vMMky83pCTnGkThC1Fh36dE5Kv93TwRDNuWnS89D9XZNz2eVlJnTVz3vwVmTmvHyqUJOknCyIQQv8uanunrOuyRYs/2rf3vmXR6+aH4P6X05rvAgDT4YSOBa9wrL9gpEfcfD/qb8TrWOZfMZJ4NRbNDFWlkUweQdwCmqh4FP0TtOaeZiOE3jnuQ1Hs832IoqhSqWw2m4LYRsOVqQ2vMoocN3p4Yc9mPv6KyLCI2vZWg0Z6LDeCQeMm3zkdkoI4lvVLY33Uza8VFuZnZGXOm19SV3Pb/4r+fmEyjyRbwb/CTO0IoVGFf0049+GVCRyL6CCQQxh4Zo8QmBDX1hPEpPG/J9trgMbH1ohrkLtrlcMTV7Q063ON4fmil36sy5MKVNLpEXRMgplaouVUII0YOvgZ7MH9aVnord/URoWF8yxnFc0cgzxYWbZPkHMGug9lWVaz6JULEn/+VU1pfS2WFG8WF0miKMrKhqreC3MWfbJ/3z2LDRcnBOH46uk7GACYJid0LHQLRJIkcbBD3PRrNDw2RbAp7Sem2PNle/YlbmMQ6K5Pev/Hs1AHkTEjkIgIaQKp1WqbzYYPz6LTHwlcEdn7HULo4oEPanwW6jR6URB9PJEiS6T/Zabc2vHADvma5BBBEN4qLVqWsSAjLqG0rubOL0qeTR5O7PgGr/aOtPympRksOpZl4jysY8aPDZgQV9UTE/bbnXJAYiyV2jyo1O9g6rcyA84VLdNM+nxLcCbD8QxVQGKS8RrsySRaTh28KzrmgRDa1mbSqdVWSWru7o7Xh+emZj59oPh3HL88VjtTQZETHhVCSM2iF1dF37uzBUuKczKz/1tayDDMmgXZGw/s/2V22AVx/kTlnKYjAYDpMBXH4pBfJfS3Spt+jYxdCCHEcCNZd1gMeURM0GEJ5wzByQ3htJoJ6fggHTEajUYURavVynFcW+Byr8EKf7FXi2xXdbzyWsTjC5NSDlRXvnCo85H8GIeQ5+k7Tnw7rkoMFATb2yVFeemZ6bHxjTX9AeVvMixCCBVK0elZazkGkUsNOZiziKvqCZoppgg4JFoekxGSKLcdQoe3skf2M04VLY3heWZDnqT2ZRiGc5IRM5toOUVY++B1zNvVA1+1WeJjE3Yd2h+g5RFSEiIi8tMXPLmv5Gm1euU8j9N3JIwTWp59Lj/8N7vaSZTCMjr64e7dD+UazovxpftcT2vLBgCmz4SOhbiRMTHR2yRt/jUy9SKEEKcaWXi3OXgBHhdKp1LRkYk5EoQnegIPHCUhCrVabbVaW0zyyx1L3w/5kkVyklAbVfff9uTbliSnF9RUPLuv7YlVCei0lZ0gh0f0iqIol8b6CoLwfklhbkrqo9qvgiUTQmhY8RCTrsVigp6OHIITs4U76InJ+zsmTLQkU4ejuu1Mw3bWPG7qcFzR0hieZ/VPHIsHjO/OoD/PeKLlVCA/8a+Szi+aRgLDo+ubau+c75ngzT5a3MQgNM8QsTw969Hvi59TqVYn6idJw57we3Lwx9uKoWKwjD1wik9fwzF/XBryx+L+Q4drMuPmBfj6JYWH9FsEPMMhSwHWDsxlnB0LHdqUJEnoaZQ23Yss/QghhVMPL75vNDB1km4Oh0azchqGWZ4UDDVJB/Zm+DibR2x/3N/hHZT2trnjZl0hQujn/M6bq+ZFpq7KTUnfX1X+5K6GZ89PI5V4nM9icq9ywhUcorD4+wsjdFrJZqx6I1lXhBBSEPqzedU5ssYHIXp0KJ3rCu7lDONWCXHOYUl6dLUgCIIgWK1Wi3FwtOprcfNv2P/dxpZ/wFBiQvCLG0j5aceKP/cm32wLmE8illj5asej0WicFfEZeI6JR/v7gdaPavs0gfrutob16f554bognfrpHL+2jub69iOenl756Qse+Kbuh6YeXK/GwYZpgeUw3t0BWZZtoiSIEr2UXHOSz4FhGOaLpuHqAVtkmL6koc4mScnxSR/VGz+u7SPrn76QCQDMOMz4MvZjkYmeemnTPXYxoRlc8ltLQIokSURh0+O86OxLh11NovXPzKkRk+R5nmW5hsHRx3e1ML4hVuPQViV7hA9CCGmR8Lhq48GqUqsgLElJK+qyPbq92mFEq/OpHc+r0G6nsXfYYQXnqCfebfOQ5Yfq6rs9d+Mf2qU79wCT8ueiHlFhiIumr/asXM+zHHe46A7NCMUh79quJGw2m62jUvzhJebDG/g9L3Ddx0ZtyGqfkei1R3OfOJrzoFGfr/Ae+KGs7DH+p7hNpVKrVCosIDQaDfkwYQzzdJ8sMcgvazvfLe+UfENMXa335YSsiPBWq9UajUbvo30uNxhLCi9P76WpGQ9sPWb5DvvBzSxJkp7eXpHz0pauIRP+l3YEoiharELM05+/eaDJJohEmijUVGR01OHjusFPGk1RMQklNeXhrLG0vpbluBUZ2R8cHvqgqpu+UwAwl6EdC3lr2sVEg7TxXmQZQAgpvMdg7oOjfolYTCCEus3iq/sbFeaYzmapQizDFuuX1e1l7f0TqvwzDG3CDMOM2KS7v64e9QxiBHOsF3N7ekh18MUKYhFCyajtTvXeg1WloigvSU0v7DS9U9hMvAr9l/jeorbeuGe+2Fx5RLJDp71LkvT8zsobN+w/MmB01iUOXqVlaPSPu5te8N6iUkSEUJUQ9D53flJMHNL4PLP/qKiMK+wBwYnZwh30BA1+LomMsNlsNpvNOtxrK/lY/uwOZvN69vDXjH3UhoyYAiHmgb6V+5Mf7Ym5wqYLo0N/PWbhiZ2HD/Uot39eKrNjnXM4JjGLXaFE128o65A4FerreHhpxOoYf41G4+HhgQMnBl+Pl1YY2jqayxrr91eVv3JJqnNcgexKkqSHvyr7vLorMizi0v/s6Rg04qob+BqKojhqE3726cFUQ/iuttHHtpbjXyc7oU+cYZh3K7rerx0MNMQ2NtTcFKf9RaKGtQyU1tXyKtU5mTnvVPa9U9rufCQAMMcZLyYapU33otFBhJDCewzlPmD1myfb66lsKGu77dPi/1V3bjnc5RDhl2VZFKUHvyp7asfhC9/4rqClh1bns3VqDDUBqYwYEbFq0ZLip75/kUGrUVu9o9sC8vCa16Bd53h07y0v+q7wwHkxPtekhTtLIuJV9jV33/B+weLk1N98WfpFRRueeIzm07LWt4talyWlX/LWDzvqjk64K7y3hn7jPd80POX3XZjShxASWc1mfu2B2lrjqDUlLkHR+j68q1mQEXSkzjruoCdobYvFxJiMsI7amvaJ259kPryePfgaM9BMNhF1IW+acm6x3fleyN31vrn3fFXZOWKh8wB6zMJdmyuzE1K0HjqG41U8R/fMncmABA0dM/zjmv9v78zjozjOvF99zH1rdJ8zCCFuSTYYbEAm2CSODXZs58IkjrO7xt44mzcJDkm8nzeQvFlvAibZXb8+crwm2I6JndgJV+wEiA98YYE4JA4JhARIICTBSCPNaHqmu+v9o5ii1DMSskfSzEjP9w99Rj091dXVVU//quqpp6bYUfiVe2cu8bjI8InJZDKbzURVFDrN/7WkRO7reu3zM6dlWlDMhCUdnDjUdrmuo2+6t6ysqCQ/p+DeFz5s8/WGowRD0kOvHbjYz08rLD7U0vLlWfma0mZ57mDrproOY1Zhx7mmf55qu7XIatLr/nelTQh1Hz7VIIi66tlVmw5ffOHguVTomQHA0NBKzkX3jFAURb58Rt35XToy0XPjD0KOUjW6jcWz+05vb7h8Y+X1iyrnPvHe6a3HzpOOOHmDSlL4O9sPHe+SqqdNd5mNVXkOjTpPFtSO2Y26+68r/o9Pla5bXBrtnhgv5n86aMpHCPFq5Pu6HWK478mlnn+uyI07WUMNy5ZDrdnuzFx31sJZ1/37345tP9pKTArp5r165OxP9pz4wvybdtcd+Upl4aISNy0KWuykwE92+h/ecexrtmML8TFyiSOOpTPycm4rNNQ2Hg9E5JllU1W946EdxzTTUmNZgABBWLduXbLz8LHBTPDKSCRy6tSp7u5ujHFRUZHdbscY84GL/PGt/Hu/4Bt2cj1nyRZ/iES0zJ13afIXLhbf2WUofqW+3WK1FWbl8KLhj0daqr1up9nI83xnUH54x9GK0nJff0iSen97d6XNbBQHbi2TrBun4xMmkVs5K9eiE3hmTRo76OcyG+6dmmXWX42fQzNPGhuxdBlGodShf+bdugyHqyg7R1bxcx+euNXrMvBIisj/tqOuQxKnFRTuqTv827tmlmfZ2AlXjgkM/OyHp5/dfy5sz1YvtX2zMmtpsY1ILr0o3Jxvfvts9wV/X0F2rs1kfvGjo4/MnwReFECqQd9hxLY0NTX19PQghEpKSjIyMnie5/rahTe+TzyusGjsmf8DyTmZdu55np+e7XijqcsfUYpy8/OycrbsP5FhEKa4LWRk4tHX609cDs8pnbKjdv8zd87KtRlTx52ItGIO4coca7ZJ4KIryERRFERdwFrivlTDYVUX8d812WksqCDDtNS2UGtAh4cXFDperG3qlSL5Wdl57szNH9TlWUSPwyjL8tZj5//znaZ75s3fvr/mi9MzV80t4QYuQFWje4ceu3D5/j8eqDJ1/ER4jfR9Wx03nLXPFQSh1Gk06cU3m9tzM3Pys3LfP9X8r/MnafKTxPKcmKSlnqC1jQjeU6dO9fT0KIpSlJ+dHThuqX/RdGQz33mUY6JRRZyTeifdeWn61/qyrosYXBjjbIu+NMOyte6Mxe4szi3gdYY/HG65uSQjKOOH/3q8orT8ciAYlvzPLJthNepSJEAKld4qEwk41o2cSh+NzmDHVNiW7zLwxVbdi/tPuByuoqwcGePf7WtcXGR/bM/JzrBYXlD0Zv3hZ2+fOiXTSueD2ZZPHscLB8+e7ZNxX/fqGwo+O8nFM1sVGHTi4kLLW2cu+/rDx1qanvvcrFy7SRgYHzAp5QkALLF6wu/3Y4yLi4udTicf7DLs+Xc+2IUQwoKhZ/4PJFcZjm7MQRqFQScsLc3ccfzC5VC4ICe3IDP7D/tP2HVcqcP4w90NJ3xy1aTJr9ce+O/Pllfk2lkXgeS+/9hRRsRs8EHbu2pwqLze2n0CIWTqaQpnTuPteWSLInawlvYuZFlWFXlJieOVw829kpyfmZ3nznxh39EcE3+so/fn77Usnzvv9dr9n5/q/qeqAn7gEjnEWPh9LZ1NLaeeNWwxcTJCqNdS0ph/r6jTk2gZUzOtZoN+V9MFi15YWGhZ6HFTQwd6Iimkk55gx8HI5nLhcFiSpJMnT5oCrTdZmq8PvmW9WCP2d9GfqHp7oGixb/oDfs/tEYeHE/Rsxc216idlmP9y7JzV7irJyxd0ht8fat552jfNU9YdDEYk/5OfKbMYrr6eqdVIop6gf0k2NKKBHYoQBxI7uEJbvizL+Wah2Cq+dOCk2+ksysrhBfH5A6f6saE0r/DdY3VPLi0tc1v4gbE3eJ5nzccSj6vYqpuZaV5elikIA4ZMBEHQi8ItJY5tx9vWVXsq8hxidD+kVOiZAQBBoydOnjxJ9YTLoNr3ruODHQghLOh75n9fck3BzGJLUs85jtPxaEmJY0fDhcv9UlF2bkFmzsu1J4609zT58Wxv6e5DB5+4dVJFjk3TlJKuJ8gHOvpIcsXKhZB9ktHfpAt1IYQMXfWKd4lotMTqCbYMRawsLrK9dvQckRSFmVk7j7bsONG+/Ib5uw/X3lPm/NrsXI4J1EEdV4lJkSSpUB/+8sVnLREfQiiidzaW/gvSmYmYIN5sM3LsRp2A1MijN3ljx0uSVZ4TFi4t5plY+UyrWigU6u/u4JvfxI1vZKCeAT/g+P6MGYGChaGsShLRku0H4OiiBrLu40B7389rLlZNm1Xgdp+92M7zvD/Yh/t7frHEYzPpqRsmfTUmV08MXIR1NaI2m6vYb9kuFDssSRbQhkKhUCgkSdLes76f7+9YWHFdhtXW1e1TFGV/w9FffqpkSqaVtGHSjGkngI5wEHkXiUSIYwS9LorOqlA/cFEUNetsoeUDKcIA29Lf//rrr7e1tWGMF8+vqmjdLPadRwghQdc991EpcwYeGLlBEASEEB039QVC33mr1ejImjlpcpfPJ3I42+7ctu/9n91cVJXnIMGXaGtKnVlU6u1B/5LbId6UXL8vf986IdKHEJJzq9SlPzUajfQWqGkl1iAUpaO3/9tvnXNm5JUXlRhEIdgffK/+yF2TrPfPymHLgaRDCoH0FfuDfeKeH4kXjyCEVE5smvbNoLmQdkWuTscIAkmEruGnQxRJKc+JTErHs2Kd/mh1V1U1EgnLZz4SG99wtx/QbB0eNmb6Mm8IFizgzG423pSmH0AqPXnLzs3nf3AD9x81x/D0Wd6CouNnWpyi8q152Xo+zmZaSX/5sTmhbYa+vLlogBoqv2ie2QbGMR7dPBOK6oYc83dmu3760b57qhe77I5TrWczTXqbiDTpaJKiIyXk0ogRMSg6dEkeH8ZYYOKA0cwnpSQBYDDIe5G0IJ0qTW3eJErtCCHEC76qf5Pc0+mWoXRckIuGm1RVVRAEm0F8YlHed/eer22IXDdlmhQO/fnD979S7pjmMlChz5LEm6U5Z9uyoiiiKEYiEZo9juMU3u2b/WDmgV8ihMT2g8qhF/C8f9F4ZbJWgqTpNAjrb8p56B/nCnPyOM4QDMsY4SKLoA6ywRAd8hT3PS1G92JsL1sZcXiNzHAs6xpP43yAjEguqasn2AEJKpzVnvNqwxtc0259sIs9Oazy9X2u/qJqk2euwWAwGowGJpa7ZmiRNADaVFRVLbDqDaKgMxgvdPunlXiaL5z/1380PXlLicdgoKN/SW/2iFksjpmYdJq3Mhd1t2RbeNzTqO2g7VnB6I3W/ny3uyckITlSXlRyiue/9ebZpz/tLTAYYid6qe0gnTOaMY2eoLBdOmj5QGpCxYQsy4Ia/ry91iL1IIQQx3fNekjKnM1HN8UmLza9Xk8H6iORCDFWPM+bBG6SXR80WcKKYjQYF1dUvVx/yGkU75yaww0MrpA6toUOM7B5Q+hqj0LKqugrXW5t2o4QEur+oGRNEco+pUZDgqKYAHfkYG1HUEFIxrih9Vx5YdEN02dvPHhQ5fjbpuSwvTUU7X4oisIdfF5o+jvJ22XP8kDuPAPP06EIVj1w0RkTmOlIOqmrJxAznamEg5FTb+GGN/iLdZoVrn2mog8v2d+7IEqqcFNpgSUazpIGioidp0QI0cXiqqq29fSv+aAjN7+4x+87dPLkjbMqvPkFCOFv/aP517dP8Zqu7n+RCtVUIyNij6MYwRF7Mj3ItnzM8T/ed7FV0rkyMvcdqpEUtbri+smFxQihR3a1/HZZedHAouCYQQ7EjJGggX0dqgjpeElKmVEAYGE7MJwaucd2MF+8Mpd6ccpX+zOrRGZkgogJ2ldWo2EfSaDJXxy6dLSXK7Gbt7379vSSkume0kUV1/3qcK1Op7t7Rn7qmBQ00D7QgUbafjXemr3ln9f7W/SddQgh/p31sj2Xz5vBRQc5NG1cEIQ3W/uePdoztWzGgaOHCi3iiXPKtBLvwllVv6yt1ev1d0wzUclCRyaUI6/yh18i+QnkL+idfJcOYyImNHEw0SBbJKZIwU40UtcfE0cDyMiyLP/xn7jGv3GBDvqtorf35C44V3xva8aCj5ou9/VLgiB4vd6MjAyTyURiMJhMJrb+0eEKtvq2dgcf/nuTJSMvHOpHfZ2rZ1r/dOy8xWIryckVeHHzgVO3TnK7LMZUC7vGxTD0CYOlQ9twKBxZvfvUyQBncWS0t7X8qNI2y6X7y4lWl91VlJ2jYPRi7enbyjLtJkPcuV5yFVadsAKO7YrR49DygVSDyIgrjt6hYGHDc8XCFZtz3vN5f94CjYygLzbWDQhjLMvKur0ttZcVhzunufnkDytsH53v8YWkgsyc/MysPx065TaK03PsqbBkjEVjMTRZouOdGCMpp8rUXsNFAkiV0Zn31ZIFnMHGlgDtCu5s7Nj40fnsotLz505/tkC30qP/6+lLfWElPys735350oGGApu+LNNGTYqiKPLRrdwHT5JrSdkVl2Y9xDG9RI2fBClDdmo7pYTaRCOl9cTVpUf+C1znCYQQ4ngpu6Jn8j0dk7/cYyuLCGaM8dmzZ8PhMM/zkydPdrvd5iiakNhsVSOJn73c97WtR7E1UwmH7GrgR5X2LJPgtQl/PtZmsdiKc3J4Xtj0UeOtpW6HST/+aipt8xFZeWTn0aPdCmd29HW0/vQGd4lNl28RiyzCa8fOuq7EpUCba07eVpZpM+o10oqKCY6ZCmWHKGJVBceMaiS7GAAAIWbhmCRJkhQy1/xPZt9x8tVJ52J/0S10sJ12UVjfZGpVZFl+bE/jhxdDRmdW1/kzj1U6pjl1C7J1u1p8vn6pIDsnPzPr5doGt1GcnuNIqV7KYDBKIjoHzYnhrNmm8x9wShjJIdTyPi5ZwBmstBNIDMu24xcef7fFklvsv3juzmLTvR6zXuBuyjG8frqrL6zkZ2bnZbhf/OhYgVU/2W0lP5Trt6L3/otcLuIuv3z9dzB/ZaMyqidiF8bzMXs7J6usJjgpqic0645kvYu7UBssvaNn9oN9BdURcy4XfRtxHEf0hCAIU6ZMcbvddHyCHYpk5wJJsr390t1bDvQbHZwczhJC/zkv26TjeZ7Ps+hKHbpX689ZLLaS7FyT0fTch8cq8+x5djObyDiAyrXHdh1770JQNlqxr31jdYHHfkUxFNn0xVbxj3UtboezKCtHRfjFmoavVhWz7VbToWEFxGDfsickuwwAACEmHAtZ8STue9rUupd89Y6/sKvwMxaLhb7P2PUImpEJRVEe/suhD9qDyOoKdbX9ZH7O9AwDz/MGka/OM/69+bKvXyrMyinKytlZf1oKh+cUZaTmQB07REEzRuUCxljRWeWMcmPb+xxWUbgPn/0AFd+I9FYUVWb17d3/a+fRiDMX+dq/MNnx5SkO8tY364SFeaadpzr6wnJ+ZlauO+P3++oLbQaP06Qc2sLve4ZcS3Y+IJrQAAAYTklEQVSWds9bowoG6qpCp7DjdhE11gZICintP0HBjqLAbU9GIhFOVcXoTDwdPKddBLoomY5DxjZUOuzxze1HegSLKIfz9PLG6iI9f3Waf26e4TG9/vGaen7G7Ka2cxU5thlZNtYDIHklMTKwvq4Y4z/Xt3FWl9nf+eStXo9dT8tBVdWFRQa9Xrf+wOGinLy+nq4X7pmtDrIj4tDFMg4KDRivaHovfO0mfctu8tW+3txdlwsXRQPHEVMTOzJBE/lbY/vbzV3YkWO+fOHn1cXTXHrqjGzAeMOCnDXvd9SdRhajqV8KfXpyFvkqNXspHOMSIYoiNRdkXYaiKJKrrGfut501v0SqjPznlb98E9/+c95dSs75U32bKuh1/o4vT8v8yrQM4uJKUjAY8MZF+avfaatX5HPt539UXVJdZMcf/F+xYQe5tJxR1j3v+wpv4KO+lholQUssBcttIpOi4xNsE6VvLyLkaZOmveTTp0+T+Y7y8nKXy0VHI2N9fVnDkWvRvXrw9C3Fjp8t9pivGIermwsX2AxlGcb/9+GJBytzv31jCRu2BY2XSkyHJSuyrXWtnS/eNSPPZhCiK7LocGKx3Zhr1vVKof/5dJnLYtSsvE32TQBAQmiHQmtf0tVd8QQ8Fi54raMEIeT1eh0OB3HJMplM7PoCzahnsc2w/3zP+Y6u55ZNnZZpZiWIIAhGnfgZj/33R1qb2jv+/KXKfIc5XVoTNcjkX2qTZXOO4vQa22sQVlGkH5/crVjzVHuRLMvlLtMfDp195o5pt5Y4+IF7AvA8bxT56kL78weaNy2bMtOOLe//TDx7ZSNyOWuG74ZHFd7AMfH6WDdMmNdIWVI3nhV929H96Ii2pfOUNNbKzp07fT4fx3G33357YWEh9cQkekKTpmYHcxIagXzLpkwONnWHpmXb6QgnnT1J93rMGlBSDiR2DWbiTOBo1C9SFKRh0/lL1rMVANIUKiaueE4c+TMXnbzvcc74bXN+d08vQmjJkiUFBQVWq9Vms5nNZqPRyPZnUNRtnFoV0ppIOqzaoBaMumJQb4CUtSoavUV3OSDGk9ym0dfgqPkF3d9AnnqnUnm/yuvpCbQnxiZFDI6x45Cj/jk+1E1+Gyq4safiIcwJ3MDgv5pdnUFMpCYpPd/BMbEfyLAbir71SY1E0ZWfpLIOM9gix6xE0EztI0bHqKo6I3dAdxyNl5EJxMyMknaLmEWerK81DUXFcRw7wDtuygGYsGjERKRxD/fef5Ovgo6yM5O+qjTtQQixfWs2khJtCJgJ9MJHY7GwrQkx71EahSXpwXaHCTvrQZaSqgN3GFZVNeQqV2/6kbNmIx/sRAiJJ7YJ5z6QKr+OCudT600lBTHdHMeJ/Z2m+t8bL3xEL9VXfm/f5LvIRePOLoGYSHFSV0/QeowYeYsYPYEQUhSFLkEeZpq0kZMf0pkUtuWz/XKeCWI//iQFuTsULWeNnlCZ0Jb05PExQgNMcLRiouVD/ObjCGGEkGTznpv6oBJBKGp5YjfHiX2rUauCB0aJpZqDdlTIEAV9Qab+25E1xWjgLkIIITJyHLYWXFr0fxyHf61vr0UIcYFO43vrsTU3UvZZNa+Kd5eSksQYo3Aff/ZDw5m9ugsH6M7Pit7RXbFKypyJVJX1imNX5MI0R+qT6noCReOrkNc/gXWnYPsHtMYPnSzPhF3C0egrmp4E9Unkovv2ssOb6Q4XDYFH/1XjbQVCi4I6wPJMcO5k3gAAJADrj6woiny+Du9aSyL3y9b8CxXflGWB4yK0Y82+1YYQE/Qz0d8aPYGZGN4o6uDJ9pRSGXo71DeTVRVEUiiixTfnu6Zzb9uOb+HCfQghrq9df3ATOrgJ6S3I6MCikQteEkI9msSDBQu6p96HdRYUDTzKigmY5kgjUldPoGglRowWRgOba+z5w0mT9h7UgYH0qZ5gx/ToV+PsJcr2Obh4KzwxszaMzjRprGRybwEAPgFUTFzZFLDjpPrGD5EcQggppsyuOY/K2MQpYTpEL0Q36RjircYaENpLYUEIqaoqCALrrcUaltRvTVw0IHfc43QgM1CwSMqbazm13XRmD/WoQOEACgdi7zCcPds/+W7J7uU4jhUT7OySOHAL01G+SyAhUlpPUIaoRji6fin2tCEEh2ZYEsVoF+quoTlhPFVoaiBi71TzN+4JAJB2aEYmIr5W9a9rkNSLEMIGh2/e98M6BxeJ0LcXDX7AjrdrRhQ4ZtsaKsTjNiXqgoBizE7qQ/NJ+12ab6lDmyKY/OVfDJTdZbzwkaH9gP7yCRQOMKcKirMknF0ZKlggmbIxxhwzDKxREjDBml6kh54YDM1M3jDHJwY7mW32cZMaT3V6iJsdQofF/RYA0oir0xx9XerO76HgJYQQ1pl989aETdmcorA+lewc3xADCde0KoN9O9jB1IQd1KTLu9hhGOJoeSXgFW8IFlaHihdzHCdI3ULYj7CKdRbF5FbRlb1OULxAAFRJaAaE0qigJixprCcwsxiafBhm7znxE8YTQ9/shCoKYHzDOkXKwR5l5xrkb0MIYV7XM/e7YVsxF42SxzFLwMir7prj7RPEqrCSgh6hczccx1FndjqpxHGcIto4nZ2cjxWMsUx/yw8MS8iKCVbDjY/SG/eksZ6gsHoCqh0AALEMcMCUgvLrj6FLpxBCiON753wr5CpH0WWKXNRDi531gCF3ikZSsHqC53kSK4iVFJpRZPZXGjHBDkuAA2Y6Mh70BEWjmpOYEwAAUgd2dagiR+RdP0btR8hX/ooH+7OrUHT5EulhY+ZfKjLI+WBYECMp6PueY4JM8DzPhq5BTDxNNNARlY9GMaeSQrOYDko7vRgPeiLWHxNqIQAALFejTTTuRmfeJwcDM1aGiqpRNMAUfcOR8DaslyU5HwwLhRYFffGzEoHVE+woBRqoJwQGUv7gMJHWjAc9QYH6ByTOYH45CCpY2sIu61C9i5VLLeKRl0JT7gyW3oGiPhM0hDyZ7KBiAg0vsM0EhJSPZj25ZnCCSgrNr1j3FPYvx5C8OxsVJoJhGQ96go5PQLMHEoSd7o0NvMG+Y4B0gbXj5N0mz1ohOcsk93SOCfxKPAER3Y9bUejTB8MyBOzcB8/zqqoSccCKCbYpsSdTVcENDIGT5FsaBSaIYUlXPcHaCPp41IGMg8cDjCW0FpEXT01NTSgUmjNnjtFo5AaGHhofjX9CgQei5MwmS0Pp4ATREzTKPmKWo4NhGT6sMiDygp3sQAPXl2r8JOJ6bo4DJo5hSVc9QWANBIpuvUE2weOi4S8BYJgMGBVX1UAgsG/fvv3791dVVV133XUmkyl2QXxaN/6JCXlq1MWSj0bAJJt8agbnwbB8XDQdcXJwsGaCowtKhzhnHDBxDEt66wkCjYqvKEo4HOaY6LbJzhqQTrBtXlGUSCSCEAqHw/v27Tt48GBFRcX1119vsVho4ye/StOWPwGhfUHiJ0Hedux6RbLckZp1MCyJMPRgw/hzHRiCiWNYuMGedyqjqmokEgmFQqFQKBgMbt68mYhcaOfAqKLX66uqqubOnWuxWMh7KH17EhMHas0VBtbpikoKhJCiKJIkSZIEhgUYM8aNYUljPyM6ShbrQgwAowHpUjz//PPd3d2aWWEgZaGGgpUOZIJDr9fTvUPpNDbP7BcIhgUYA4hh2bx5c7oblnSd72DdeWbPnh0Oh7u6unw+X7LzBYxndDrdzJkz58yZY7FYiB87HmSrFyClYCUFYnb70zgPYozZpQdgWICxYdwYljTWE9Qxu7KyMhwOy7JMfbPT2qUFSCJX4jHLsizLjY2Nzc3N5LgoiqWlpdOnT3c4HKIopm8HYiJDzbTGT5A1F2BYgNFgghiWtNQT1EObNHuDwaBZm8QzG5EDwMcCM7GWEUKiKBYXF3u9XqvVajAYIAxwOsI+r9hnx64vAMMCjBITwbCkpZ5A0W4EEXQ4Gi6XTnaOm/AgwFhCvfbIG8VoNE6ePLmkpIRMsdOJ9uHsNgmkGlQuaLqAmocIhgUYcSaOYUnL9R3UYZtsZBeJRMhQEjlIT0vfpwIkBbqmi+6RKMsyQoi8VPR6vcFgMBgMpP2ntRs2EBcwLMBoMHEMS1qOT3DRQDRU0CmKQief0lEhAakADTZA1xaSjimdUNesBUh2foERBgwLMBpMHMOSluMTBDboGO1ApO/tAEmHDTtDQcycOgVc88YxYFiAkWXiGJY01hMUtvcwDm4HSBaxLxK6qpC6/ad7gweGDxgWYESYOIZlPOgJABgR6JuDBQ3cwSjdGzwAAGPMxDEsoCcAYACD9UfHR4MHACApTATDAnoCAAAAAIBESWNXUgAAAAAAUgTQEwAAAAAAJAroCQAAAAAAEgX0BAAAAAAAiQJ6AgAAAACARAE9AQAAAABAooCeAAAAAAAgUUBPAAAAAACQKKAnAAAAAABIFNATAAAAAAAkCugJAAAAAAASBfQEAAAAAACJAnoCAAAAAIBEAT0BAAAAAECigJ4AAAAAACBRQE8AAAAAAJAooCcAAAAAAEgU0BMAAAAAACQK6AkAAAAAABIF9AQAAAAAAIkCegIAAAAAgEQBPQEAAAAAQKKAngAAAAAAIFFATwAAAAAAkCigJwAAAAAASBTQEwAAAAAAJAroCQAAAAAAEgX0BAAAAAAAiQJ6AgAAAACARAE9AQAAAABAooCeAAAAAAAgUcRkZwAAAGB80tnZGQ6HXS6X2WyO/VaSpK6uLrvdbrPZxiAzbW1ter0+Kysr7r+piSRJW7du7erqMpvNd9xxR3JzmxYlllw4jPHopU6aU35+Psdxg52TLg8pdWp2upQYAExkVFUVBIF8jkQioqjtvG3YsGHNmjVOp9Pn8412ZlpaWrxeL0JIURSe5zX/jvbVPxk+ny8jI4P+u3bt2nXr1o3NpTHGK1eu3LBhQ0FBATmSFiWWdEaxXFRVzc7OLiwsPHny5GDntLS0FBYWZmdnq6o6ejlJHJ/PZzQav/SlLz3yyCNf//rXn3rqqTG7NMb4vvvua2trI/+mS4kBwASH7UTdfffdsSdYLBaEUElJyRhkRqfTjcFVRpb777+ffKioqPB4PA8++OCYXXrSpElbtmyJRCJjdsXxwSjOd9DmpNfrR+8qYwNbs3t6esa4Zre0tDz++ONjdkUAAEaWHTt2vPvuuwsXLoz9qqenZ+zzU1xcvHfvXoRQKne1z507hxBasWLFSy+9NMaXdjgcmiNpUWJJJ8n+E+nykFKnZqdLiQEAwLJo0aK4sx5xCQaDiqIghIZ2rejt7UUImUymYSZL4Xk+rrgZZrLDyZ4kSeFwWBAEo9E4mLEi5wyWCFFaVVVVg9/HNbjmjdBMxnVwYRmsxEb7SaUXSX4nkYc0WM3u7e3t7e2VZXmwnweDQXLOEJeQJKm3tzcYDA4xQUDOGSKREanZQ98LzefQ6QxRYsMpjeHkBACAEaSiooJ8uOWWW6558u7duzmOs1gsdrvdbrdzHPe73/2OftvZ2clx3PLlyxsbGzmOI+fodDqv13tN08FC0uE4jljF4SdbV1enyd4rr7yiSXzdunUcxxmNRrvdbrFYBEHwer3UR4Rc6+abb163bh05h+O4zs5ONoVXXnmF47iWlhaE0Jo1a8j5NM+szx/GmBwkM8LDvxFSzjST9EZICocPH0YIeb1eTcq0xMbsSaUZeNSg5d7c3DzYOR0dHeQcRVHov8uWLWtoaGAz6fF4AoEA+8MjR45obuTll1/WJL527VrNOR6P5/Lly+ylq6ur2dM6Ojo0ibz88suaRKqrq2m2VVWNvd/W1taPdS+7du2Key/0KpTW1lZNiQ2WwqZNmzSFPJycAAAwUrAGYdmyZeTz3r176QnEDcvj8dAjq1evps3T6XSyNoec0NraigZniMzQHxK7Mdi/Qye7adOmuNlbtmwZPcfj8cQ9B0WtZdxraQwReyGCx+PR5JlAxgZQ9C0zzBtZv3593EyuX78+NgVNyuTqo/ek0pok64kUr9Y49Wp27KWhZgNACsLqCWocEEKRSIScoNETzc3N1MIQQxSJRKgQ2bZtGx7Ylnft2oUxVhRlxYoVrOWJy/D1xGDJBgIBamT8fj+5QXrOkSNHMMa0x7J+/XpaCLTDFmsYt23bVlNTs3bt2rh5JjZ89erVcW9BU8ixiQ92I7RLRm8kEonQ9wV5O5B/yU3FXn1Un1Rak7p6InWqNU6lmq25NNRsAEhNNAaBuD0hRuhr9ARttqxVwRiTToLT6cRMW2aHYzU9mbgMU08MkSztt2iyR2ZzKioqMNP70lw9rmFkx1DjQlKmNvxjWd0hboSuzqPCDmPs9/vZc8il2fJkrz6qTyqtSVE9kVLVGqdSzdZcGmo2AKQmsQawurqaHCGyXqMnSM8htldDhYiiKLQth0Ih9hz2QoFAwO/3B6KQjsow9cQQydJ+Tmtra0OU1tZWcpyYGpZIJOL3+2tqalatWhXXMJKMDUEiVneIGyFPYcWKFZrLBQIBOn89tJ4YqSc1/khRX9O77rqLftb4Br/66qvkw4ULF+hYhcViIS6TZ86cQQg98MADDzzwAPlKluX+/v6Ghobf/OY3ca917733jnT2BzDEvRDnjBUrVrBOvzabLRAImEymIYKAUerr6xFCa9eu1aS8ffv2RYsWdXd3s16oQ+QEAIDRZs+ePSQOxNKlS1VVZdcUYIyJ+yEJSsFCwihp0MSTqKioIC6EGOPYFJqbm4cZf2KwZBGz0KywsDD2h8TU8Dzf29t733337dix45rXslqtw8nSJ2OIGyFviliX9msu8SCM1JMal6Sonhg31RpBzQYAACGEkCiKe/fuXbRoEUJo5cqVn/vc5+hXw+k8fGLC4fAIxrOiY6Isfr+fLNPIzs5mj1dXV8+dO3fjxo2xP8EYj+pdjxLpmOcxI0X1xHCY4NUaQc0GgHRj4cKF1dXV77zzzpYtW7Zs2cJ+RfQ9HXOlUB+p4cBxXCAQYN0/EUI2m40G2E2QVatW/epXv9IcJF04hNDSpUvJkV27di1ZsoQOgsY1vJ+YEbF777777je+8Q32yNNPP3369OlVq1ZNmTKFHBlMhI3IkxqXpOug96pVq7bHsHXr1rfffpvjOLZak8m2t99++4knnhjxbIxUzdYcefrppx999NHGxkZ6ZIiajRCCmg0A6cKePXviHicjrz/+8Y/xwD2Vli9fjhByOp3DnKM0m822gSScZYQQmj59OkLo17/+tSZ8QmVlpSAIbFiI1atX33rrrTS3dXV1I5IBGv26r6+PHiQTvh+LlStXIoS2bNnCxuCRJOmRRx7ZuHEju0q/trY2bgoj9aTGH2Nx2yMbOj7p1RpBzQYA4JNCZj1ij2/evJl8mDRpEjFuqqouX768u7sbIRQ7KjDGUOdxi8VCg1Nt2LCBzJmuX7+e4zgygbtx40ZJksgJjY2Ns2fPJp/feuutRDLgdrvJh0WLFhGDySY+fB5++GHyoaysjORTkqR58+aRgzfddBM984knnogbHjDFn1QSGYuXzdatW+ti2L9//ydLLenVGkHNBgDgWuDBt25euHBh7HStx+Mhi9daWlosFovX6xUEgXiAVVRUfPGLXxzV3F4Tl8tFg+VkZGS4XC6O49asWUOOkJx/73vfI/8ajcbKykqO48rLy2kKn6DHxWKz2chw7OHDh3U6nSbxj5UOuZGWlhaj0ej1eo1GI3l9PPXUU6QDRt4g77zzjt1u37BhgyaFFH9SyWT0lo5ccwNMdlFN3FVMFM3qncFiQNEfsvt/0mC3FBJGYrBrxUWzcokeiUvceGrDuRc2BtdTTz1FTmAPskGu4sazYk8mS2eHnxMAAEYQTcBcDXSMk4ajIMTGuqWmAMcEFKaQNZDDiURMlkTGDUw8nGRramo02Vu1ahW73F2z97LT6WxubiZWjqwpjRtcOC7k6ux6fjb2A6GmpoaE0mGjEg/nRmKHiNjQpezYMDH7sSmP0pNKa5KsJ9KiWuNUqtnDjLcNNRsA0hcaQyLZGYkPyZ7f74/bGVNVlXzLGuQRRFEUkv5wTPfQkHQGK2dFUa7Z20zxJzXGDNhbJe2ge7tZLJZYRwGMMfFvGL1d3VRVJb6QVqs1Qd9MMp0x2E53RJwN7QxBSmM4e+UBAAAAwMiS3noCAAAAAIBUAJz/AQAAAABIFNATAAAAAAAkCugJAAAAAAASBfQEAAAAAACJAnoCAAAAAIBEAT0BAAAAAECigJ4AAAAAACBRQE8AAAAAAJAooCcAAAAAAEgU0BMAAAAAACQK6AkAAAAAABIF9AQAAAAAAIkCegIAAAAAgET5/zN6N4ATu27VAAAAAElFTkSuQmCC)"
   ]
  },
  {
   "cell_type": "markdown",
   "id": "50f098a0-d275-4627-8d11-cabe0a97b98f",
   "metadata": {
    "_cell_guid": "bbfe8df0-bf38-4842-aec1-c04417a99420",
    "_uuid": "0a5e286cf360d579eb6e5d5f220dd1a17c458039",
    "id": "cbv7Qy5yLPvJ"
   },
   "source": [
    "<a id=\"12\"></a> <br>\n",
    "## Инициализация параметров\n",
    "* For x_train that has 348 sample $x^{(348)}$:\n",
    "$$z^{[1] (348)} =  W^{[1]} x^{(348)} + b^{[1] (348)}$$ \n",
    "$$a^{[1] (348)} = \\tanh(z^{[1] (348)})$$\n",
    "$$z^{[2] (348)} = W^{[2]} a^{[1] (348)} + b^{[2] (348)}$$\n",
    "$$\\hat{y}^{(348)} = a^{[2] (348)} = \\sigma(z^{ [2] (348)})$$\n",
    "\n",
    "* При логистической регрессии мы инициализируем веса значением \"0,01\" и смещение значением \"0\". Теперь же мы инициализируем веса случайным образом. Потому что, если мы обнулим параметры или сделаем их одинаковыми, каждый нейрон в первом скрытом слое будет выполнять одни и те же вычисления. Следовательно, даже после нескольких итераций градиентного спуска каждый нейрон в слое будет выполнять те же действия, что и другие нейроны. Поэтому мы инициализируем случайным образом. Также начальные веса должны быть небольшими. Если они изначально очень велики, это приведет к тому, что входные данные тангенса будут большими, что приведет к тому, что градиенты будут близки к нулю и алгоритм оптимизации будет медленным\n",
    "* Изначально смещение может быть нулевым"
   ]
  },
  {
   "cell_type": "code",
   "execution_count": 18,
   "id": "1572a5d0-b8ca-418d-90da-651410a6a8e6",
   "metadata": {
    "_cell_guid": "089fd577-95a0-4218-9b53-72bf1c0ab206",
    "_uuid": "922670a74f6999885759399ebea8b10692796a29",
    "id": "29XfiQmgLPvJ"
   },
   "source": [
    "# intialize parameters and layer sizes\n",
    "def initialize_parameters_and_layer_sizes_NN(x_train, y_train):\n",
    "    parameters = {\"weight1\": np.random.randn(3,x_train.shape[0]) * 0.1,\n",
    "                  \"bias1\": np.zeros((3,1)),\n",
    "                  \"weight2\": np.random.randn(y_train.shape[0],3) * 0.1,\n",
    "                  \"bias2\": np.zeros((y_train.shape[0],1))}\n",
    "    return parameters"
   ],
   "outputs": []
  },
  {
   "cell_type": "markdown",
   "id": "e195643c-6e2a-47df-afbe-564e1d19be91",
   "metadata": {
    "_cell_guid": "65832cdf-7ee8-447b-a068-48ac2e46b49f",
    "_uuid": "66147bbafbe25dac498f3963ea8419126f624ce9",
    "id": "QHeEVOzbLPvJ"
   },
   "source": [
    "<a name=\"13\"></a> <br>\n",
    "## Прямое распространение\n",
    "* Прямое распространение почти совпадает с логистической регрессией\n",
    "* Единственная разница в том, что мы используем функцию tanh и выполняем весь процесс дважды (два слоя)\n",
    "* Также у numpy есть функция tanh. Так что нам не нужно его реализовывать"
   ]
  },
  {
   "cell_type": "code",
   "execution_count": 19,
   "id": "105e41fa-a2d8-4613-b216-374b7ae92583",
   "metadata": {
    "_cell_guid": "d64d6b90-7f14-453f-a401-4119504496e3",
    "_uuid": "41e1e2f1c7afff027ba0a9f9b2fdcbe312e9a194",
    "id": "O5tWKqyELPvJ"
   },
   "source": [
    "def forward_propagation_NN(x_train, parameters):\n",
    "\n",
    "    Z1 = np.dot(parameters[\"weight1\"],x_train) +parameters[\"bias1\"]\n",
    "    A1 = np.tanh(Z1)\n",
    "    Z2 = np.dot(parameters[\"weight2\"],A1) + parameters[\"bias2\"]\n",
    "    A2 = sigmoid(Z2)\n",
    "\n",
    "    cache = {\"Z1\": Z1,\n",
    "             \"A1\": A1,\n",
    "             \"Z2\": Z2,\n",
    "             \"A2\": A2}\n",
    "    \n",
    "    return A2, cache"
   ],
   "outputs": []
  },
  {
   "cell_type": "markdown",
   "id": "71f1ff50-e97d-4a2d-a8f6-ddeae0b2dfbd",
   "metadata": {
    "_cell_guid": "30a0abc9-7ee0-4093-afd5-ae9d5b1fcd5e",
    "_uuid": "ee7a42ee207e222eed5c24b1bfbf2d6ce0cdec37",
    "id": "80Oj2pt5LPvK"
   },
   "source": [
    "<a name=\"14\"></a> <br>\n",
    "## Функция потерь (Loss function) и функция стоимости (Cost function)\n",
    "* Функция потерь - на одном примере\n",
    "* Функция стоимости - на всем датасете. Обычно это понятие не используют, расширяя понятие функции потерь\n",
    "* Такие же, как и в логистической регрессии"
   ]
  },
  {
   "cell_type": "code",
   "execution_count": 20,
   "id": "42d81e57-3d8e-420f-ac27-b0a08897c681",
   "metadata": {
    "_cell_guid": "24143d72-bc62-4f2d-b0cf-4f67a4016299",
    "_uuid": "b55887b28cffc8083a76af45d25957d4f3e9f6fa",
    "id": "OnuXUF7zLPvK"
   },
   "source": [
    "# Compute cost\n",
    "def compute_cost_NN(A2, Y, parameters):\n",
    "    logprobs = np.multiply(np.log(A2), Y)\n",
    "    cost = -np.sum(logprobs) / Y.shape[1]\n",
    "    return cost"
   ],
   "outputs": []
  },
  {
   "cell_type": "markdown",
   "id": "c587aaf6-d477-4579-8a36-8319d5a6534e",
   "metadata": {
    "_cell_guid": "39839772-976a-4e53-a2e0-07aa76c9bd98",
    "_uuid": "43767f9271e2b2b6e0c3560e414f3c0c596ffe2f",
    "id": "DndDoIg_LPvK"
   },
   "source": [
    "<a name=\"15\"></a> <br>\n",
    "## Обратное распространение"
   ]
  },
  {
   "cell_type": "code",
   "execution_count": 21,
   "id": "1c7a883b-72d1-49dc-9594-7e043d5b8185",
   "metadata": {
    "_cell_guid": "2fcfd3c4-f935-4272-a284-c2dbc2c35afb",
    "_uuid": "6bf7bce2e4413ecdc16ea778008eee4072738aab",
    "id": "WSmPlbM4LPvK"
   },
   "source": [
    "# Backward Propagation\n",
    "def backward_propagation_NN(parameters, cache, X, Y):\n",
    "    dZ2 = cache[\"A2\"]-Y\n",
    "    dW2 = np.dot(dZ2,cache[\"A1\"].T)/X.shape[1]\n",
    "    db2 = np.sum(dZ2,axis =1,keepdims=True)/X.shape[1]\n",
    "    dZ1 = np.dot(parameters[\"weight2\"].T,dZ2)*(1 - np.power(cache[\"A1\"], 2))\n",
    "    dW1 = np.dot(dZ1,X.T)/X.shape[1]\n",
    "    db1 = np.sum(dZ1, axis =1, keepdims=True) / X.shape[1]\n",
    "    grads = {\"dweight1\": dW1,\n",
    "             \"dbias1\": db1,\n",
    "             \"dweight2\": dW2,\n",
    "             \"dbias2\": db2}\n",
    "    return grads"
   ],
   "outputs": []
  },
  {
   "cell_type": "markdown",
   "id": "4b74f26f-d4e3-443e-a884-34e1816f226c",
   "metadata": {
    "_cell_guid": "af195fda-5649-4e6d-830e-72123f2726a8",
    "_uuid": "b1996782dc44fda7993407c9b5efee5d4fef46e4",
    "id": "oAPY_T3RLPvK"
   },
   "source": [
    "<a name=\"16\"></a> <br>\n",
    "## Обновление параметров\n",
    "* Обновление параметров также аналогично логистической регрессии\n",
    "* Не зря же мы ее так подробно разбирали"
   ]
  },
  {
   "cell_type": "code",
   "execution_count": 22,
   "id": "43a10c2c-5bc8-4da8-a81e-13a52dcb87e5",
   "metadata": {
    "_cell_guid": "d9ae95d4-1d11-4293-822d-e1d5f0c16d1e",
    "_uuid": "facf2b475cb82e14dcc6be56b57fe2c3ad0b1a8f",
    "id": "N8ulQeTbLPvK"
   },
   "source": [
    "# update parameters\n",
    "def update_parameters_NN(parameters, grads, learning_rate = 0.01):\n",
    "    parameters = {\"weight1\": parameters[\"weight1\"]-learning_rate*grads[\"dweight1\"],\n",
    "                  \"bias1\": parameters[\"bias1\"]-learning_rate*grads[\"dbias1\"],\n",
    "                  \"weight2\": parameters[\"weight2\"]-learning_rate*grads[\"dweight2\"],\n",
    "                  \"bias2\": parameters[\"bias2\"]-learning_rate*grads[\"dbias2\"]}\n",
    "    \n",
    "    return parameters"
   ],
   "outputs": []
  },
  {
   "cell_type": "markdown",
   "id": "21afd86a-348c-4c5a-9a13-bf037e04e032",
   "metadata": {
    "_cell_guid": "ac416480-ec9c-45b4-ac9d-1caeded9ba90",
    "_uuid": "9c471502563017fabb991494359091215e4ad583",
    "id": "yrW4dYtXLPvL"
   },
   "source": [
    "<a name=\"17\"></a> <br>\n",
    "## Прогнозирование\n",
    "* Угадаейте, на что же это похоже?"
   ]
  },
  {
   "cell_type": "code",
   "execution_count": 23,
   "id": "5ad47f2b-14af-4830-88c2-c73135c87bab",
   "metadata": {
    "_cell_guid": "96004eb5-d6ca-41ab-a577-70fb0628a2f4",
    "_uuid": "53c00c4430c6fcc3298dde8de804cab71884caa5",
    "id": "S_uR3VAYLPvL"
   },
   "source": [
    "# prediction\n",
    "def predict_NN(parameters,x_test):\n",
    "    # x_test is a input for forward propagation\n",
    "    A2, cache = forward_propagation_NN(x_test,parameters)\n",
    "    Y_prediction = np.zeros((1,x_test.shape[1]))\n",
    "    # if z is bigger than 0.5, our prediction is sign one (y_head=1),\n",
    "    # if z is smaller than 0.5, our prediction is sign zero (y_head=0),\n",
    "    for i in range(A2.shape[1]):\n",
    "        if A2[0,i]<= 0.5:\n",
    "            Y_prediction[0,i] = 0\n",
    "        else:\n",
    "            Y_prediction[0,i] = 1\n",
    "\n",
    "    return Y_prediction"
   ],
   "outputs": []
  },
  {
   "cell_type": "markdown",
   "id": "4bf1fecb-19c8-4e85-9c4e-224e7baca1fd",
   "metadata": {
    "_cell_guid": "d0df9e13-300b-4d5e-b8ec-f702ed0e06af",
    "_uuid": "94202fbc047d59fa5c8b81ba02962f1f3cc56d8f",
    "id": "Um7J5Z-ULPvL"
   },
   "source": [
    "<a name=\"18\"></a> <br>\n",
    "## Создаем модель\n",
    "* Объединим все вместе"
   ]
  },
  {
   "cell_type": "code",
   "execution_count": 24,
   "id": "6c23fdf9-9fac-42bc-b0ae-c628e3bbaa96",
   "metadata": {
    "_cell_guid": "b66f3c28-0f71-4176-8a6b-35b98b0db936",
    "_uuid": "9babf239f800bedc9864c6a75677985d57f1cc78",
    "colab": {
     "base_uri": "https://localhost:8080/",
     "height": 764
    },
    "id": "mXbqUrJXLPvL",
    "outputId": "d2c517ba-0ae2-4640-bc4d-c5de234dcb49"
   },
   "source": [
    "# 2 - Layer neural network\n",
    "def two_layer_neural_network(x_train, y_train,x_test,y_test, num_iterations):\n",
    "    cost_list = []\n",
    "    index_list = []\n",
    "    #initialize parameters and layer sizes\n",
    "    parameters = initialize_parameters_and_layer_sizes_NN(x_train, y_train)\n",
    "\n",
    "    for i in range(0, num_iterations):\n",
    "         # forward propagation\n",
    "        A2, cache = forward_propagation_NN(x_train,parameters)\n",
    "        # compute cost\n",
    "        cost = compute_cost_NN(A2, y_train, parameters)\n",
    "         # backward propagation\n",
    "        grads = backward_propagation_NN(parameters, cache, x_train, y_train)\n",
    "         # update parameters\n",
    "        parameters = update_parameters_NN(parameters, grads)\n",
    "        \n",
    "        if i % 100 == 0:\n",
    "            cost_list.append(cost)\n",
    "            index_list.append(i)\n",
    "            print (\"Cost after iteration %i: %f\" %(i, cost))\n",
    "    plt.plot(index_list,cost_list)\n",
    "    plt.xticks(index_list,rotation='vertical')\n",
    "    plt.xlabel(\"Number of Iterarion\")\n",
    "    plt.ylabel(\"Cost\")\n",
    "    plt.show()\n",
    "    \n",
    "    # predict\n",
    "    y_prediction_test = predict_NN(parameters,x_test)\n",
    "    y_prediction_train = predict_NN(parameters,x_train)\n",
    "\n",
    "    # Print train/test Errors\n",
    "    print(\"train accuracy: {} %\".format(100 - np.mean(np.abs(y_prediction_train - y_train)) * 100))\n",
    "    print(\"test accuracy: {} %\".format(100 - np.mean(np.abs(y_prediction_test - y_test)) * 100))\n",
    "    return parameters\n",
    "\n",
    "parameters = two_layer_neural_network(x_train, y_train,x_test,y_test, num_iterations=2500)"
   ],
   "outputs": []
  },
  {
   "cell_type": "markdown",
   "id": "8a16436f-4778-4b77-a4ab-66735d284a6c",
   "metadata": {
    "_cell_guid": "c054ed2a-9dd9-498c-9be6-6e9b16ff5913",
    "_uuid": "aa2f896b72236e09687afc3c613a4fc801b16552",
    "id": "9aTB0yK_LPvL"
   },
   "source": [
    "<a name=\"19\"></a> <br>\n",
    "# Многослойная нейронная сеть\n",
    "* **Что произойдет, если количество скрытых слоев увеличится:** более ранние слои могут обнаруживать простые признаки\n",
    "* Когда модель объединяет простые функции в последующих слоях нейронной сети, она может изучать все более и более сложные функции. Например, давайте посмотрим на наш первый знак\n",
    "<a href=\"http://ibb.co/dNgDJH\"><img src=\"http://preview.ibb.co/mpD4Qx/10.jpg\" alt=\"10\" border=\"0\"></a>\n",
    "* Например, первый скрытый слой изучает края или основные формы, такие как линия. Следующие слои начинают изучать более сложные вещи, такие как выпуклые формы или характерные черты, такие как указательный палец\n",
    "* Давайте создадим нашу модель:\n",
    "    * Есть некоторые гиперпараметры, которые нам нужно выбрать, такие как скорость обучения, количество итераций, количество скрытых слоев, количество нейронов в скрытых слоях, тип функций активации\n",
    "    * Эти гиперпараметры можно выбирать интуитивно, использовать стандартные значения или использовать различные методы подбора гиперпараметров\n",
    "    * Наша модель будет иметь 2 скрытых слоя с 8 и 4 узлами соответственно. Потому что, когда количество скрытых слоев и узлов увеличивается, это занимает слишком много времени\n",
    "    * В качестве функции активации мы будем использовать relu (первый скрытый слой), relu (второй скрытый слой) и sigmoid (выходной слой) соответственно\n",
    "    * Количество итераций будет равно 100\n",
    "\n",
    "* Мы уже реализовали простую нейросеть, дальше будем использовать готовые инструменты) Ниже пример на Keras-е (он же \"Карась\", надстройка над Tensorflow), далее мы будем использовать PyTorch (отдельный ноутбук)\n",
    "    \n",
    "    "
   ]
  },
  {
   "cell_type": "code",
   "execution_count": 25,
   "id": "0e422cc6-c5e4-4191-9d85-ee27b22e8cd2",
   "metadata": {
    "_cell_guid": "631a05c4-e362-4fa0-9048-21c599f55344",
    "_uuid": "0a978924a68d423de4babe73c15412ad938c1858",
    "id": "0SjkW7ioLPvM"
   },
   "source": [
    "# reshaping\n",
    "x_train, x_test, y_train, y_test = x_train.T, x_test.T, y_train.T, y_test.T"
   ],
   "outputs": []
  },
  {
   "cell_type": "code",
   "execution_count": 26,
   "id": "8a369a48-99a5-4f00-b9ad-4ba325c02576",
   "metadata": {
    "colab": {
     "base_uri": "https://localhost:8080/"
    },
    "id": "QPlaBEilIU_Z",
    "outputId": "7211e285-c7c2-4d9b-d498-20107bb47b6e"
   },
   "source": [
    "# Evaluating the ANN\n",
    "from keras.wrappers.scikit_learn import KerasClassifier\n",
    "from sklearn.model_selection import cross_val_score\n",
    "from keras.models import Sequential # initialize neural network library\n",
    "from keras.layers import Dense # build our layers library\n",
    "\n",
    "def build_classifier():\n",
    "    classifier = Sequential() # initialize neural network\n",
    "    classifier.add(Dense(units=8, kernel_initializer='uniform', activation='relu', input_dim=x_train.shape[1]))\n",
    "    classifier.add(Dense(units=4, kernel_initializer='uniform', activation='relu'))\n",
    "    classifier.add(Dense(units=1, kernel_initializer='uniform', activation='sigmoid'))\n",
    "    classifier.compile(optimizer='adam', loss='binary_crossentropy', metrics=['accuracy'])\n",
    "    return classifier\n",
    "\n",
    "classifier = KerasClassifier(build_fn=build_classifier, epochs=100)\n",
    "accuracies = cross_val_score(estimator=classifier, X=x_train, y=y_train, cv=3)\n",
    "mean = accuracies.mean()\n",
    "variance = accuracies.std()\n",
    "\n",
    "print(\"Accuracy mean:\" + str(mean))\n",
    "print(\"Accuracy variance:\" + str(variance))"
   ],
   "outputs": []
  }
 ],
 "metadata": {
  "kernelspec": {
   "display_name": "Python 3 (ipykernel)",
   "language": "python",
   "name": "python3"
  },
  "language_info": {
   "codemirror_mode": {
    "name": "ipython",
    "version": 3
   },
   "file_extension": ".py",
   "mimetype": "text/x-python",
   "name": "python",
   "nbconvert_exporter": "python",
   "pygments_lexer": "ipython3",
   "version": "3.11.4"
  }
 },
 "nbformat": 4,
 "nbformat_minor": 5
}
