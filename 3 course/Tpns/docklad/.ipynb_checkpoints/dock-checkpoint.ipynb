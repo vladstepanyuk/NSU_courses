{
 "cells": [
  {
   "cell_type": "code",
   "execution_count": 1,
   "id": "initial_id",
   "metadata": {
    "collapsed": true,
    "ExecuteTime": {
     "end_time": "2024-02-28T15:01:40.429608Z",
     "start_time": "2024-02-28T15:01:39.401848Z"
    }
   },
   "source": [
    "import pandas as pd\n",
    "import numpy as np\n",
    "import matplotlib.pyplot as plt"
   ],
   "outputs": []
  },
  {
   "cell_type": "markdown",
   "source": [
    "## Обзор данных\n",
    "\n",
    "* В качестве датасета рассмотрим классический датасет рукописных цифр MNIST - https://www.kaggle.com/competitions/digit-recognizer/\n",
    "* В этих данных содержится изображения рукописных цифр\n",
    "* \"Hello world\" для computer vision моделей\n",
    "* Существует 10 уникальных цифр (классов)"
   ],
   "metadata": {
    "collapsed": false
   },
   "id": "1df86a7a1bd30662"
  },
  {
   "cell_type": "code",
   "source": [
    "data = pd.read_csv(\"./digit-recognizer/train.csv\")\n",
    "data.head(5)"
   ],
   "metadata": {
    "collapsed": false,
    "ExecuteTime": {
     "end_time": "2024-02-28T15:01:42.028651Z",
     "start_time": "2024-02-28T15:01:40.431104Z"
    }
   },
   "id": "51530c66c186b7d8",
   "execution_count": 2,
   "outputs": []
  },
  {
   "cell_type": "code",
   "source": [
    "data_numpy = data.to_numpy()\n",
    "plt.imshow(data_numpy[10][1:].reshape(28, 28))"
   ],
   "metadata": {
    "collapsed": false,
    "ExecuteTime": {
     "end_time": "2024-02-27T15:42:36.882836Z",
     "start_time": "2024-02-27T15:42:36.761451Z"
    }
   },
   "id": "f08c6adb0fcfef6b",
   "execution_count": 3,
   "outputs": []
  },
  {
   "cell_type": "code",
   "source": [
    "print(data.shape)"
   ],
   "metadata": {
    "collapsed": false,
    "ExecuteTime": {
     "end_time": "2024-02-28T16:34:32.708254Z",
     "start_time": "2024-02-28T16:34:32.706009Z"
    }
   },
   "id": "8ad62edc2eebec2b",
   "execution_count": 53,
   "outputs": []
  },
  {
   "cell_type": "markdown",
   "source": [
    "Датасет содержит 42000 картинок размерности 28x28"
   ],
   "metadata": {
    "collapsed": false
   },
   "id": "6887724971a7961b"
  },
  {
   "cell_type": "markdown",
   "source": [
    "Разделим data на X и Y и выделим обучающую и тестовую выборки:\n",
    "\n",
    "* test_size - доля тестовой выборки (20%)\n",
    "* random_state (random_seed) - рекомендуется использовать одно и то же значение при рандомизации для воспроизводимости результатов"
   ],
   "metadata": {
    "collapsed": false
   },
   "id": "1e0ead2e06b1537b"
  },
  {
   "cell_type": "markdown",
   "source": [
    "## Logistic Regression\n",
    "* Когда мы говорим о бинарной классификации (классы 0 и 1, \"да\"/\"нет\"), основной бэйзлайн — это логистическая регрессия\n",
    "* Логистическую регрессию можно реализовать с помощью очень простой нейронной сети."
   ],
   "metadata": {
    "collapsed": false
   },
   "id": "384791279fd44d43"
  },
  {
   "cell_type": "markdown",
   "source": [
    "Computation Graph\n",
    "Графы вычислений — удобное представление математического выражения\n",
    "Граф вычислений логистической регресии:\n"
   ],
   "metadata": {
    "collapsed": false
   },
   "id": "a2cb42548d4e3ad8"
  },
  {
   "cell_type": "code",
   "source": [
    "from sklearn.model_selection import train_test_split\n",
    "\n",
    "X = data.drop(columns=[\"label\"])\n",
    "y = data[\"label\"]\n",
    "\n",
    "X_train, X_validate, y_train, y_validate = train_test_split(X, y, train_size=0.8, random_state=42)"
   ],
   "metadata": {
    "collapsed": false,
    "ExecuteTime": {
     "end_time": "2024-02-28T15:02:03.672823Z",
     "start_time": "2024-02-28T15:02:02.776269Z"
    }
   },
   "id": "abcb6026b0ca8072",
   "execution_count": 5,
   "outputs": []
  },
  {
   "cell_type": "code",
   "source": [
    "from sklearn.linear_model import LogisticRegression\n",
    "\n",
    "model = LogisticRegression()\n",
    "\n",
    "model.fit(X_train, y_train)\n",
    "\n",
    "y_pred = model.predict(X_validate)"
   ],
   "metadata": {
    "collapsed": false,
    "ExecuteTime": {
     "end_time": "2024-02-27T14:59:18.718366Z",
     "start_time": "2024-02-27T14:59:14.170443Z"
    }
   },
   "id": "e0e42b3ddf41393a",
   "execution_count": 18,
   "outputs": []
  },
  {
   "cell_type": "code",
   "source": [
    "from sklearn.metrics import f1_score\n",
    "\n",
    "f1_score(y_validate, y_pred, average='micro')"
   ],
   "metadata": {
    "collapsed": false,
    "ExecuteTime": {
     "end_time": "2024-02-27T14:59:19.627896Z",
     "start_time": "2024-02-27T14:59:19.621919Z"
    }
   },
   "id": "60849a4615882dcf",
   "execution_count": 19,
   "outputs": []
  },
  {
   "cell_type": "code",
   "source": [
    "from sklearn.model_selection import GridSearchCV\n",
    "\n",
    "searcher = GridSearchCV(LogisticRegression(), {'penalty': ['l1', 'l2'], 'C': np.logspace(start=-4, stop=2, num=7)},\n",
    "                        cv=5)\n",
    "\n",
    "searcher.fit(X_train, y_train)"
   ],
   "metadata": {
    "collapsed": false,
    "ExecuteTime": {
     "end_time": "2024-02-27T15:10:15.455133Z",
     "start_time": "2024-02-27T15:07:59.761836Z"
    }
   },
   "id": "2557cd0cef5dbfb8",
   "execution_count": 28,
   "outputs": []
  },
  {
   "cell_type": "code",
   "source": [
    "searcher.best_params_  # Совпало со стандартными :)"
   ],
   "metadata": {
    "collapsed": false,
    "ExecuteTime": {
     "end_time": "2024-02-27T15:10:25.479567Z",
     "start_time": "2024-02-27T15:10:25.476682Z"
    }
   },
   "id": "7bde23040267393",
   "execution_count": 29,
   "outputs": []
  },
  {
   "cell_type": "code",
   "source": [
    "import torch\n",
    "from torch import nn\n",
    "from torch.nn import functional as F\n",
    "\n",
    "device = (\n",
    "    \"cuda\"\n",
    "    if torch.cuda.is_available()\n",
    "    else \"mps\"\n",
    "    if torch.backends.mps.is_available()\n",
    "    else \"cpu\"\n",
    ")\n",
    "print(f\"Using {device} device\")"
   ],
   "metadata": {
    "collapsed": false,
    "ExecuteTime": {
     "end_time": "2024-02-28T15:01:51.728309Z",
     "start_time": "2024-02-28T15:01:49.375818Z"
    }
   },
   "id": "2bdc457c560c3400",
   "execution_count": 3,
   "outputs": []
  },
  {
   "cell_type": "code",
   "source": [
    "from torch.utils.data import TensorDataset, DataLoader\n",
    "\n",
    "X_train_torch = torch.from_numpy(X_train.to_numpy()).to(dtype=torch.float)\n",
    "y_train_torch = torch.from_numpy(y_train.to_numpy())\n",
    "\n",
    "my_dataset = TensorDataset(X_train_torch,y_train_torch) \n",
    "train_dataloader = DataLoader(my_dataset)\n",
    "\n",
    "X_test_torch = torch.from_numpy(X_validate.to_numpy()).to(dtype=torch.float)\n",
    "y_test_torch = torch.from_numpy(y_validate.to_numpy())\n",
    "\n",
    "my_dataset_train = TensorDataset(X_test_torch, y_test_torch)  \n",
    "test_dataloader = DataLoader(my_dataset_train)"
   ],
   "metadata": {
    "collapsed": false,
    "ExecuteTime": {
     "end_time": "2024-02-28T15:02:08.964007Z",
     "start_time": "2024-02-28T15:02:08.931461Z"
    }
   },
   "id": "81de4c58ef00bd3c",
   "execution_count": 6,
   "outputs": []
  },
  {
   "cell_type": "code",
   "source": [
    "def init_weights(m):\n",
    "    if isinstance(m, nn.Linear):\n",
    "        torch.nn.init.xavier_uniform_(m.weight)\n",
    "        # m.bias.data.fill_(0.01)\n",
    "    \n",
    "\n",
    "\n",
    "class SuperDuderNN(nn.Module):\n",
    "\n",
    "    def __init__(self):\n",
    "        super().__init__()\n",
    "        \n",
    "        self.relu_stack = nn.Sequential(\n",
    "            nn.Linear(28 * 28, 512),\n",
    "            nn.ReLU(),\n",
    "            nn.Linear(512, 512),\n",
    "            nn.ReLU(),\n",
    "            nn.Linear(512, 512),\n",
    "            nn.ReLU(),\n",
    "            nn.Linear(512, 10)\n",
    "        )\n",
    "        \n",
    "        self.relu_stack.apply(init_weights)\n",
    "        \n",
    "        \n",
    "\n",
    "        \n",
    "\n",
    "    def forward(self, x):\n",
    "        logits = self.relu_stack(x)\n",
    "        return logits\n",
    "\n",
    "\n",
    "model = SuperDuderNN().to(device)"
   ],
   "metadata": {
    "collapsed": false,
    "ExecuteTime": {
     "end_time": "2024-02-28T16:22:27.921630Z",
     "start_time": "2024-02-28T16:22:27.908488Z"
    }
   },
   "id": "850a0de4baaea18c",
   "execution_count": 42,
   "outputs": []
  },
  {
   "cell_type": "code",
   "source": [
    "loss_fn = nn.CrossEntropyLoss()\n",
    "optimizer = torch.optim.SGD(model.parameters(), lr=1e-3)\n",
    "\n",
    "\n",
    "def train(dataloader, model, loss_fn, optimizer):\n",
    "    size = len(dataloader.dataset)\n",
    "    model.train()\n",
    "    for batch, (X, y) in enumerate(dataloader):\n",
    "        X, y = X.to(device), y.to(device)\n",
    "\n",
    "        # Compute prediction error\n",
    "        pred = model(X)\n",
    "        loss = loss_fn(pred, y)\n",
    "\n",
    "        # Backpropagation\n",
    "        loss.backward()\n",
    "        optimizer.step()\n",
    "        optimizer.zero_grad()\n",
    "\n",
    "        if batch % 10000 == 0:\n",
    "            loss, current = loss.item(), (batch + 1) * len(X)\n",
    "            print(f\"loss: {loss:>7f}  [{current:>5d}/{size:>5d}]\")"
   ],
   "metadata": {
    "collapsed": false,
    "ExecuteTime": {
     "end_time": "2024-02-28T16:22:28.496182Z",
     "start_time": "2024-02-28T16:22:28.492752Z"
    }
   },
   "id": "3544149430123fc5",
   "execution_count": 43,
   "outputs": []
  },
  {
   "cell_type": "code",
   "source": [
    "def test(dataloader, model, loss_fn):\n",
    "    size = len(dataloader.dataset)\n",
    "    num_batches = len(dataloader)\n",
    "    model.eval()\n",
    "    test_loss, correct = 0, 0\n",
    "    with torch.no_grad():\n",
    "        for X, y in dataloader:\n",
    "            X, y = X.to(device), y.to(device)\n",
    "            pred = model(X)\n",
    "            test_loss += loss_fn(pred, y).item()\n",
    "            correct += (pred.argmax(1) == y).type(torch.float).sum().item()\n",
    "    test_loss /= num_batches\n",
    "    correct /= size\n",
    "    print(f\"Test Error: \\n Accuracy: {(100*correct):>0.1f}%, Avg loss: {test_loss:>8f} \\n\")"
   ],
   "metadata": {
    "collapsed": false,
    "ExecuteTime": {
     "end_time": "2024-02-28T16:22:29.194836Z",
     "start_time": "2024-02-28T16:22:29.191876Z"
    }
   },
   "id": "167b2365a75e0f54",
   "execution_count": 44,
   "outputs": []
  },
  {
   "cell_type": "code",
   "source": [
    "epochs = 3\n",
    "for t in range(epochs):\n",
    "    print(f\"Epoch {t+1}\\n-------------------------------\")\n",
    "    train(train_dataloader, model, loss_fn, optimizer)\n",
    "    test(test_dataloader, model, loss_fn)\n",
    "print(\"Done!\")"
   ],
   "metadata": {
    "collapsed": false,
    "ExecuteTime": {
     "end_time": "2024-02-28T16:24:13.211770Z",
     "start_time": "2024-02-28T16:22:29.622197Z"
    }
   },
   "id": "83ffdfbc71db2dfd",
   "execution_count": 45,
   "outputs": []
  },
  {
   "cell_type": "code",
   "source": [
    "\n",
    "plt.imshow(X_train_torch[10].reshape(28, 28))\n",
    "x = X_train_torch[10]\n",
    "x = x.to(device)\n",
    "model(x)"
   ],
   "metadata": {
    "collapsed": false,
    "ExecuteTime": {
     "end_time": "2024-02-28T16:26:28.174860Z",
     "start_time": "2024-02-28T16:26:28.010533Z"
    }
   },
   "id": "2ae92fd499225979",
   "execution_count": 50,
   "outputs": []
  },
  {
   "cell_type": "code",
   "source": [
    "loss_fn = nn.CrossEntropyLoss()\n",
    "model = SuperDuderNN().to(device)\n",
    "optimizer = torch.optim.Adam(model.parameters(), lr = 1e-5)"
   ],
   "metadata": {
    "collapsed": false,
    "ExecuteTime": {
     "end_time": "2024-02-28T16:27:07.310444Z",
     "start_time": "2024-02-28T16:27:07.299868Z"
    }
   },
   "id": "2d0890c506077265",
   "execution_count": 51,
   "outputs": []
  },
  {
   "cell_type": "code",
   "source": [
    "epochs = 3\n",
    "for t in range(epochs):\n",
    "    print(f\"Epoch {t+1}\\n-------------------------------\")\n",
    "    train(train_dataloader, model, loss_fn, optimizer)\n",
    "    test(test_dataloader, model, loss_fn)\n",
    "print(\"Done!\")"
   ],
   "metadata": {
    "collapsed": false,
    "ExecuteTime": {
     "end_time": "2024-02-28T16:29:03.425094Z",
     "start_time": "2024-02-28T16:27:07.617652Z"
    }
   },
   "id": "347f811227949b10",
   "execution_count": 52,
   "outputs": []
  },
  {
   "cell_type": "code",
   "source": [],
   "metadata": {
    "collapsed": false
   },
   "id": "c4b101f9002c4418",
   "execution_count": null,
   "outputs": []
  }
 ],
 "metadata": {
  "kernelspec": {
   "display_name": "Python 3",
   "language": "python",
   "name": "python3"
  },
  "language_info": {
   "codemirror_mode": {
    "name": "ipython",
    "version": 2
   },
   "file_extension": ".py",
   "mimetype": "text/x-python",
   "name": "python",
   "nbconvert_exporter": "python",
   "pygments_lexer": "ipython2",
   "version": "2.7.6"
  }
 },
 "nbformat": 4,
 "nbformat_minor": 5
}
