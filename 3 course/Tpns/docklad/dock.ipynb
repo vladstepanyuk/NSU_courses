{
 "cells": [
  {
   "cell_type": "code",
   "execution_count": 1,
   "id": "initial_id",
   "metadata": {
    "collapsed": true,
    "ExecuteTime": {
     "end_time": "2024-02-28T15:01:40.429608Z",
     "start_time": "2024-02-28T15:01:39.401848Z"
    }
   },
   "source": [
    "import pandas as pd\n",
    "import numpy as np\n",
    "import matplotlib.pyplot as plt"
   ],
   "outputs": []
  },
  {
   "cell_type": "markdown",
   "source": [
    "## Обзор данных\n",
    "\n",
    "* В качестве датасета рассмотрим классический датасет рукописных цифр MNIST - https://www.kaggle.com/competitions/digit-recognizer/\n",
    "* В этих данных содержится изображения рукописных цифр\n",
    "* \"Hello world\" для computer vision моделей\n",
    "* Существует 10 уникальных цифр (классов)"
   ],
   "metadata": {
    "collapsed": false
   },
   "id": "1df86a7a1bd30662"
  },
  {
   "cell_type": "code",
   "source": [
    "data = pd.read_csv(\"./digit-recognizer/train.csv\")\n",
    "data.head(5)"
   ],
   "metadata": {
    "collapsed": false,
    "ExecuteTime": {
     "end_time": "2024-02-28T15:01:42.028651Z",
     "start_time": "2024-02-28T15:01:40.431104Z"
    }
   },
   "id": "51530c66c186b7d8",
   "execution_count": 2,
   "outputs": []
  },
  {
   "cell_type": "code",
   "source": [
    "data_numpy = data.to_numpy()\n",
    "plt.imshow(data_numpy[10][1:].reshape(28, 28))"
   ],
   "metadata": {
    "collapsed": false,
    "ExecuteTime": {
     "end_time": "2024-02-27T15:42:36.882836Z",
     "start_time": "2024-02-27T15:42:36.761451Z"
    }
   },
   "id": "f08c6adb0fcfef6b",
   "execution_count": 3,
   "outputs": []
  },
  {
   "cell_type": "code",
   "source": [
    "print(data.shape)"
   ],
   "metadata": {
    "collapsed": false,
    "ExecuteTime": {
     "end_time": "2024-02-28T16:34:32.708254Z",
     "start_time": "2024-02-28T16:34:32.706009Z"
    }
   },
   "id": "8ad62edc2eebec2b",
   "execution_count": 53,
   "outputs": []
  },
  {
   "cell_type": "markdown",
   "source": [
    "Датасет содержит 42000 картинок размерности 28x28"
   ],
   "metadata": {
    "collapsed": false
   },
   "id": "6887724971a7961b"
  },
  {
   "cell_type": "markdown",
   "source": [
    "Разделим data на X и Y и выделим обучающую и тестовую выборки:\n",
    "\n",
    "* test_size - доля тестовой выборки (20%)\n",
    "* random_state (random_seed) - рекомендуется использовать одно и то же значение при рандомизации для воспроизводимости результатов"
   ],
   "metadata": {
    "collapsed": false
   },
   "id": "1e0ead2e06b1537b"
  },
  {
   "cell_type": "code",
   "source": [
    "from sklearn.model_selection import train_test_split\n",
    "\n",
    "X = data.drop(columns=[\"label\"])\n",
    "y = data[\"label\"]\n",
    "\n",
    "X_train, X_validate, y_train, y_validate = train_test_split(X, y, train_size=0.8, random_state=42)"
   ],
   "metadata": {
    "collapsed": false,
    "ExecuteTime": {
     "end_time": "2024-02-28T16:44:24.406577Z",
     "start_time": "2024-02-28T16:44:24.261691Z"
    }
   },
   "id": "abcb6026b0ca8072",
   "execution_count": 55,
   "outputs": []
  },
  {
   "cell_type": "markdown",
   "source": [
    "## Logistic Regression\n",
    "* Когда мы говорим о бинарной классификации (классы 0 и 1, \"да\"/\"нет\"), основной бэйзлайн — это логистическая регрессия\n",
    "* Логистическую регрессию можно реализовать с помощью очень простой нейронной сети."
   ],
   "metadata": {
    "collapsed": false
   },
   "id": "384791279fd44d43"
  },
  {
   "cell_type": "markdown",
   "source": [
    "###  Computation Graph\n",
    "* Графы вычислений — удобное представление математического выражения\n",
    "* Например, у нас есть функция $$c = \\sqrt{a^2 + b^2}$$\n",
    "* А ниже - соответствующий ей граф вычислений\n",
    "\n",
    "<a ><img src=\"d.jpg\" alt=\"d\" border=\"0\"></a>"
   ],
   "metadata": {
    "collapsed": false
   },
   "id": "a2cb42548d4e3ad8"
  },
  {
   "cell_type": "markdown",
   "source": [
    "* Теперь давайте посмотрим на график вычислений логистической регрессии:\n",
    "<a><img src=\"5.jpg\" alt=\"5\" border=\"0\"></a>\n",
    "    * Параметры модели - weights (веса) and bias (сдвиг, смещение).\n",
    "    * Weights: коэффициенты для каждого пикселя\n",
    "    * Bias: смещение\n",
    "    * z = (w.t)x + b \n",
    "    * Простым языком: z = b + px1*w1 + px2*w2 + ... + px4096*w4096\n",
    "    * y_head = sigmoid(z)\n",
    "    * Sigmoid-функция преобразует z в число на отрезке [0, 1], что можно интерпретировать как вероятность\n",
    "* Почему мы используем сигмовидную функцию?\n",
    "     * Моделирует вероятность\n",
    "     * Это дифференцируемая функция, поэтому мы можем использовать ее в алгоритме градиентного спуска\n",
    "\n",
    "* Пример:\n",
    "     * Допустим, мы получили z = 4 и помещаем z в сигмовидную функцию. Результат(y_head) почти 0,9. Это означает, что результат нашей классификации равен 1 с вероятностью 90%"
   ],
   "metadata": {
    "collapsed": false
   },
   "id": "f4d3650b1da538a9"
  },
  {
   "cell_type": "markdown",
   "source": [
    "Функция потерь для логистической регрессии это logloss:\n",
    "\n",
    "![image.png](data:image/png;base64,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)\n",
    "\n",
    "Фактически идея этой функции потерь основывается на знакомом из курса мат. статистики методе максимального правдоподобия. Мы хотим подобрать параметры нашей модели так, чтобы вероятность получить данную выборку была максимальна."
   ],
   "metadata": {
    "collapsed": false
   },
   "id": "717e4267b5502a16"
  },
  {
   "cell_type": "markdown",
   "source": [
    "###  Оптимизация функции потерь\n",
    "\n",
    "Как мы оптимизируем нашу функцию потерь? Gradient decent!\n",
    "\n",
    "Алгоритм градиентного примерно следующий:\n",
    "   1. считаем предсказание модели\n",
    "   2. считаем градиент функции потерь по каждому параметру\n",
    "   3. обновляем веса модели вычитая из каждого значения градиент умноженный на некоторый коэфицент (learning_rate)\n",
    "   4. проверяем критерий остановки"
   ],
   "metadata": {
    "collapsed": false
   },
   "id": "ed39dc64c47dd17"
  },
  {
   "cell_type": "code",
   "source": [
    "from sklearn.linear_model import LogisticRegression\n",
    "\n",
    "model = LogisticRegression()\n",
    "\n",
    "model.fit(X_train, y_train)\n",
    "\n",
    "y_pred = model.predict(X_validate)"
   ],
   "metadata": {
    "collapsed": false,
    "ExecuteTime": {
     "end_time": "2024-02-28T16:44:32.005743Z",
     "start_time": "2024-02-28T16:44:27.421407Z"
    }
   },
   "id": "e0e42b3ddf41393a",
   "execution_count": 56,
   "outputs": []
  },
  {
   "cell_type": "code",
   "source": [
    "from sklearn.metrics import accuracy_score\n",
    "\n",
    "accuracy_score(y_validate, y_pred)"
   ],
   "metadata": {
    "collapsed": false,
    "ExecuteTime": {
     "end_time": "2024-02-28T16:44:41.125337Z",
     "start_time": "2024-02-28T16:44:41.121747Z"
    }
   },
   "id": "60849a4615882dcf",
   "execution_count": 58,
   "outputs": []
  },
  {
   "cell_type": "code",
   "source": [
    "from sklearn.model_selection import GridSearchCV\n",
    "\n",
    "searcher = GridSearchCV(LogisticRegression(), {'penalty': ['l1', 'l2'], 'C': np.logspace(start=-4, stop=2, num=7)},\n",
    "                        cv=5)\n",
    "\n",
    "searcher.fit(X_train, y_train)"
   ],
   "metadata": {
    "collapsed": false,
    "ExecuteTime": {
     "end_time": "2024-02-27T15:10:15.455133Z",
     "start_time": "2024-02-27T15:07:59.761836Z"
    }
   },
   "id": "2557cd0cef5dbfb8",
   "execution_count": 28,
   "outputs": []
  },
  {
   "cell_type": "code",
   "source": [
    "searcher.best_params_  # Совпало со стандартными :)"
   ],
   "metadata": {
    "collapsed": false,
    "ExecuteTime": {
     "end_time": "2024-02-27T15:10:25.479567Z",
     "start_time": "2024-02-27T15:10:25.476682Z"
    }
   },
   "id": "7bde23040267393",
   "execution_count": 29,
   "outputs": []
  },
  {
   "cell_type": "markdown",
   "source": [
    "<a name=\"10\"></a> <br>\n",
    "# Artificial Neural Network (ANN) - искусственная нейронная сеть\n",
    "* **Что такое нейронная сеть:** в самом простом случае берем логистическую регрессию и повторяем ее как минимум 2 раза. По определению — математическая модель, построенная по принципу организации и функционирования биологических нейронных сетей\n",
    "\n",
    "![image.png](data:image/png;base64,iVBORw0KGgoAAAANSUhEUgAAAoAAAAGZCAIAAACWnhe6AAAfGklEQVR4nO3d2bqjqqIG0GR99f6vnHORqhy3DaLSM8ZVVZJpjA2/IOD78/m8AICy/qu9AgAwIwEMABUIYACoQAADQAUCGAAqEMAAUIEABoAKBDAAVCCAAaACAQwAFQhgAKhAAANABQIYACoQwABQgQAGgAoEMABUIIABoAIBDAAVCGAAqOBP4L33+x2ziM/nk2hlAGAWoQCO9H6/ZXAO2wsg2xlgGKHsjKwBf8mGhMJb3qYGGECye8CX0pqA0y1pUwMMILYJerfWJQmSi9ykmv0BevfoHvDn89kGxuqVVU6E391+YPcz4c8f/e3ykzHpdfXzz4V/++pdGQzQtQSdsFZWqbzMiRvp+5o1abY/+fvK0SYK/OHuu4E/iV9a/Gd2RTarXFq98AInPJCAZj0K4KOibbdmvHKp1J4zgwPit0bC2wRHi/q+/nwH5V4+QFNiA/hJOf6Nz/ASdivHRzXpXUf17F5EVtQu5VCB9F1+4ElG5l4+QGvSNEHvtpeu4jPw+aN3Y2rSVBF/uRPe1w8XDtCvNMOQdgvKo/pKZEV2+1/F8SVpN9fn81leGCVc8it4L2P77QBjSNYJK7KFMG0xejtjjv5QKR9WfvvYI8CoHo0Dfp3dpu2uDXmYG42/zR6zC67uo3b2qQspoF9Pm6CvDtLNVHYnLHDbSZfncrQVd7F9ulhJYHLpxwF34fbQ1TICFfGYMTmZfsvpeOKmDNOYAYzqaQCHB+8evR5+AkTk9FXNFv33XGorDsTwsvE5/qt3l3D0YslgC19wNH4hBRCQaxzwdmRR4G7x0buR6T5kRWcbPJNEy+71mbk4gPGkbIIOV1PCNbzwuOFXMIpuTKHVZphtN1F4i4UXlWy1NmKukC45Ojba3E0ASSQL4Kt1tUtdpktWfepWsyL7jVdM36+s0Rg/rFxCA/1KMxFHIH1351XY/eT2A4EXc2hktofTdaiykrm/NPklRQu7EiAgVAO+V4Q9LEkvfWm4M9eTJd/4fEJHDbzlpzpZLTncEfphx+Mnv/rJ5wGq6HKoRkxH3xudgQGgmDRN0ADAJQIYACrosgkaAHqnBgwAFQhgAKhAAANABQIYACoQwABQgQAGgAoEMABUIIABoAIBDAAVCGAAqEAAA0AFAhgAKhDAAFCBAAaACgQwAFTwp/YK3Pd+v7cverwxAF1495hYu9G71OOPAmAqaQJ4mYjbBYbfffJdATIYgJalb4J+v/8n1CPzMn7hy/+uUnb57mo1AKApaTphRUbdw0Rc1aS3S1u9mDb7ASChZL2gd5MvYeNz/KJkMADt62MY0tUgl8EANC5lAK9iL23fq6vLcQMYgJZ1UAN+XoVVCQagNYkDeLfeWb76m/Z7ASC59DXgVexJQQDY6ngqykvMWwlAU9LXgFdR1/L911VPMQAoJnEA38uzukEohgEor0QTdAuzQu6ugKkrAaglZQ04MFXkURXzUu3zaj015qFJgbHLAJBPzXHAxZ5rFD915UsMA1BEsgDenfcqUAn+/fdSvmaqLm8f7SCDGd7utaYLUCim5jCkS/NKLh/wcPqH92bB/H5y9SQJN4Z5KD7PqhxsyxNK9EJJaXoehQPvNA4joy4yVp/PQR1+6jDEu9oSk29NdhkfDxUlaIK+VMQ8ucQ+7TCV6gkQOmeRRPuHze5DtausCUwoQQ04JvNiqsiRa1Ks69budymeiHQjfR1dMJUmBr9evdsaM77o6Todf10LW4z2RR42OZ7aCXShy7mgV72ltm9l/Tqds7jq6tESSOXIHhW3P7D77tGfRK5nYGVgZl0G8Ffh83nZE/slhmnPbq+IV9K2pZgPh193ysBPzYk4umO4MPcUOE4CXxH57bdXcnlenC7EKQM/HdeAa9EiTYzdJpNiX537GyMn0jHCGALUgG8ygSXtOJ2H7tISnljWhl2VQlgTAbxt2u2CFmnC2jmq0x6Zp9XfTs9oKEwT9FNapAl43gZ79UGZN75oGajxN3EvTV0HbAngNLY3/GQwP5eG67wq3T++N1bqdKQTcKSJJugxmMCSXU8eDVLA1aP09AJi9Xs1R8MRNeDEWhsufLQCgYbE6us8kicTXW0bhGOaiO+1V1/6q8BqmNgL4gng9LaDQLRIz+l5E0iqqdqzHn4Ob7hHE3QuWqRZyhpRR9NDrvoGxvz5jW88EvntMC0BnFf14cK7czIsa0WBt3iiYuq8/4n5cKbnhi3X5PnyYUgCODvDhSdU/glakTNS5f5Gl24QTwAXokV6WsUyabe/cbgTcsJ1O+rPte0I7ciHL70nSqvymLZVw/Lvv0ev514fANSAS6veIh0euAlAGQK4juot0t9vV9kFqEUA11SsKrzb4Xklpv3ZrWuAVARwZdWrwgBUIYCbUH248KkGVwmga3pBtyXr+NGjgSKnEwKXH9UKMDw14LY02CJ9b75+kts9GFo4QoB7BHCLWmuR9kS5dpR/TjCQiSboprXW9mumjrp2E9fugE6pATetwRZpKtqdabLKmgDPqQH3ocoElker4ZgBeE4NuA/VJ7AEIK0/tVeAC1YTWqmPNmJ5MRS4TtrdUw8/sPvu9sVLnQkim1tu/+pGmnOgOjXg/qgKj2F7R//qPf7ID196/MbuW6mOsaMfqHMDcxLAXdI5q3dXIzD5x64G7fMD7HQJjmFmowm6Y78H+n5pke5UzKMyni//Kz5it2v1fqfss7nbYA5TUQPum85ZPdq9RXop25Ls5cCcHvfWKmx5rLpMhJcAHkOxFmlTYpWRcPet9lfM7gv8yfMVcwjBjybocWiRbsHViLoRacvZuRtp8Cjwq2E8asBD0SI9j04vrXQYhB814AEZLjywrtPrdNQyTEUAD0uLdBVXWyDu9b1qbT/G/OrTKUdgNpqgR6ZFujvJW2i3c308+RPBCQkJ4PGZtaM1R/2KV3cNYv48xtHSlss5ulDLdKjkXj50QRP0LLRIN+tSCN3bZTFfsXuEPP/qJ6sEY1MDnogW6XaEwyzHhFMxrwe+9/kqudqDFQE8HS3SjdidkiI8T8W9DNtOrHH1K1Jl5+6apJ3oAzqScnJX+nLpEXV0RLcp6IIa8LxUhQEqEsCz294VFsMABQhgdM4CqEAA85cWaYCSdMJiLfcAUABeApgj+kgDZCWACRHDAJkIYE5okQbIIWUAh4f/p50cYLd/kGDIR1UYIK1cAfw6fuTL61nxnfYBq1wihgFSSTkMKbI4zpq+kZ/hHsOFAVJJfw9429ScqvE5XP1SOSvJ1gZ4qJuJOFYpfvoYGZWzrExgCfBQll7QR2Xx7e+6VIf2KJiSVIUB7umgBnw1UNWDSzKBJcA9WQI40zO945egHlaYFmmAq3LVgFclcpLG51pLIIZHKgFc0kET9NfVCFcJrkKLNECkP5mWuyp2329zXtbx3RGBicmO3nqyvz6fz/IAeL5AYty+1rFroIosARxfEJSZZzh5r2xObYeAuwhLK2HTgum+oYpcNeCtbfm7W4KULKYNWMptFcOqwk+UbMw3ugwKqDYT1m4T6PbFQEvppTW5ZLDiZht7v1cCb+VYh5/BtnBWTd1Et+MgoXI14F3bztI5iptwqbH9xiepzy5V4avunQi5r1OdGpBQ4gDerewuY/XXwnz1BL7aNB1frAQm7lDcpKVz1ql7x+0Tu8s5XQ2nBjxXuQZ86nmd+FIBsW36Xv23x+Lmuw1jrmAKJKLOWbsiD/JiGyp+OrmuTw2oK9fzgAPjXnbfXX4m0Fcrcm0T9q4aowf1csMuS8xV6RkI4BwdZd0YfvX2fOu+1hYalyyATwvTyA+clv61HsYQKHraL3S2Abyq64cDON9VyMwDYMJh1vh26HrloRFZAjhcwd39zGnjZ2SsFhhZ1GkSH/V8DvSIXn5g9VbahsfZqsKdHkK7RvotUFgTt98ibz2Gi+kqhXhHDdQPAzjHhFm7C/xpcBs+N2pcjfq7IKv6nbDiy/HdPrRHn0yybqeG7LS1UnJjDtxHuoXDNZ9t37qfwfYjJFS5Bnzj5Gy8G0jL5ezRZcG9y4V8Bet4VeGOWkqem+rHwhM1A/hJCb57kjd1hjeYxAkDuEC1ZowYnjaNpv3hEK9aAE/Vi7KRwihVABdrVOw9g9u/TMzNFoAAAVxUI0n8RPlbej3GsOBZsjVgVxO9oCfUaRLX6lDT13BhebNlm8CWAK6swVvFR6p3Z+2iKtzXtUJhNg4sCeBWNJ7E1dN3tSY/LazSl0peDFsJfgRwi1proG4nfb8arEg1uEots7ngJYAb10ISN9tdrp2qsDi5wUYDAdyHig3UzQbwV/UYFiS32XRMTgB3pvFbxVVULMdFyEM2IDMTwB1roYG6HeWrwtUr38OwJZmTAB6BJP4pVpTLjLRsTyYkgIciiV9FinJpkYOtymwE8JjcKs5XmsuJfGxbpiKABzdzEufo4CMhcrOFmYcAnsicDdQJC3TZUIbtzCQE8IwmTOLnZbpUKMnWZgYCeGpTNVA/bJFe/vl4G6dBNjjDE8C8XjMl8b2qlQpZebY5wxPArM3QQH2pcJcEtdjyjE0Ac2jsJI5skZYBddn+DEwAc27gJD4t392JrM4uYFQCmAtGvVV8FMOK/kbYEQxJAHPHeEkcfuriq9vfNYaKDdHawG84PZu+bEwBzFMjNVCP9FsGU6USvHs8OBhORQbwa/qNKYBJZpj0UulpU/kMFsD3xAfwa+7t+V/tFWAcn39Wr7//qbJWD81cOrSs08OJrZl35Z/aK8CAdjsxvXSl4ZnP51OysD76rvdbw+EFMaP7piWAyegoiZevtFaWuUpo2TKDSwZhTPYfHTnhI+rSDKk3Bq+vPtDI4R3YnlfXcPX58P2jS8MOY9YhfFScrr8maEr4LKze6rqBGsICB/bRYR94/dLy5xRI3Bvpe/RiKgKY0lpO4kbqBwQcVS7T2h4JD793dcxfqk+HP99jBmc90WIWGJm+p289pAmaatwqZmyR91kCd2p2X/9+flW3a/ZMqX598N044dV4voVPd+IuNWDqO6oTv8pWiwV/L3JXgmOW+eR7j46037+Xp8NRw+kYh2imX3Hp1m/FLSyAaYhbxbRmNyBj3OtmeHQluruoMq3xWeVb7aPNGFmR3f43x6pqgqZRpw3Uaa9PVX/7Uqs7dKR2Ovm3H8yB3Zd8bp98hcY9ApjWFU5iJnep99Ppsff985kP0ZhwvXoJFfn5wgPHb9AETTdOW6dvn2yqvz1quQE2fJeR1+MT7d59+kw74vZvUQOmP4EOh6rFNOJe9St5jbnrS4FLg4V6pAY8vvB4/0tTAbQmeactsd2X5Pvr6gET//nIIUa/F49eP/pvd4du7hLm0gY/ejewhZOsvxowg7h9q7iLSw1OJe+KFVha5DFzVAk+ej3mw7+f2ctxW2U9tyOLArecb2zhVJc+ApjRTD6/R0x5N/DPf+JeVMQH/9Enj3J3+e9VQgQ+3KOsF8effxOZBZZ2aQsn7KanCXp8u1dzy1tNgbe6dnV+j65/8qUm94d91ppSZiaH21+aZDRq+PNdH7evu+v/sH3i0kVMvi0sgBlf+FZxlVVK6GH37wG2wE/7v2XVDLNbsl/K7AnTNzxXSeCq+vQmbvkt3NwAdnLYVmp/rwTeKr2WZQ3Qjpc2b7r7+Ut6v1NMzMEWeUCqAU8hvtfGJOn7OruObl/y2l771UcYjACe0baonbPw7bdbVqb9NcBhMMBPYB4CeF6/zoG1V4SGCDAoxjCkWXxv94a7xR+1P4/UW3hXX79IRm7dm3YKbogpLiKLFAHMid326r4Sa0JPBlbav1CGACZk25fv+4oyupbTBI0ZYKqyCC1wD3giy8J3Ozwu0P85MJauX0OGUOTeOf1Y1xun65VnKgKYkN7H6sQY5gde+iHD/Oqf8X4RwxPAXKN6MQyJBXW5BzyXezPTfplsCCChvgP49Cki5DDPbFl9udEzzk6kOyMV++kDODy7UKq5h06f1Njp/mjZ0WP+aIeDn4GNV+znvQcc/9zEJ4u9/RnuGWAoS78rH3mzoN8fmMTkP39IQxb76WvAkVPS3L5UCc/KtHqocncXRBQ28BEy4T1782GNatRiP9e6bpuakzQ+Ry6k30n2WxOenLLfbdt7ON2OmU5/b7ze9yxbOYr9+A9nTZOehiHFb4jt0215YvdWggKuR+9/aq8IRClQ7J/eWs4nY239aNXvfeONyxD14CTS7sdGDFBPSlU09LsFdg2wZ/nJWuyfPmOmwENoeqoBf8VvBWdgEtvJsGaYHqt9qXaBCjHty1HstzBzXMYAPp1VON7zAkIR89Bnofa68FfC3SGGaU3hYj/TmJ2wvDXgbc0p7QKTfx66k/Agl8E0KF+xn+rhJbf11wQNrKStCidZDnRht+tWsf5Deaei3FbqK1ZJlSyMLdVUZX2NpDzifOeGwodNxgB+0v4+wPkPtRiGB/EC87fkTqLSTdC7v3P7olIDkrjXdc4JyFQSdhm+JFcNODAT1qqBaztu7/tK8nYwtWp+JgyY2Z6l4Xzv3QwHaiudsJZnS+RkYzFm2IVwieFk9KVMsZ98zE6MLAG824Xs6L5UTFlQfvwSDO/SPEFQ2AzFfis14KXwmR9fLihBGNX7f91eTvslFLzGLfbTB3BgBNVp58xfabI7/WH4b+NXA3qUJHGhI8MX+4kDOOEzKLbvxu+M7nYDAFtjF/ttzQV92j1ktTN2xy/1uBsobLAuwWP8iuc8CmlIAxf7iYchxfzyyM98t+n2w6tB04Gip6PdAMCRUYv9FjthnUoV89CRHJ2WVZ3pxZDFft65oGP8el1d+qvV5B7bt2A2V+euCaev84jWjFfs1w/gr93psQqMD4aRxGewui+dylfslw+U+gH8a9xXIkBYYNb4n9OOSE40aERDzx3rtBsb/eqx02yZ+Oxog/z0uDeZXP0a8I/TBk7FVIKBLnTZCxpmlvtS1aUwlCGAoT8j9UOBaQlg6LJfUo6k7Dd9e9yDIICZV79585Xwsb7DPCF4jF/BJBrqhAXcEJidIP7PgfIEMIzg0oPbhC60oKFxwFCF8aO9swfplHvAAFCBAIa/9KTtkb1GvwQws9NuOQb7ke4IYACoQACfe/9Te0XIzl7ui/1F1wRwyCp3xfCotF72zh6kRwL40FHWyuCx2b+9sKfonQCG10sVqmf2HZ0SwPvCF9cuvcdm/7bPPmIAAhj+UpHqkb1GvwQw7FDBapm9wxgEMPw/1am+2F90TQDDPtWsNtkvDEMA7wtfWbvuHpid2wt7it4JYDikstUae4SReB5wyPZst7kmsdz1dnoj7BQGowYc8vl8lue5c35Oal2tcSYyhj+1V6ADzvapiNs22S+MRxM0/BUu4p0pFWl8ZkhqwPB6bdL3V8qreDVF+jISAczsjqJ3+zGlfxWugRiVMoV5RfZy1/5ZkY3PwAQwM7o6wEwMVGGzMzYBzHQi25wDf+WsKcAGZ3juATORe9ELkIMaMFNIMqmZOlkxNjUzEMAMLu18ooKhABuZSQhgRpajzVk8ZGXzMg8BzJiy3u4VEpnYsExFADOaMs+wEhXJ2aTMRgAzlJL9nAVGQjYmExLADKLKECOx8ZyxYUxLANO9Mm3Okd/uhLrE1mNmApiO1Y3eo9VwTkWy3ZicAKZXTRXfTa1MF2wxEMD0p82yu821apNtBS8BPLxvSbfdy78S8OitNg+MRtqcA0RLmO0DP//VXgGItS27Gyy+V6vkYfJL0heWPA2JDvRVcH8+n+UKt9yiUEz7TRdQnibo8W0D4PdK4K3Sa3mg64K7r+uGfGwH2KUGTKO6jt4vVeEBdiLkI4BPBDorkc8wdabvmk8Yw6IXTmmCPrTbfabTzbUq9I+aoFvIhmGid2Wkwylsnl8KD6kB7zvqvPp+d3/Jsv1pjfyosetM26rwq40rnoREL1wigCf1LRZXNykrGrXiuzJqDIteuKGJqk9rTjOpx4122uwcaI7O+syfSaJ3a4zQGuNXQBVqwJzYVtdSFa9jtzmfCtSGX81viqOL1MZXG5oigAlZxe232H2ewZNH79JuDL9aTeJA41BT6wld0AS9Y8gm6Ndxmb77engS6SdbYNo25xjhY6+Fhy2u2H1wmxow5YjeU6t78CtZb8YffdEu+w6eE8A7wn2DFT03aHO+KpzER6/f2KqXusHba5CQAJ7IUemZu1RV8X3iNImXMg0qs8sgBwG8b7cSrBi6SvQmVPJBh/YUFCCAD626pyqSLnH5kttR/7gkiwIKEMAnlE1Xid5abGfoiwAmJW3OAJGMAyYN0QtwiRowT2lzBrhBAPOIii/APQKYm0QvwBMCmMu0OQM8J4C5QPQCpCKAiaXNGSAhAcw50QuQnAAmRJszQCYCmEMqvgD5CGB2iF6A3AQw/0ObM0AZApi/RC9ASQKY10ubM0BxAnh2ohegCgE8L23OABUJ4Emp+ALUJYCnI3oBWiCAJ6LNeUi/3fr5fJa72M6Fxr2dpTMQvQPb7twfexla9l/tFSC7bZuzcnlUq50byGagOk3QJ5bte3XX5Aa3e6fy27+rtmigTQL40KoI+/63lwzT5gzQOAG876gC8X63ftdc9AJ0QQAPRZszQC90wtoRvn/W5t219/stfQE6ogbcPW3OAD0SwH1T6wXolADulYovQNcEcH9EL0u7e98hAe1rfVBNLW1O7yd6AYahF3Q3pC/ASNSAD7UTeO2sCQCpCOATdeeCFr0AoxLA7TLECGBgekG3SMWXr8LTrjnMoCQB3BbRCzAJAdwK0QvwRHePbxfATZC+xHNsQECSE6RMluuEVZno5dTunWDHCSx9T5OE50XyBe58hdO4FtFLPBkMAZkqrLkz2ExYdUhfLtk9PLYPgYaZZSpF851lasClid6+tLa/alWF42sY3XWEGczV7d/C/rqUcNv1vHFwBpa2+yeZNo4acDnb+srn81FINeuoflm33nlUFS72veHvaqE0h62Hp3OmU0wAl7C7j5VQLTs93+pm8G4lQHM0r+hLpdVn+i2OYn5Cs6ezJujsRG+Plntttb8CbxVWvjk6XNgNUJoP41IsVd9fT9bkagDfOJ3zbSg14Iy0OXcqfE4uX6lb6SzfHB2oXbVTmsNSy6ezAM5Cm/MYjnZZO7tSczS7Thuix7hguvQrGjydBXB6u9Hb9VFO40pWhXdL9uSl+fufwFunH0iyJv3SXJHKpdvql5iKMiW13nk8uVmVY/mfz+eonE1+EP6+6/1+L7/X0T68rMdwRbVWVQ04Dbd7R7K84O2oInV0yHX0E0irTHNF41o+nQXwU273Dq+vJs0yGbwt2dMe87cb/WZLl1OrLWn7NHU6a4J+RPSOKtCi+7q7l4sdG98vWq1/8ubouo3Pq2bwwt8+rdybOpyLt789x+mchBrwTdqchxfYoe1cQQfkrgrvtmrm1v5mb1Du5ooutHk6C+DLtDlP5fPP9q32w6D9w7KLS5kBLI+E9o+KfFo7nTtugt7dXuVbSGY+mqeyO2B/2vbPZV3qdlNweDPeWPLMNbwxFL5N81XxdO4ygAOXKpnGXex+qZN8WstbSjfiIfIr7qzZ2TemXex3abcz+PeHN8ZcXfo8qbQ2DClJV4B7p3MSiQN4uXt2J+gJvHvjKwKfSbgRq1S1qSWyFrXbraMdLa/b0qXzaNvrQj8swpKczvlaVjLWgFdnRZISYXsGHr2b5JwUvXTn6ERLOEfVdoGZsvDSYrU/053EARxZLbh3hpxWoFejLx6WBdqcJ5e8XlXg+KmSvr9XTsNSRvauwR0XeZXWZjNJ+l7QRze3dz8QL34Jz6vd+jnPLPL4aa2N96g7sdFx739qrwgVPD+ds1419jEM6Wp+387go+idvAib2e7xk6Q3Q0Jlove0JNqON8397Ua48rqy01s7nbPcA151Klu99XDJN9YhklovX6uDJ3AgVT9Ccrc5b78osjPL0ciiq9/beGc3mhIez/b7zNGfB47PTGd6B8OQnp9+p63/opeVmHK/+kHSXSfBKvXUljcIqYRP2Nunc+6Lv1xN0IFOUmmX+fDzbvdyJNCEW/2uROCOb6avi19+1oboyK9ecg94EqtOuNt3b5/O+U72vB3D0g78vbGEwN92V3uAr34P3So1YLeH55F2X7+zTev000ETdBLtNyfCqWJ3fKFHCU+EMk0meSfiWP232WKi2RWDL9ELJZU5s3IFcC93XJRftE/6wpCKNkFXrAQrquiR6IWBZQngbd+rJNNDXv3bXmrhsKv8PFxyHUrqYCas54WCYgWA1qQP4N2hR8/nZ776t6q/ALSsj2FIn4sPTG5tql64waELY0vcKyqcfA9zMfLPpS/wYyIOmpUygE+fu/D8wQzhJaR98AMA5JMrgI8Wm/bBwAHSF4CWtTs7VYB5JQHoXZcB/NXvlPRwg3uZMJg+ekHvUgwB0K8OJuIAMvGgXKio4xowTCV5k4/ohboEMPQhx8PGgYoEMIwgEKjh4fJALe4Bw4z0YYTqBDBMR/pCCzRBwwjiM1X6QiPUgAGgAjVgGEF8JyygEWrAAFCBAAaACjRBwwi0M0N31IABoAI1YOiDOi4MpuPnAQNAvzRBA0AFAhgAKhDAAFCBAAaACgQwAFQggAGgAgEMABUIYACoQAADQAUCGAAqEMAAUMH/AYGnMHEnjMFpAAAAAElFTkSuQmCC)\n",
    "* В логистической регрессии есть входной и выходной слои. Однако в полносвязной нейронной сети между входным и выходным слоями есть как минимум один скрытый слой\n",
    "* **Почему он называется скрытым:** Потому что скрытый слой не видит входные данные (обучающий набор)\n",
    "* Например, у вас есть входной, один скрытый и выходной слои. Когда кто-то спросит вас: «Привет, мой друг, сколько слоев у твоей нейронной сети?» Ответ: «У меня двухслойная нейронная сеть». Потому что при вычислении номера слоя входной слой игнорируется.\n",
    "* Там мы представляли логистическую регрессию в виде графа:\n",
    "\n",
    "<a ><img src=\"5.jpg\" alt=\"d\" border=\"0\"></a>\n",
    "\n",
    "* Давайте посмотрим на двухслойную нейронную сеть:\n",
    "\n",
    "<a ><img src=\"9.jpg\" alt=\"d\" border=\"0\"></a>\n",
    "\n",
    "   "
   ],
   "metadata": {
    "collapsed": false
   },
   "id": "8551376590cf2f19"
  },
  {
   "cell_type": "markdown",
   "source": [
    "## Нелинейность\n",
    "\n",
    "Что вообще такое нелинейность и зачем она нам?\n",
    "\n",
    "* Мы уже увидели, что нейронная сеть тоже может быть представлена в виде вычислительного графа, т.е. ее можно представить в виде некоторой функции, где значения коэффициентов - это параметры нейронной сети (веса и смещения нейронов)\n",
    "* TL;DR - нейронная сеть это универсальный аппроксиматор неизвестной функции. Мы подбираем коэффициенты этой функции по имеющимся данным\n",
    "* Суперпозиция линейных функций - всегда линейная функция. Но как только добавляем нелийненость - можем получить любую нелинейную функцию, т.е. потенциально способны решить любую задачу\n",
    "\n",
    "![image.png](data:image/png;base64,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)"
   ],
   "metadata": {
    "collapsed": false
   },
   "id": "27582181defa25a6"
  },
  {
   "cell_type": "markdown",
   "source": [
    "## Функции активации\n",
    "\n",
    "1. Сигмойда\n",
    "Формула: \n",
    "$$ f(x) = \\frac{1}{1 + e^{-x}}$$\n"
   ],
   "metadata": {
    "collapsed": false
   },
   "id": "a301a7c895f5db59"
  },
  {
   "cell_type": "code",
   "source": [
    "x = np.linspace(-5, 5)\n",
    "y = 1/(1+ np.exp(-x))\n",
    "dy = np.exp(x) / ((1 + np.exp(x)) * (1 + np.exp(x)))\n",
    "\n",
    "plt.plot(x, y)\n",
    "plt.plot(x, dy)"
   ],
   "metadata": {
    "collapsed": false,
    "ExecuteTime": {
     "end_time": "2024-02-28T17:24:03.666112Z",
     "start_time": "2024-02-28T17:24:03.588191Z"
    }
   },
   "id": "c1cb3b2d9fe7d502",
   "execution_count": 60,
   "outputs": []
  },
  {
   "cell_type": "markdown",
   "source": [
    "2. Tanh\n",
    "формула: \n",
    "$$ f(x) = \\frac{e^{x} - e^{-x}}{e^{x} + e^{-x}} $$"
   ],
   "metadata": {
    "collapsed": false
   },
   "id": "d4b08564b9428f5f"
  },
  {
   "cell_type": "code",
   "source": [
    "x = np.linspace(-5, 5)\n",
    "y = (np.exp(x)- np.exp(-x))/(np.exp(x)+ np.exp(-x))\n",
    "dy = 4 * np.exp(2 * x) / ((1 + np.exp(2 * x)) * (1 + np.exp(2 * x)))\n",
    "\n",
    "plt.plot(x, y)\n",
    "plt.plot(x, dy)"
   ],
   "metadata": {
    "collapsed": false,
    "ExecuteTime": {
     "end_time": "2024-02-28T17:28:47.291540Z",
     "start_time": "2024-02-28T17:28:47.206588Z"
    }
   },
   "id": "2ca73ff0cd01c121",
   "execution_count": 62,
   "outputs": []
  },
  {
   "cell_type": "markdown",
   "source": [
    "3. ReLU\n",
    "формула: \n",
    "$$ f(x) = max(0, x) $$"
   ],
   "metadata": {
    "collapsed": false
   },
   "id": "be1ebca1812825d3"
  },
  {
   "cell_type": "code",
   "source": [
    "x = np.linspace(-5, 5)\n",
    "y = np.array([max(0, i) for i in x])\n",
    "dy = np.array([i > 0 for i in x])\n",
    "\n",
    "plt.plot(x, y)\n",
    "plt.plot(x, dy)"
   ],
   "metadata": {
    "collapsed": false,
    "ExecuteTime": {
     "end_time": "2024-02-28T17:32:47.330677Z",
     "start_time": "2024-02-28T17:32:47.264582Z"
    }
   },
   "id": "7e9090db2300530a",
   "execution_count": 66,
   "outputs": []
  },
  {
   "cell_type": "markdown",
   "source": [
    "Создаем модель:\n",
    "        - 2 скрытых слоя\n",
    "        - Используем функции активации ReLU\n",
    "        - Cross entropy loss\n",
    "        - SGD Optimizer"
   ],
   "metadata": {
    "collapsed": false
   },
   "id": "86cb598c5988ec7a"
  },
  {
   "cell_type": "code",
   "source": [
    "import torch\n",
    "from torch import nn\n",
    "from torch.nn import functional as F\n",
    "\n",
    "device = (\n",
    "    \"cuda\"\n",
    "    if torch.cuda.is_available()\n",
    "    else \"mps\"\n",
    "    if torch.backends.mps.is_available()\n",
    "    else \"cpu\"\n",
    ")\n",
    "print(f\"Using {device} device\")"
   ],
   "metadata": {
    "collapsed": false,
    "ExecuteTime": {
     "end_time": "2024-02-28T15:01:51.728309Z",
     "start_time": "2024-02-28T15:01:49.375818Z"
    }
   },
   "id": "2bdc457c560c3400",
   "execution_count": 3,
   "outputs": []
  },
  {
   "cell_type": "code",
   "source": [
    "from torch.utils.data import TensorDataset, DataLoader\n",
    "\n",
    "X_train_torch = torch.from_numpy(X_train.to_numpy()).to(dtype=torch.float)\n",
    "y_train_torch = torch.from_numpy(y_train.to_numpy())\n",
    "\n",
    "my_dataset = TensorDataset(X_train_torch,y_train_torch) \n",
    "train_dataloader = DataLoader(my_dataset)\n",
    "\n",
    "X_test_torch = torch.from_numpy(X_validate.to_numpy()).to(dtype=torch.float)\n",
    "y_test_torch = torch.from_numpy(y_validate.to_numpy())\n",
    "\n",
    "my_dataset_train = TensorDataset(X_test_torch, y_test_torch)  \n",
    "test_dataloader = DataLoader(my_dataset_train)"
   ],
   "metadata": {
    "collapsed": false,
    "ExecuteTime": {
     "end_time": "2024-02-28T15:02:08.964007Z",
     "start_time": "2024-02-28T15:02:08.931461Z"
    }
   },
   "id": "81de4c58ef00bd3c",
   "execution_count": 6,
   "outputs": []
  },
  {
   "cell_type": "code",
   "source": [
    "def init_weights(m):\n",
    "    if isinstance(m, nn.Linear):\n",
    "        torch.nn.init.xavier_uniform_(m.weight)\n",
    "        # m.bias.data.fill_(0.01)\n",
    "    \n",
    "\n",
    "\n",
    "class SuperDuderNN(nn.Module):\n",
    "\n",
    "    def __init__(self):\n",
    "        super().__init__()\n",
    "        \n",
    "        self.relu_stack = nn.Sequential(\n",
    "            nn.Linear(28 * 28, 512),\n",
    "            nn.ReLU(),\n",
    "            nn.Linear(512, 512),\n",
    "            nn.ReLU(),\n",
    "            nn.Linear(512, 512),\n",
    "            nn.ReLU(),\n",
    "            nn.Linear(512, 10)\n",
    "        )\n",
    "        \n",
    "        self.relu_stack.apply(init_weights)\n",
    "        \n",
    "        \n",
    "\n",
    "        \n",
    "\n",
    "    def forward(self, x):\n",
    "        logits = self.relu_stack(x)\n",
    "        return logits\n",
    "\n",
    "\n",
    "model = SuperDuderNN().to(device)"
   ],
   "metadata": {
    "collapsed": false,
    "ExecuteTime": {
     "end_time": "2024-02-28T16:22:27.921630Z",
     "start_time": "2024-02-28T16:22:27.908488Z"
    }
   },
   "id": "850a0de4baaea18c",
   "execution_count": 42,
   "outputs": []
  },
  {
   "cell_type": "code",
   "source": [
    "loss_fn = nn.CrossEntropyLoss()\n",
    "optimizer = torch.optim.SGD(model.parameters(), lr=1e-3)\n",
    "\n",
    "\n",
    "def train(dataloader, model, loss_fn, optimizer):\n",
    "    size = len(dataloader.dataset)\n",
    "    model.train()\n",
    "    for batch, (X, y) in enumerate(dataloader):\n",
    "        X, y = X.to(device), y.to(device)\n",
    "\n",
    "        # Compute prediction error\n",
    "        pred = model(X)\n",
    "        loss = loss_fn(pred, y)\n",
    "\n",
    "        # Backpropagation\n",
    "        loss.backward()\n",
    "        optimizer.step()\n",
    "        optimizer.zero_grad()\n",
    "\n",
    "        if batch % 10000 == 0:\n",
    "            loss, current = loss.item(), (batch + 1) * len(X)\n",
    "            print(f\"loss: {loss:>7f}  [{current:>5d}/{size:>5d}]\")"
   ],
   "metadata": {
    "collapsed": false,
    "ExecuteTime": {
     "end_time": "2024-02-28T16:22:28.496182Z",
     "start_time": "2024-02-28T16:22:28.492752Z"
    }
   },
   "id": "3544149430123fc5",
   "execution_count": 43,
   "outputs": []
  },
  {
   "cell_type": "code",
   "source": [
    "def test(dataloader, model, loss_fn):\n",
    "    size = len(dataloader.dataset)\n",
    "    num_batches = len(dataloader)\n",
    "    model.eval()\n",
    "    test_loss, correct = 0, 0\n",
    "    with torch.no_grad():\n",
    "        for X, y in dataloader:\n",
    "            X, y = X.to(device), y.to(device)\n",
    "            pred = model(X)\n",
    "            test_loss += loss_fn(pred, y).item()\n",
    "            correct += (pred.argmax(1) == y).type(torch.float).sum().item()\n",
    "    test_loss /= num_batches\n",
    "    correct /= size\n",
    "    print(f\"Test Error: \\n Accuracy: {(100*correct):>0.1f}%, Avg loss: {test_loss:>8f} \\n\")"
   ],
   "metadata": {
    "collapsed": false,
    "ExecuteTime": {
     "end_time": "2024-02-28T16:22:29.194836Z",
     "start_time": "2024-02-28T16:22:29.191876Z"
    }
   },
   "id": "167b2365a75e0f54",
   "execution_count": 44,
   "outputs": []
  },
  {
   "cell_type": "code",
   "source": [
    "epochs = 3\n",
    "for t in range(epochs):\n",
    "    print(f\"Epoch {t+1}\\n-------------------------------\")\n",
    "    train(train_dataloader, model, loss_fn, optimizer)\n",
    "    test(test_dataloader, model, loss_fn)\n",
    "print(\"Done!\")"
   ],
   "metadata": {
    "collapsed": false,
    "ExecuteTime": {
     "end_time": "2024-02-28T16:24:13.211770Z",
     "start_time": "2024-02-28T16:22:29.622197Z"
    }
   },
   "id": "83ffdfbc71db2dfd",
   "execution_count": 45,
   "outputs": []
  },
  {
   "cell_type": "code",
   "source": [
    "\n",
    "plt.imshow(X_train_torch[10].reshape(28, 28))\n",
    "x = X_train_torch[10]\n",
    "x = x.to(device)\n",
    "model(x)"
   ],
   "metadata": {
    "collapsed": false,
    "ExecuteTime": {
     "end_time": "2024-02-28T16:26:28.174860Z",
     "start_time": "2024-02-28T16:26:28.010533Z"
    }
   },
   "id": "2ae92fd499225979",
   "execution_count": 50,
   "outputs": []
  },
  {
   "cell_type": "code",
   "source": [
    "loss_fn = nn.CrossEntropyLoss()\n",
    "model = SuperDuderNN().to(device)\n",
    "optimizer = torch.optim.Adam(model.parameters(), lr = 1e-5)"
   ],
   "metadata": {
    "collapsed": false,
    "ExecuteTime": {
     "end_time": "2024-02-28T16:27:07.310444Z",
     "start_time": "2024-02-28T16:27:07.299868Z"
    }
   },
   "id": "2d0890c506077265",
   "execution_count": 51,
   "outputs": []
  },
  {
   "cell_type": "code",
   "source": [
    "epochs = 3\n",
    "for t in range(epochs):\n",
    "    print(f\"Epoch {t+1}\\n-------------------------------\")\n",
    "    train(train_dataloader, model, loss_fn, optimizer)\n",
    "    test(test_dataloader, model, loss_fn)\n",
    "print(\"Done!\")"
   ],
   "metadata": {
    "collapsed": false,
    "ExecuteTime": {
     "end_time": "2024-02-28T16:29:03.425094Z",
     "start_time": "2024-02-28T16:27:07.617652Z"
    }
   },
   "id": "347f811227949b10",
   "execution_count": 52,
   "outputs": []
  },
  {
   "cell_type": "code",
   "source": [],
   "metadata": {
    "collapsed": false
   },
   "id": "c4b101f9002c4418",
   "execution_count": null,
   "outputs": []
  }
 ],
 "metadata": {
  "kernelspec": {
   "display_name": "Python 3",
   "language": "python",
   "name": "python3"
  },
  "language_info": {
   "codemirror_mode": {
    "name": "ipython",
    "version": 2
   },
   "file_extension": ".py",
   "mimetype": "text/x-python",
   "name": "python",
   "nbconvert_exporter": "python",
   "pygments_lexer": "ipython2",
   "version": "2.7.6"
  }
 },
 "nbformat": 4,
 "nbformat_minor": 5
}
