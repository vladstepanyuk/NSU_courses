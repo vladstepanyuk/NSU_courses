{
 "cells": [
  {
   "cell_type": "code",
   "execution_count": 1,
   "id": "initial_id",
   "metadata": {
    "collapsed": true,
    "ExecuteTime": {
     "end_time": "2024-04-17T16:43:07.734832Z",
     "start_time": "2024-04-17T16:43:06.814655Z"
    }
   },
   "outputs": [],
   "source": [
    "import nn\n",
    "from sklearn.model_selection import train_test_split\n",
    "import pandas as pd\n",
    "import numpy as np"
   ]
  },
  {
   "cell_type": "code",
   "outputs": [],
   "source": [
    "data = pd.read_csv(\"../1/Laptop_price.csv\")"
   ],
   "metadata": {
    "collapsed": false,
    "ExecuteTime": {
     "end_time": "2024-04-17T16:43:08.237334Z",
     "start_time": "2024-04-17T16:43:08.233406Z"
    }
   },
   "id": "e1a1b3f45da67906",
   "execution_count": 2
  },
  {
   "cell_type": "code",
   "outputs": [
    {
     "data": {
      "text/plain": "    Brand  Processor_Speed  RAM_Size  Storage_Capacity  Screen_Size    Weight  \\\n0    Asus         3.830296        16               512    11.185147  2.641094   \n1    Acer         2.912833         4              1000    11.311372  3.260012   \n2  Lenovo         3.241627         4               256    11.853023  2.029061   \n3    Acer         3.806248        16               512    12.280360  4.573865   \n4    Acer         3.268097        32              1000    14.990877  4.193472   \n\n          Price  \n0  17395.093065  \n1  31607.605919  \n2   9291.023542  \n3  17436.728334  \n4  32917.990718  ",
      "text/html": "<div>\n<style scoped>\n    .dataframe tbody tr th:only-of-type {\n        vertical-align: middle;\n    }\n\n    .dataframe tbody tr th {\n        vertical-align: top;\n    }\n\n    .dataframe thead th {\n        text-align: right;\n    }\n</style>\n<table border=\"1\" class=\"dataframe\">\n  <thead>\n    <tr style=\"text-align: right;\">\n      <th></th>\n      <th>Brand</th>\n      <th>Processor_Speed</th>\n      <th>RAM_Size</th>\n      <th>Storage_Capacity</th>\n      <th>Screen_Size</th>\n      <th>Weight</th>\n      <th>Price</th>\n    </tr>\n  </thead>\n  <tbody>\n    <tr>\n      <th>0</th>\n      <td>Asus</td>\n      <td>3.830296</td>\n      <td>16</td>\n      <td>512</td>\n      <td>11.185147</td>\n      <td>2.641094</td>\n      <td>17395.093065</td>\n    </tr>\n    <tr>\n      <th>1</th>\n      <td>Acer</td>\n      <td>2.912833</td>\n      <td>4</td>\n      <td>1000</td>\n      <td>11.311372</td>\n      <td>3.260012</td>\n      <td>31607.605919</td>\n    </tr>\n    <tr>\n      <th>2</th>\n      <td>Lenovo</td>\n      <td>3.241627</td>\n      <td>4</td>\n      <td>256</td>\n      <td>11.853023</td>\n      <td>2.029061</td>\n      <td>9291.023542</td>\n    </tr>\n    <tr>\n      <th>3</th>\n      <td>Acer</td>\n      <td>3.806248</td>\n      <td>16</td>\n      <td>512</td>\n      <td>12.280360</td>\n      <td>4.573865</td>\n      <td>17436.728334</td>\n    </tr>\n    <tr>\n      <th>4</th>\n      <td>Acer</td>\n      <td>3.268097</td>\n      <td>32</td>\n      <td>1000</td>\n      <td>14.990877</td>\n      <td>4.193472</td>\n      <td>32917.990718</td>\n    </tr>\n  </tbody>\n</table>\n</div>"
     },
     "execution_count": 3,
     "metadata": {},
     "output_type": "execute_result"
    }
   ],
   "source": [
    "data.head()"
   ],
   "metadata": {
    "collapsed": false,
    "ExecuteTime": {
     "end_time": "2024-04-17T16:43:15.201976Z",
     "start_time": "2024-04-17T16:43:15.194526Z"
    }
   },
   "id": "689dbc4d6bf097ec",
   "execution_count": 3
  },
  {
   "cell_type": "code",
   "outputs": [],
   "source": [
    "\n",
    "X = data[\"Storage_Capacity\"].to_numpy()\n",
    "X = np.reshape(X, newshape=(X.shape[0], 1))\n",
    "y = data[\"Price\"].to_numpy()\n",
    "y = np.reshape(y, newshape=(y.shape[0], 1))\n",
    "\n",
    "X_train, X_validate, y_train, y_validate = train_test_split(X, y, train_size=0.8, random_state=42)"
   ],
   "metadata": {
    "collapsed": false,
    "ExecuteTime": {
     "end_time": "2024-04-17T16:43:16.483217Z",
     "start_time": "2024-04-17T16:43:16.479950Z"
    }
   },
   "id": "ef9bb8d65a4eac72",
   "execution_count": 4
  },
  {
   "cell_type": "code",
   "outputs": [],
   "source": [
    "X_mean = np.mean(X_train)\n",
    "X_sigma = np.sqrt(np.var(X_train))\n",
    "\n",
    "X_train = (X_train - X_mean) / X_sigma\n",
    "X_validate = (X_validate - X_mean) / X_sigma"
   ],
   "metadata": {
    "collapsed": false,
    "ExecuteTime": {
     "end_time": "2024-04-17T16:43:18.036826Z",
     "start_time": "2024-04-17T16:43:18.034479Z"
    }
   },
   "id": "31e235d3409284a7",
   "execution_count": 5
  },
  {
   "cell_type": "code",
   "outputs": [],
   "source": [
    "model = nn.Model([\n",
    "    nn.Linear(1, 1)\n",
    "])"
   ],
   "metadata": {
    "collapsed": false,
    "ExecuteTime": {
     "end_time": "2024-04-17T16:43:19.155020Z",
     "start_time": "2024-04-17T16:43:19.152966Z"
    }
   },
   "id": "94669660672b85ae",
   "execution_count": 6
  },
  {
   "cell_type": "code",
   "outputs": [],
   "source": [
    "def train(model: nn.Model, loss: nn.LossFunction, opt: nn.Optimizer, X, Y, i_max=10, eps=1e-3):\n",
    "    for i in range(i_max):\n",
    "\n",
    "        y_p = model.forward(X)\n",
    "\n",
    "        loss_val = loss.calc_loss(Y, y_p)\n",
    "        grad = loss.calc_gradient(Y, y_p)\n",
    "        model.backward(grad)\n",
    "\n",
    "        opt.do_step(model)\n",
    "        model.zerograd()\n",
    "\n",
    "        if loss_val <= eps:\n",
    "            break"
   ],
   "metadata": {
    "collapsed": false,
    "ExecuteTime": {
     "end_time": "2024-04-17T16:43:19.783253Z",
     "start_time": "2024-04-17T16:43:19.780630Z"
    }
   },
   "id": "22245ad242f65b83",
   "execution_count": 7
  },
  {
   "cell_type": "code",
   "outputs": [],
   "source": [
    "def test(model: nn.Model, metric: nn.Metric, X, Y):\n",
    "    y_p = model.forward(X)\n",
    "    return metric.calc_loss(Y, y_p)"
   ],
   "metadata": {
    "collapsed": false,
    "ExecuteTime": {
     "end_time": "2024-04-17T16:43:20.174361Z",
     "start_time": "2024-04-17T16:43:20.171725Z"
    }
   },
   "id": "c41e7a923c785b0f",
   "execution_count": 8
  },
  {
   "cell_type": "code",
   "outputs": [],
   "source": [
    "loss_f = nn.MSE()\n",
    "opt = nn.Optimizer(lr=0.001)"
   ],
   "metadata": {
    "collapsed": false,
    "ExecuteTime": {
     "end_time": "2024-04-17T16:43:21.485505Z",
     "start_time": "2024-04-17T16:43:21.483174Z"
    }
   },
   "id": "58cd4d8179051b19",
   "execution_count": 9
  },
  {
   "cell_type": "code",
   "outputs": [],
   "source": [
    "train(model, loss_f, opt, X_train, y_train)"
   ],
   "metadata": {
    "collapsed": false,
    "ExecuteTime": {
     "end_time": "2024-04-17T16:43:21.913441Z",
     "start_time": "2024-04-17T16:43:21.910052Z"
    }
   },
   "id": "4498f048b434ab",
   "execution_count": 10
  },
  {
   "cell_type": "code",
   "outputs": [
    {
     "data": {
      "text/plain": "44.367887070903336"
     },
     "execution_count": 11,
     "metadata": {},
     "output_type": "execute_result"
    }
   ],
   "source": [
    "test(model, nn.RMSE(), X_validate, y_validate)"
   ],
   "metadata": {
    "collapsed": false,
    "ExecuteTime": {
     "end_time": "2024-04-17T16:43:23.320796Z",
     "start_time": "2024-04-17T16:43:23.317792Z"
    }
   },
   "id": "4da0951983575462",
   "execution_count": 11
  },
  {
   "cell_type": "code",
   "outputs": [],
   "source": [],
   "metadata": {
    "collapsed": false
   },
   "id": "bd578bf1706ab1c2"
  }
 ],
 "metadata": {
  "kernelspec": {
   "display_name": "Python 3",
   "language": "python",
   "name": "python3"
  },
  "language_info": {
   "codemirror_mode": {
    "name": "ipython",
    "version": 2
   },
   "file_extension": ".py",
   "mimetype": "text/x-python",
   "name": "python",
   "nbconvert_exporter": "python",
   "pygments_lexer": "ipython2",
   "version": "2.7.6"
  }
 },
 "nbformat": 4,
 "nbformat_minor": 5
}
