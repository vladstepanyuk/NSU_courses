{
 "cells": [
  {
   "cell_type": "code",
   "source": [
    "import pandas as pd\n",
    "import numpy as np\n",
    "import matplotlib.pyplot as plt\n",
    "\n",
    "import layers.nn as nn\n",
    "import layers.conv_nn as cnn\n",
    "import metrics.metrics as m\n",
    "\n",
    "from sklearn.model_selection import train_test_split\n",
    "from sklearn.preprocessing import OneHotEncoder\n"
   ],
   "metadata": {
    "collapsed": false,
    "ExecuteTime": {
     "end_time": "2024-05-16T13:04:43.787012Z",
     "start_time": "2024-05-16T13:04:43.784283Z"
    }
   },
   "id": "8ddead714b8c332a",
   "outputs": [],
   "execution_count": 3
  },
  {
   "cell_type": "code",
   "source": [
    "data = pd.read_csv(\"./docklad/digit-recognizer/train.csv\")\n",
    "data.head(5)\n"
   ],
   "metadata": {
    "collapsed": true,
    "ExecuteTime": {
     "end_time": "2024-05-16T13:04:44.856340Z",
     "start_time": "2024-05-16T13:04:44.060645Z"
    }
   },
   "id": "initial_id",
   "outputs": [
    {
     "data": {
      "text/plain": [
       "   label  pixel0  pixel1  pixel2  pixel3  pixel4  pixel5  pixel6  pixel7  \\\n",
       "0      1       0       0       0       0       0       0       0       0   \n",
       "1      0       0       0       0       0       0       0       0       0   \n",
       "2      1       0       0       0       0       0       0       0       0   \n",
       "3      4       0       0       0       0       0       0       0       0   \n",
       "4      0       0       0       0       0       0       0       0       0   \n",
       "\n",
       "   pixel8  ...  pixel774  pixel775  pixel776  pixel777  pixel778  pixel779  \\\n",
       "0       0  ...         0         0         0         0         0         0   \n",
       "1       0  ...         0         0         0         0         0         0   \n",
       "2       0  ...         0         0         0         0         0         0   \n",
       "3       0  ...         0         0         0         0         0         0   \n",
       "4       0  ...         0         0         0         0         0         0   \n",
       "\n",
       "   pixel780  pixel781  pixel782  pixel783  \n",
       "0         0         0         0         0  \n",
       "1         0         0         0         0  \n",
       "2         0         0         0         0  \n",
       "3         0         0         0         0  \n",
       "4         0         0         0         0  \n",
       "\n",
       "[5 rows x 785 columns]"
      ],
      "text/html": [
       "<div>\n",
       "<style scoped>\n",
       "    .dataframe tbody tr th:only-of-type {\n",
       "        vertical-align: middle;\n",
       "    }\n",
       "\n",
       "    .dataframe tbody tr th {\n",
       "        vertical-align: top;\n",
       "    }\n",
       "\n",
       "    .dataframe thead th {\n",
       "        text-align: right;\n",
       "    }\n",
       "</style>\n",
       "<table border=\"1\" class=\"dataframe\">\n",
       "  <thead>\n",
       "    <tr style=\"text-align: right;\">\n",
       "      <th></th>\n",
       "      <th>label</th>\n",
       "      <th>pixel0</th>\n",
       "      <th>pixel1</th>\n",
       "      <th>pixel2</th>\n",
       "      <th>pixel3</th>\n",
       "      <th>pixel4</th>\n",
       "      <th>pixel5</th>\n",
       "      <th>pixel6</th>\n",
       "      <th>pixel7</th>\n",
       "      <th>pixel8</th>\n",
       "      <th>...</th>\n",
       "      <th>pixel774</th>\n",
       "      <th>pixel775</th>\n",
       "      <th>pixel776</th>\n",
       "      <th>pixel777</th>\n",
       "      <th>pixel778</th>\n",
       "      <th>pixel779</th>\n",
       "      <th>pixel780</th>\n",
       "      <th>pixel781</th>\n",
       "      <th>pixel782</th>\n",
       "      <th>pixel783</th>\n",
       "    </tr>\n",
       "  </thead>\n",
       "  <tbody>\n",
       "    <tr>\n",
       "      <th>0</th>\n",
       "      <td>1</td>\n",
       "      <td>0</td>\n",
       "      <td>0</td>\n",
       "      <td>0</td>\n",
       "      <td>0</td>\n",
       "      <td>0</td>\n",
       "      <td>0</td>\n",
       "      <td>0</td>\n",
       "      <td>0</td>\n",
       "      <td>0</td>\n",
       "      <td>...</td>\n",
       "      <td>0</td>\n",
       "      <td>0</td>\n",
       "      <td>0</td>\n",
       "      <td>0</td>\n",
       "      <td>0</td>\n",
       "      <td>0</td>\n",
       "      <td>0</td>\n",
       "      <td>0</td>\n",
       "      <td>0</td>\n",
       "      <td>0</td>\n",
       "    </tr>\n",
       "    <tr>\n",
       "      <th>1</th>\n",
       "      <td>0</td>\n",
       "      <td>0</td>\n",
       "      <td>0</td>\n",
       "      <td>0</td>\n",
       "      <td>0</td>\n",
       "      <td>0</td>\n",
       "      <td>0</td>\n",
       "      <td>0</td>\n",
       "      <td>0</td>\n",
       "      <td>0</td>\n",
       "      <td>...</td>\n",
       "      <td>0</td>\n",
       "      <td>0</td>\n",
       "      <td>0</td>\n",
       "      <td>0</td>\n",
       "      <td>0</td>\n",
       "      <td>0</td>\n",
       "      <td>0</td>\n",
       "      <td>0</td>\n",
       "      <td>0</td>\n",
       "      <td>0</td>\n",
       "    </tr>\n",
       "    <tr>\n",
       "      <th>2</th>\n",
       "      <td>1</td>\n",
       "      <td>0</td>\n",
       "      <td>0</td>\n",
       "      <td>0</td>\n",
       "      <td>0</td>\n",
       "      <td>0</td>\n",
       "      <td>0</td>\n",
       "      <td>0</td>\n",
       "      <td>0</td>\n",
       "      <td>0</td>\n",
       "      <td>...</td>\n",
       "      <td>0</td>\n",
       "      <td>0</td>\n",
       "      <td>0</td>\n",
       "      <td>0</td>\n",
       "      <td>0</td>\n",
       "      <td>0</td>\n",
       "      <td>0</td>\n",
       "      <td>0</td>\n",
       "      <td>0</td>\n",
       "      <td>0</td>\n",
       "    </tr>\n",
       "    <tr>\n",
       "      <th>3</th>\n",
       "      <td>4</td>\n",
       "      <td>0</td>\n",
       "      <td>0</td>\n",
       "      <td>0</td>\n",
       "      <td>0</td>\n",
       "      <td>0</td>\n",
       "      <td>0</td>\n",
       "      <td>0</td>\n",
       "      <td>0</td>\n",
       "      <td>0</td>\n",
       "      <td>...</td>\n",
       "      <td>0</td>\n",
       "      <td>0</td>\n",
       "      <td>0</td>\n",
       "      <td>0</td>\n",
       "      <td>0</td>\n",
       "      <td>0</td>\n",
       "      <td>0</td>\n",
       "      <td>0</td>\n",
       "      <td>0</td>\n",
       "      <td>0</td>\n",
       "    </tr>\n",
       "    <tr>\n",
       "      <th>4</th>\n",
       "      <td>0</td>\n",
       "      <td>0</td>\n",
       "      <td>0</td>\n",
       "      <td>0</td>\n",
       "      <td>0</td>\n",
       "      <td>0</td>\n",
       "      <td>0</td>\n",
       "      <td>0</td>\n",
       "      <td>0</td>\n",
       "      <td>0</td>\n",
       "      <td>...</td>\n",
       "      <td>0</td>\n",
       "      <td>0</td>\n",
       "      <td>0</td>\n",
       "      <td>0</td>\n",
       "      <td>0</td>\n",
       "      <td>0</td>\n",
       "      <td>0</td>\n",
       "      <td>0</td>\n",
       "      <td>0</td>\n",
       "      <td>0</td>\n",
       "    </tr>\n",
       "  </tbody>\n",
       "</table>\n",
       "<p>5 rows × 785 columns</p>\n",
       "</div>"
      ]
     },
     "execution_count": 4,
     "metadata": {},
     "output_type": "execute_result"
    }
   ],
   "execution_count": 4
  },
  {
   "cell_type": "code",
   "source": [
    "data_numpy = data.to_numpy()\n",
    "plt.imshow(data_numpy[10][1:].reshape(28, 28))\n"
   ],
   "metadata": {
    "collapsed": false,
    "ExecuteTime": {
     "end_time": "2024-05-16T13:04:44.942584Z",
     "start_time": "2024-05-16T13:04:44.857505Z"
    }
   },
   "id": "87b106448505173b",
   "outputs": [
    {
     "data": {
      "text/plain": [
       "<matplotlib.image.AxesImage at 0x7f271dddfbd0>"
      ]
     },
     "execution_count": 5,
     "metadata": {},
     "output_type": "execute_result"
    },
    {
     "data": {
      "text/plain": [
       "<Figure size 640x480 with 1 Axes>"
      ],
      "image/png": "[encoded data removed]"
     },
     "metadata": {},
     "output_type": "display_data"
    }
   ],
   "execution_count": 5
  },
  {
   "cell_type": "code",
   "source": [
    "print(data.shape)"
   ],
   "metadata": {
    "collapsed": false,
    "ExecuteTime": {
     "end_time": "2024-05-16T13:04:44.946063Z",
     "start_time": "2024-05-16T13:04:44.943594Z"
    }
   },
   "id": "6bc762870a1ea032",
   "outputs": [
    {
     "name": "stdout",
     "output_type": "stream",
     "text": [
      "(42000, 785)\n"
     ]
    }
   ],
   "execution_count": 6
  },
  {
   "cell_type": "code",
   "source": [
    "\n",
    "\n",
    "X = data.drop(columns=[\"label\"])\n",
    "y = data[\"label\"]\n",
    "\n",
    "X_train, X_validate, y_train, y_validate = train_test_split(X, y, train_size=0.8, random_state=42)\n",
    "y_train = pd.DataFrame({'class': y_train.values})\n",
    "y_validate = pd.DataFrame({'class': y_validate.values})\n"
   ],
   "metadata": {
    "collapsed": false,
    "ExecuteTime": {
     "end_time": "2024-05-16T13:04:46.995456Z",
     "start_time": "2024-05-16T13:04:46.810727Z"
    }
   },
   "id": "ec60a1a08fc1d51f",
   "outputs": [],
   "execution_count": 7
  },
  {
   "metadata": {
    "ExecuteTime": {
     "end_time": "2024-05-16T13:04:47.403721Z",
     "start_time": "2024-05-16T13:04:47.399391Z"
    }
   },
   "cell_type": "code",
   "source": "y_train",
   "id": "6e83c0027518dbd9",
   "outputs": [
    {
     "data": {
      "text/plain": [
       "       class\n",
       "0          6\n",
       "1          5\n",
       "2          3\n",
       "3          4\n",
       "4          7\n",
       "...      ...\n",
       "33595      9\n",
       "33596      9\n",
       "33597      2\n",
       "33598      6\n",
       "33599      0\n",
       "\n",
       "[33600 rows x 1 columns]"
      ],
      "text/html": [
       "<div>\n",
       "<style scoped>\n",
       "    .dataframe tbody tr th:only-of-type {\n",
       "        vertical-align: middle;\n",
       "    }\n",
       "\n",
       "    .dataframe tbody tr th {\n",
       "        vertical-align: top;\n",
       "    }\n",
       "\n",
       "    .dataframe thead th {\n",
       "        text-align: right;\n",
       "    }\n",
       "</style>\n",
       "<table border=\"1\" class=\"dataframe\">\n",
       "  <thead>\n",
       "    <tr style=\"text-align: right;\">\n",
       "      <th></th>\n",
       "      <th>class</th>\n",
       "    </tr>\n",
       "  </thead>\n",
       "  <tbody>\n",
       "    <tr>\n",
       "      <th>0</th>\n",
       "      <td>6</td>\n",
       "    </tr>\n",
       "    <tr>\n",
       "      <th>1</th>\n",
       "      <td>5</td>\n",
       "    </tr>\n",
       "    <tr>\n",
       "      <th>2</th>\n",
       "      <td>3</td>\n",
       "    </tr>\n",
       "    <tr>\n",
       "      <th>3</th>\n",
       "      <td>4</td>\n",
       "    </tr>\n",
       "    <tr>\n",
       "      <th>4</th>\n",
       "      <td>7</td>\n",
       "    </tr>\n",
       "    <tr>\n",
       "      <th>...</th>\n",
       "      <td>...</td>\n",
       "    </tr>\n",
       "    <tr>\n",
       "      <th>33595</th>\n",
       "      <td>9</td>\n",
       "    </tr>\n",
       "    <tr>\n",
       "      <th>33596</th>\n",
       "      <td>9</td>\n",
       "    </tr>\n",
       "    <tr>\n",
       "      <th>33597</th>\n",
       "      <td>2</td>\n",
       "    </tr>\n",
       "    <tr>\n",
       "      <th>33598</th>\n",
       "      <td>6</td>\n",
       "    </tr>\n",
       "    <tr>\n",
       "      <th>33599</th>\n",
       "      <td>0</td>\n",
       "    </tr>\n",
       "  </tbody>\n",
       "</table>\n",
       "<p>33600 rows × 1 columns</p>\n",
       "</div>"
      ]
     },
     "execution_count": 8,
     "metadata": {},
     "output_type": "execute_result"
    }
   ],
   "execution_count": 8
  },
  {
   "metadata": {
    "ExecuteTime": {
     "end_time": "2024-05-16T13:04:48.047690Z",
     "start_time": "2024-05-16T13:04:48.045029Z"
    }
   },
   "cell_type": "code",
   "source": [
    "ohe = OneHotEncoder()\n",
    "\n",
    "\n",
    "def preprocess(X, y, ohe: OneHotEncoder, train=True):\n",
    "    if train:\n",
    "        ohe.fit(y)\n",
    "\n",
    "    y_encod = ohe.transform(y).toarray()\n",
    "\n",
    "    return np.reshape(X.to_numpy(), newshape=(y_encod.shape[0], 1, 28, 28)), y_encod"
   ],
   "id": "ed6543c8f28c94b",
   "outputs": [],
   "execution_count": 9
  },
  {
   "cell_type": "code",
   "source": [
    "\n",
    "X_np_train, y_np_train = preprocess(X_train, y_train, ohe, True)"
   ],
   "metadata": {
    "collapsed": false,
    "ExecuteTime": {
     "end_time": "2024-05-16T13:04:48.722763Z",
     "start_time": "2024-05-16T13:04:48.717973Z"
    }
   },
   "id": "a9e0cd5c72642468",
   "outputs": [],
   "execution_count": 10
  },
  {
   "cell_type": "code",
   "source": "y_np_train",
   "metadata": {
    "collapsed": false,
    "ExecuteTime": {
     "end_time": "2024-05-16T13:04:49.124243Z",
     "start_time": "2024-05-16T13:04:49.120642Z"
    }
   },
   "id": "e286074acb6dac27",
   "outputs": [
    {
     "data": {
      "text/plain": [
       "array([[0., 0., 0., ..., 0., 0., 0.],\n",
       "       [0., 0., 0., ..., 0., 0., 0.],\n",
       "       [0., 0., 0., ..., 0., 0., 0.],\n",
       "       ...,\n",
       "       [0., 0., 1., ..., 0., 0., 0.],\n",
       "       [0., 0., 0., ..., 0., 0., 0.],\n",
       "       [1., 0., 0., ..., 0., 0., 0.]])"
      ]
     },
     "execution_count": 11,
     "metadata": {},
     "output_type": "execute_result"
    }
   ],
   "execution_count": 11
  },
  {
   "cell_type": "code",
   "source": [
    "model = nn.Model([\n",
    "    cnn.Conv(1, 6, (5, 5), pad=2),\n",
    "    nn.Sigmoid(),\n",
    "    cnn.AvgPool2D(),\n",
    "    cnn.Conv(6, 16, (5, 5)),\n",
    "    nn.Sigmoid(),\n",
    "    cnn.AvgPool2D(),\n",
    "    cnn.Flatten(),\n",
    "    nn.Linear(400, 120),\n",
    "    nn.Sigmoid(),\n",
    "    nn.Linear(120, 84),\n",
    "    nn.Sigmoid(),\n",
    "    nn.Linear(84, 10),\n",
    "    nn.Softmax(),\n",
    "])"
   ],
   "metadata": {
    "collapsed": false,
    "ExecuteTime": {
     "end_time": "2024-05-16T13:04:49.464679Z",
     "start_time": "2024-05-16T13:04:49.461016Z"
    }
   },
   "id": "28774cbf0c7b0885",
   "outputs": [],
   "execution_count": 12
  },
  {
   "metadata": {
    "ExecuteTime": {
     "end_time": "2024-05-16T13:04:50.130184Z",
     "start_time": "2024-05-16T13:04:50.126851Z"
    }
   },
   "cell_type": "code",
   "source": [
    "def train(model: nn.Model, loss: nn.LossFunction, opt: nn.Optimizer, X, Y, i_max=100, eps=1e-3, batch=0.1):\n",
    "    batch_size = int(X.shape[0] * batch)\n",
    "    for epoch in range(i_max):\n",
    "        indexies = np.random.choice(X.shape[0], X.shape[0], False)\n",
    "        print(epoch)\n",
    "        for i in range(0, X.shape[0], batch_size):\n",
    "            X_batch = X[indexies[i:i + batch_size]]\n",
    "            y_batch = Y[indexies[i:i + batch_size]]\n",
    "\n",
    "            y_p = model.forward(X_batch)\n",
    "            loss_val = loss.calc_loss(y_batch, y_p)\n",
    "            grad = loss.calc_gradient(y_batch, y_p)\n",
    "            model.backward(grad)\n",
    "\n",
    "            # print(loss_val)\n",
    "            opt.do_step(model)\n",
    "            model.zerograd()\n",
    "            if loss_val <= eps:\n",
    "                break"
   ],
   "id": "107ed1a053003b83",
   "outputs": [],
   "execution_count": 13
  },
  {
   "cell_type": "code",
   "source": [
    "loss = nn.CategoricalCrossEntropy()\n",
    "opt = nn.Optimizer(lr=0.5)\n"
   ],
   "metadata": {
    "collapsed": false,
    "ExecuteTime": {
     "end_time": "2024-05-16T13:04:50.707458Z",
     "start_time": "2024-05-16T13:04:50.705192Z"
    }
   },
   "id": "772e2405af700cc8",
   "outputs": [],
   "execution_count": 14
  },
  {
   "cell_type": "code",
   "source": "train(model, loss, opt, X_np_train, y_np_train, i_max=5, batch=1e-2)",
   "metadata": {
    "collapsed": false,
    "ExecuteTime": {
     "end_time": "2024-05-16T13:10:12.457620Z",
     "start_time": "2024-05-16T13:04:54.581896Z"
    }
   },
   "id": "f0a6d4e8d1c1f6d8",
   "outputs": [
    {
     "name": "stdout",
     "output_type": "stream",
     "text": [
      "0\n"
     ]
    },
    {
     "name": "stderr",
     "output_type": "stream",
     "text": [
      "/home/vladik/nsu-courses/3 course/Tpns/layers/nn.py:103: RuntimeWarning: overflow encountered in exp\n",
      "  return 1 / (1 + np.exp(-x))\n"
     ]
    },
    {
     "name": "stdout",
     "output_type": "stream",
     "text": [
      "1\n",
      "2\n",
      "3\n",
      "4\n"
     ]
    }
   ],
   "execution_count": 15
  },
  {
   "metadata": {
    "ExecuteTime": {
     "end_time": "2024-05-14T13:45:18.544779Z",
     "start_time": "2024-05-14T13:45:18.541959Z"
    }
   },
   "cell_type": "code",
   "source": [
    "def test(model: nn.Model, metric: m.Metric, X, Y):\n",
    "    y_prob = model.forward(X)\n",
    "    y_pred = np.reshape(np.argmax(y_prob, axis=-1), newshape=(y_prob.shape[0], 1))\n",
    "    print(y_pred.shape)\n",
    "    return metric.calc_metric(Y, y_pred)"
   ],
   "id": "d1010cb4c439a5b6",
   "outputs": [],
   "execution_count": 16
  },
  {
   "cell_type": "code",
   "source": [
    "X_np_test = np.reshape(X_validate.to_numpy(), newshape=(X_validate.shape[0], 1, 28, 28))\n",
    "y_np_test = y_validate.to_numpy()\n",
    "y_prob = model.forward(X_np_test)\n",
    "y_pred = np.reshape(np.argmax(y_prob, axis=-1), newshape=(y_prob.shape[0], 1))\n",
    "\n",
    "m.F1Score().calc_metric(y_np_test, y_pred)"
   ],
   "metadata": {
    "collapsed": false,
    "ExecuteTime": {
     "end_time": "2024-05-16T13:10:21.373553Z",
     "start_time": "2024-05-16T13:10:19.797079Z"
    }
   },
   "id": "1a36aa7762730e55",
   "outputs": [
    {
     "data": {
      "text/plain": [
       "0.8834523809523809"
      ]
     },
     "execution_count": 16,
     "metadata": {},
     "output_type": "execute_result"
    }
   ],
   "execution_count": 16
  },
  {
   "metadata": {
    "ExecuteTime": {
     "end_time": "2024-05-16T13:12:24.153452Z",
     "start_time": "2024-05-16T13:11:08.575671Z"
    }
   },
   "cell_type": "code",
   "source": "score, tprs, fprs = m.RocAuc().calc_metric(y_np_test, y_prob)",
   "id": "a5a33c9bffaea60c",
   "outputs": [],
   "execution_count": 19
  },
  {
   "metadata": {
    "ExecuteTime": {
     "end_time": "2024-05-16T13:12:44.361531Z",
     "start_time": "2024-05-16T13:12:44.358259Z"
    }
   },
   "cell_type": "code",
   "source": "score",
   "id": "5a9b6a905927f9cb",
   "outputs": [
    {
     "data": {
      "text/plain": [
       "array([0.99662439, 0.99819202, 0.98443029, 0.98728082, 0.99070223,\n",
       "       0.98888858, 0.99551102, 0.99070892, 0.99006834, 0.9816841 ])"
      ]
     },
     "execution_count": 20,
     "metadata": {},
     "output_type": "execute_result"
    }
   ],
   "execution_count": 20
  },
  {
   "metadata": {
    "ExecuteTime": {
     "end_time": "2024-05-16T13:16:52.480792Z",
     "start_time": "2024-05-16T13:16:52.338587Z"
    }
   },
   "cell_type": "code",
   "source": [
    "for i in range(10):\n",
    "        plt.plot(fprs[i], tprs[i], lw=2, label='Class {0} (area = {1:0.2f})'.format(i, score[i]))"
   ],
   "id": "9063a184b7f51a5d",
   "outputs": [
    {
     "data": {
      "text/plain": [
       "<Figure size 640x480 with 1 Axes>"
      ],
      "image/png": "[encoded data removed]"
     },
     "metadata": {},
     "output_type": "display_data"
    }
   ],
   "execution_count": 26
  },
  {
   "metadata": {
    "ExecuteTime": {
     "end_time": "2024-05-16T13:12:57.772754Z",
     "start_time": "2024-05-16T13:12:57.769743Z"
    }
   },
   "cell_type": "code",
   "source": "m.Acuracy().calc_metric(y_np_test, y_pred)",
   "id": "ab0fc6dfe75ecc70",
   "outputs": [
    {
     "data": {
      "text/plain": [
       "0.883452380952381"
      ]
     },
     "execution_count": 21,
     "metadata": {},
     "output_type": "execute_result"
    }
   ],
   "execution_count": 21
  },
  {
   "metadata": {},
   "cell_type": "code",
   "outputs": [],
   "execution_count": null,
   "source": "",
   "id": "2a04d288051903fb"
  }
 ],
 "metadata": {
  "kernelspec": {
   "display_name": "Python 3",
   "language": "python",
   "name": "python3"
  },
  "language_info": {
   "codemirror_mode": {
    "name": "ipython",
    "version": 2
   },
   "file_extension": ".py",
   "mimetype": "text/x-python",
   "name": "python",
   "nbconvert_exporter": "python",
   "pygments_lexer": "ipython2",
   "version": "2.7.6"
  }
 },
 "nbformat": 4,
 "nbformat_minor": 5
}
