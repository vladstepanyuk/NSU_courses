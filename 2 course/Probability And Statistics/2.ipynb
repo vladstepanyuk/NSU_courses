{
 "cells": [
  {
   "cell_type": "code",
   "execution_count": 4,
   "metadata": {
    "collapsed": true
   },
   "outputs": [],
   "source": [
    "import my_functions as func\n",
    "import numpy as np\n",
    "from scipy.stats import f\n",
    "from scipy.stats import t"
   ]
  },
  {
   "cell_type": "code",
   "execution_count": 5,
   "outputs": [],
   "source": [
    "normal_distribution_file = open(\"N.txt\", \"r\")\n",
    "\n",
    "data = np.array(normal_distribution_file.read().replace('\\n', ' ').split(' ')).astype(\"float64\")\n",
    "X = data[:20]\n",
    "Y = data[20:]"
   ],
   "metadata": {
    "collapsed": false
   }
  },
  {
   "cell_type": "code",
   "execution_count": 6,
   "outputs": [],
   "source": [
    "X_mean = np.mean(X)"
   ],
   "metadata": {
    "collapsed": false
   }
  },
  {
   "cell_type": "code",
   "execution_count": 7,
   "outputs": [
    {
     "data": {
      "text/plain": "1.24865"
     },
     "execution_count": 7,
     "metadata": {},
     "output_type": "execute_result"
    }
   ],
   "source": [
    "X_mean"
   ],
   "metadata": {
    "collapsed": false
   }
  },
  {
   "cell_type": "code",
   "execution_count": 8,
   "outputs": [],
   "source": [
    "Y_mean = np.mean(Y)"
   ],
   "metadata": {
    "collapsed": false
   }
  },
  {
   "cell_type": "code",
   "execution_count": 9,
   "outputs": [
    {
     "data": {
      "text/plain": "0.8796666666666666"
     },
     "execution_count": 9,
     "metadata": {},
     "output_type": "execute_result"
    }
   ],
   "source": [
    "Y_mean"
   ],
   "metadata": {
    "collapsed": false
   }
  },
  {
   "cell_type": "markdown",
   "source": [
    "$$ \\overline{X} = 1.24865$$\n",
    "$$ \\overline{Y} = 0.87967$$"
   ],
   "metadata": {
    "collapsed": false
   }
  },
  {
   "cell_type": "code",
   "execution_count": 10,
   "outputs": [
    {
     "data": {
      "text/plain": "0.8913565552631574"
     },
     "execution_count": 10,
     "metadata": {},
     "output_type": "execute_result"
    }
   ],
   "source": [
    "SX = len(X) * (np.mean(X * X) - np.power(X_mean, 2)) / (len(X) - 1)\n",
    "SX"
   ],
   "metadata": {
    "collapsed": false
   }
  },
  {
   "cell_type": "markdown",
   "source": [
    "$$ S^2_0(X) = 0.8913565552631574 $$"
   ],
   "metadata": {
    "collapsed": false
   }
  },
  {
   "cell_type": "code",
   "execution_count": 11,
   "outputs": [
    {
     "data": {
      "text/plain": "0.8900867816091956"
     },
     "execution_count": 11,
     "metadata": {},
     "output_type": "execute_result"
    }
   ],
   "source": [
    "SY = len(Y) * (np.mean(Y * Y) - np.power(Y_mean, 2)) / (len(Y) - 1)\n",
    "SY"
   ],
   "metadata": {
    "collapsed": false
   }
  },
  {
   "cell_type": "markdown",
   "source": [
    "$$ S^2_0(Y) = 0.8900867816091956 $$"
   ],
   "metadata": {
    "collapsed": false
   }
  },
  {
   "cell_type": "markdown",
   "source": [
    "$H_1 $= {$\\sigma_1^2 = \\sigma_2^2$}\n",
    "$H_2 $= {$\\sigma_1^2 \\neq \\sigma_2^2$}\n",
    "\n",
    "$$\\begin{equation*}\n",
    "\\delta(X, Y) =\n",
    " \\begin{cases}\n",
    "   H_1 &,\\quad p_{n, m}(X,Y) < q\\\\\n",
    "   H_2 &,\\quad p_{n, m}(X,Y) \\geqslant q\n",
    " \\end{cases}\n",
    "\\end{equation*}$$\n",
    "Если верна гипотеза $H_1$\n",
    "$$ \\rho_{20, 30} = \\frac{S^2_0(X)}{S^2_0(Y)} \\sim F_{19,29}$$\n",
    "т.е. $$ P(\\delta(X, Y) = H1 | H1) = P(\\rho_{n, m}<q_1 | H1) = F_{n-1,m-1}(q_1) = 1 - \\epsilon$$\n",
    "\n",
    "Найдем границы для $\\epsilon$ = 0.16, и проверим входит ли в них наш $\\rho_{20, 30}$"
   ],
   "metadata": {
    "collapsed": false
   }
  },
  {
   "cell_type": "code",
   "execution_count": 12,
   "outputs": [
    {
     "data": {
      "text/plain": "1.001426572869295"
     },
     "execution_count": 12,
     "metadata": {},
     "output_type": "execute_result"
    }
   ],
   "source": [
    "p_20_30 = SX / SY\n",
    "p_20_30"
   ],
   "metadata": {
    "collapsed": false
   }
  },
  {
   "cell_type": "code",
   "execution_count": 13,
   "outputs": [],
   "source": [
    "epsilon = 0.16\n",
    "a = 1\n",
    "sigma2 = 1.1"
   ],
   "metadata": {
    "collapsed": false
   }
  },
  {
   "cell_type": "code",
   "execution_count": 14,
   "outputs": [
    {
     "data": {
      "text/plain": "1.4963150024414062"
     },
     "execution_count": 14,
     "metadata": {},
     "output_type": "execute_result"
    }
   ],
   "source": [
    "q1 = func.find_quantile(1 - epsilon, lambda x: f.cdf(x, X.size - 1, Y.size - 1))\n",
    "q1"
   ],
   "metadata": {
    "collapsed": false
   }
  },
  {
   "cell_type": "markdown",
   "source": [
    "1.001426572869295 < 1.4963150024414062\n",
    "следовательно гипотеза принимается\n",
    "Ответ: $ S^2_0(X) = 0.8913565552631574 $, $S^2_0(Y) = 0.8900867816091956 $\n",
    "$q_1 = 1.4963150024414062,$ $\\rho_{20,30}  = 1.001426572869295$\n"
   ],
   "metadata": {
    "collapsed": false
   }
  },
  {
   "cell_type": "markdown",
   "source": [
    "$H_1 $= {$\\alpha_1^2 = \\alpha_2^2$}\n",
    "$H_2 $= {$\\alpha_1^2 \\neq \\alpha_2^2$}\n",
    "\n",
    "$$\\begin{equation*}\n",
    "\\delta(X, Y) =\n",
    " \\begin{cases}\n",
    "   H_1 &,\\quad |p(X,Y)| < q\\\\\n",
    "   H_2 &,\\quad |p(X,Y)| \\geqslant q\n",
    " \\end{cases}\n",
    "\\end{equation*}$$\n",
    "Если верна гипотеза $H_1$\n",
    "$$ \\rho(X, Y) = \\frac{\\overline{X} - \\overline{Y}}{ \\sqrt{\\frac{1}{n}+ \\frac{1}{n}} \\sqrt{\\frac{(n-1)*S^2_X + (m-1)S^2_Y}{n+m-2}} } \\sim T_{n+m-2}$$\n",
    "т.е. $$ P(\\delta(X, Y) = H1 | H1) = P(-q<\\rho(X, Y)<q | H1) =  T_{n+m-2}(q) - T_{n+m-2}(-q) = 2*T_{n+m-2}(q) - 1  = 1 - \\epsilon$$\n",
    "$$T_{n+m-2}(q) = \\frac{2 - \\epsilon}{2}$$\n",
    "Найдем границы для $\\epsilon$ = 0.16, и проверим входит ли в них наш $\\rho$"
   ],
   "metadata": {
    "collapsed": false
   }
  },
  {
   "cell_type": "code",
   "execution_count": 15,
   "outputs": [
    {
     "data": {
      "text/plain": "1.3544363849673153"
     },
     "execution_count": 15,
     "metadata": {},
     "output_type": "execute_result"
    }
   ],
   "source": [
    "n = X.size\n",
    "m = Y.size\n",
    "p = (X_mean - Y_mean) / (np.sqrt(1 / n + 1 / m) * np.sqrt(((n - 1) * SX + (m - 1) * SY) / (n + m - 2)))\n",
    "p"
   ],
   "metadata": {
    "collapsed": false
   }
  },
  {
   "cell_type": "code",
   "execution_count": 16,
   "outputs": [
    {
     "data": {
      "text/plain": "1.42669677734375"
     },
     "execution_count": 16,
     "metadata": {},
     "output_type": "execute_result"
    }
   ],
   "source": [
    "q1 = func.find_quantile((2 - epsilon) / 2, lambda x: t.cdf(x, n + m - 2))\n",
    "q1"
   ],
   "metadata": {
    "collapsed": false
   }
  },
  {
   "cell_type": "markdown",
   "source": [
    "$|1.3544363849673153| < |1.42669677734375|$, следовательно гипотеза принимается\n",
    "Ответ: $q = 1.42669677734375$, $\\rho = 1.3544363849673153$"
   ],
   "metadata": {
    "collapsed": false
   }
  },
  {
   "cell_type": "code",
   "execution_count": null,
   "outputs": [],
   "source": [],
   "metadata": {
    "collapsed": false,
    "pycharm": {
     "is_executing": true
    }
   }
  },
  {
   "cell_type": "code",
   "execution_count": 16,
   "outputs": [],
   "source": [],
   "metadata": {
    "collapsed": false
   }
  }
 ],
 "metadata": {
  "kernelspec": {
   "display_name": "Python 3",
   "language": "python",
   "name": "python3"
  },
  "language_info": {
   "codemirror_mode": {
    "name": "ipython",
    "version": 2
   },
   "file_extension": ".py",
   "mimetype": "text/x-python",
   "name": "python",
   "nbconvert_exporter": "python",
   "pygments_lexer": "ipython2",
   "version": "2.7.6"
  }
 },
 "nbformat": 4,
 "nbformat_minor": 0
}
