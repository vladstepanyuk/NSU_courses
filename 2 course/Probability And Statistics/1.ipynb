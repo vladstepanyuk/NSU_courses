{
 "cells": [
  {
   "cell_type": "code",
   "execution_count": 1,
   "metadata": {
    "collapsed": true
   },
   "outputs": [],
   "source": [
    "import numpy as np\n",
    "import my_functions as f\n",
    "from scipy.stats import norm\n",
    "from scipy.stats import chi2"
   ]
  },
  {
   "cell_type": "code",
   "execution_count": 2,
   "outputs": [],
   "source": [
    "normal_distribution_file = open(\"N.txt\", \"r\")\n",
    "\n",
    "data = np.array(normal_distribution_file.read().replace('\\n', ' ').split(' ')).astype(\"float64\")\n"
   ],
   "metadata": {
    "collapsed": false
   }
  },
  {
   "cell_type": "code",
   "execution_count": 3,
   "outputs": [],
   "source": [
    "X_mean = np.mean(data)"
   ],
   "metadata": {
    "collapsed": false
   }
  },
  {
   "cell_type": "code",
   "execution_count": 4,
   "outputs": [
    {
     "data": {
      "text/plain": "1.02726"
     },
     "execution_count": 4,
     "metadata": {},
     "output_type": "execute_result"
    }
   ],
   "source": [
    "X_mean"
   ],
   "metadata": {
    "collapsed": false
   }
  },
  {
   "cell_type": "markdown",
   "source": [
    "$\\overline{X}$ = 1.0276"
   ],
   "metadata": {
    "collapsed": false
   }
  },
  {
   "cell_type": "code",
   "execution_count": 5,
   "outputs": [],
   "source": [
    "D = np.mean(data * data) - X_mean * X_mean"
   ],
   "metadata": {
    "collapsed": false
   }
  },
  {
   "cell_type": "code",
   "execution_count": 6,
   "outputs": [
    {
     "data": {
      "text/plain": "0.8876415124000001"
     },
     "execution_count": 6,
     "metadata": {},
     "output_type": "execute_result"
    }
   ],
   "source": [
    "D"
   ],
   "metadata": {
    "collapsed": false
   }
  },
  {
   "cell_type": "markdown",
   "source": [
    "$\\frac{1}{50} * \\sum_1^{50} (X_i - \\overline{X})^2$ = 0.8876415124000001"
   ],
   "metadata": {
    "collapsed": false
   }
  },
  {
   "cell_type": "code",
   "execution_count": 7,
   "outputs": [],
   "source": [
    "S = data.size * D / (data.size - 1)"
   ],
   "metadata": {
    "collapsed": false
   }
  },
  {
   "cell_type": "code",
   "execution_count": 8,
   "outputs": [
    {
     "data": {
      "text/plain": "0.9057566453061227"
     },
     "execution_count": 8,
     "metadata": {},
     "output_type": "execute_result"
    }
   ],
   "source": [
    "S"
   ],
   "metadata": {
    "collapsed": false
   }
  },
  {
   "cell_type": "markdown",
   "source": [
    "$S^2_0$= 0.9057566453061227"
   ],
   "metadata": {
    "collapsed": false
   }
  },
  {
   "cell_type": "markdown",
   "source": [
    "1\n",
    "a)\n",
    "$$P(\\sqrt{n} \\frac{\\overline{X} - a}{\\sigma} < A) \\in N_{0, 1}$$\n",
    "$$P(-A \\leqslant\t\\sqrt{n} \\frac{\\overline{X} - a}{\\sigma} < A) = \\Phi_{0, 1}(A) - \\Phi_{0, 1}(-A) = 2*\\Phi_{0, 1}(A) - 1 = 1 - \\epsilon\n",
    "$$\n",
    "Найдем A:"
   ],
   "metadata": {
    "collapsed": false
   }
  },
  {
   "cell_type": "code",
   "execution_count": 9,
   "outputs": [],
   "source": [
    "epsilon = 0.16\n",
    "a = 1\n",
    "sigma2 = 1.1\n",
    "A = f.find_quantile((2 - epsilon) / 2, norm.cdf)"
   ],
   "metadata": {
    "collapsed": false
   }
  },
  {
   "cell_type": "code",
   "execution_count": 10,
   "outputs": [
    {
     "data": {
      "text/plain": "1.40380859375"
     },
     "execution_count": 10,
     "metadata": {},
     "output_type": "execute_result"
    }
   ],
   "source": [
    "A"
   ],
   "metadata": {
    "collapsed": false
   }
  },
  {
   "cell_type": "markdown",
   "source": [
    "A = 1.40380859375\n",
    "$$ -A <\t\\sqrt{n} \\frac{\\overline{X} - a}{\\sigma} < A $$\n",
    "$$ \\overline{X} - \\frac{A*\\sigma}{\\sqrt{n}} < a  < \\overline{X} + \\frac{A*\\sigma}{\\sqrt{n}}$$"
   ],
   "metadata": {
    "collapsed": false
   }
  },
  {
   "cell_type": "code",
   "execution_count": 11,
   "outputs": [
    {
     "data": {
      "text/plain": "0.8190415366171873"
     },
     "execution_count": 11,
     "metadata": {},
     "output_type": "execute_result"
    }
   ],
   "source": [
    "X_mean - A * np.sqrt(sigma2)/np.sqrt(data.size)"
   ],
   "metadata": {
    "collapsed": false
   }
  },
  {
   "cell_type": "code",
   "execution_count": 12,
   "outputs": [
    {
     "data": {
      "text/plain": "1.2354784633828129"
     },
     "execution_count": 12,
     "metadata": {},
     "output_type": "execute_result"
    }
   ],
   "source": [
    "X_mean + A * np.sqrt(sigma2)/np.sqrt(data.size)"
   ],
   "metadata": {
    "collapsed": false
   }
  },
  {
   "cell_type": "markdown",
   "source": [
    "    Ответ: $\\overline{X}$ = 1.02726,\n",
    " A = 1.40380859375,\n",
    " P(0.8190415 < a < 1.2354784) = 1 - $\\epsilon$"
   ],
   "metadata": {
    "collapsed": false
   }
  },
  {
   "cell_type": "markdown",
   "source": [
    "b)\n",
    "$\\sqrt{n} \\frac{\\overline{X} - a}{\\sigma}$  сходится к $N_{0,1}$\n",
    "$\\frac{\\sigma}{S_0}$ сходится к 1\n",
    "\n",
    "тогда $\\sqrt{n} \\frac{\\overline{X} - a}{\\sigma} * \\frac{\\sigma}{S_0}$  также  сходится к $N_{0,1}$\n",
    "\n",
    "$$P(-A \\leqslant\t\\sqrt{n} \\frac{\\overline{X} - a}{S_0} < A) = \\Phi_{0, 1}(A) - \\Phi_{0, 1}(-A) = 2*\\Phi_{0, 1}(A) - 1 = 1 - \\epsilon\n",
    "$$\n",
    "A такой же, как и в прошлой задаче, найдем а"
   ],
   "metadata": {
    "collapsed": false
   }
  },
  {
   "cell_type": "markdown",
   "source": [
    "A = 1.40380859375\n",
    "$$ -A <\t\\sqrt{n} \\frac{\\overline{X} - a}{S} < A $$\n",
    "$$ \\overline{X} - \\frac{A*S_0}{\\sqrt{n}} < a  < \\overline{X} + \\frac{A*S_0}{\\sqrt{n}}$$"
   ],
   "metadata": {
    "collapsed": false
   }
  },
  {
   "cell_type": "code",
   "execution_count": 13,
   "outputs": [
    {
     "data": {
      "text/plain": "1.2162020656511099"
     },
     "execution_count": 13,
     "metadata": {},
     "output_type": "execute_result"
    }
   ],
   "source": [
    "X_mean + A * np.sqrt(S)/np.sqrt(data.size)"
   ],
   "metadata": {
    "collapsed": false
   }
  },
  {
   "cell_type": "code",
   "execution_count": 14,
   "outputs": [
    {
     "data": {
      "text/plain": "0.8383179343488901"
     },
     "execution_count": 14,
     "metadata": {},
     "output_type": "execute_result"
    }
   ],
   "source": [
    "X_mean - A * np.sqrt(S)/np.sqrt(data.size)\n"
   ],
   "metadata": {
    "collapsed": false
   }
  },
  {
   "cell_type": "markdown",
   "source": [
    "Ответ: $S^2_0$ = 0.9057566453061227,\n",
    " A = 1.40380859375,\n",
    " P(0.838317< a < 1.216202) = 1 - $\\epsilon$"
   ],
   "metadata": {
    "collapsed": false
   }
  },
  {
   "cell_type": "markdown",
   "source": [
    "c)\n",
    "$\\sum_{i = 1}^n (\\frac{X_i - a}{\\sigma})^2 \\sim \\chi^2_n$\n",
    "$P(h_{\\frac{\\epsilon}{2}} < \\sum_{i = 1}^n (\\frac{X_i - a}{\\sigma})^2 < h_{1- \\frac{\\epsilon}{2}}) = 1 - \\epsilon $"
   ],
   "metadata": {
    "collapsed": false
   }
  },
  {
   "cell_type": "code",
   "execution_count": 15,
   "outputs": [],
   "source": [
    "he2 = f.find_quantile(epsilon/2, lambda x: chi2.cdf(x, data.size))\n",
    "h1_e2 = f.find_quantile(1 - epsilon/2, lambda x: chi2.cdf(x, data.size))"
   ],
   "metadata": {
    "collapsed": false
   }
  },
  {
   "cell_type": "code",
   "execution_count": 16,
   "outputs": [
    {
     "data": {
      "text/plain": "(36.68212890625, 64.697265625)"
     },
     "execution_count": 16,
     "metadata": {},
     "output_type": "execute_result"
    }
   ],
   "source": [
    "(he2, h1_e2)"
   ],
   "metadata": {
    "collapsed": false
   }
  },
  {
   "cell_type": "markdown",
   "source": [
    "$$h_{\\frac{\\epsilon}{2}} < \\sum_{i = 1}^n (\\frac{X_i - a}{\\sigma})^2 < h_{1- \\frac{\\epsilon}{2}}$$\n",
    "$$\\frac{\\sum_{i = 1}^n (X_i - a)^2}{h_{1- \\frac{\\epsilon}{2}}} < \\sigma^2 < \\frac{\\sum_{i = 1}^n (X_i - a)^2}{h_{\\frac{\\epsilon}{2}}} $$\n",
    "Найдем границы для $\\sigma^2$"
   ],
   "metadata": {
    "collapsed": false
   }
  },
  {
   "cell_type": "code",
   "execution_count": 17,
   "outputs": [
    {
     "data": {
      "text/plain": "(0.6865704534943395, 1.2109229296239599)"
     },
     "execution_count": 17,
     "metadata": {},
     "output_type": "execute_result"
    }
   ],
   "source": [
    "(np.sum(np.power(data - a, 2))/h1_e2, np.sum(np.power(data - a, 2))/he2)"
   ],
   "metadata": {
    "collapsed": false
   }
  },
  {
   "cell_type": "markdown",
   "source": [
    "Ответ:\n",
    "$h_{\\frac{\\epsilon}{2}}$ = 36.716461181640625,\n",
    "$h_{1 - \\frac{\\epsilon}{2}}$ = 64.61143493652344\n",
    "P(0.6874825028052546 < $\\sigma^2$ < 1.2097906380534025) = 1 - $\\epsilon$"
   ],
   "metadata": {
    "collapsed": false
   }
  },
  {
   "cell_type": "markdown",
   "source": [
    "d)\n",
    "$\\frac{(n-1)*S^2_0}{\\sigma^2} \\sim \\chi^2_{n-1}$\n",
    "$P(h_{\\frac{\\epsilon}{2}} < \\frac{(n-1)*S^2_0}{\\sigma^2} < h_{1- \\frac{\\epsilon}{2}}) = 1 - \\epsilon $"
   ],
   "metadata": {
    "collapsed": false
   }
  },
  {
   "cell_type": "markdown",
   "source": [
    "$$\\frac{(n-1)*S^2_0}{h_{1- \\frac{\\epsilon}{2}}} < \\sigma^2 < \\frac{(n-1)*S^2_0}{h_{\\frac{\\epsilon}{2}}} $$"
   ],
   "metadata": {
    "collapsed": false
   }
  },
  {
   "cell_type": "code",
   "execution_count": 18,
   "outputs": [
    {
     "data": {
      "text/plain": "(0.6859961575076228, 1.2099100282164394)"
     },
     "execution_count": 18,
     "metadata": {},
     "output_type": "execute_result"
    }
   ],
   "source": [
    "((data.size - 1) * S / h1_e2, (data.size - 1) * S / he2)"
   ],
   "metadata": {
    "collapsed": false
   }
  },
  {
   "cell_type": "markdown",
   "source": [
    "Ответ:\n",
    "$h_{\\frac{\\epsilon}{2}}$ = 36.716461181640625,\n",
    "$h_{1 - \\frac{\\epsilon}{2}}$ = 64.61143493652344\n",
    "P(0.68690744391612 < $\\sigma^2$ <  1.208778683774471) = 1 - $\\epsilon$"
   ],
   "metadata": {
    "collapsed": false
   }
  },
  {
   "cell_type": "code",
   "execution_count": null,
   "outputs": [],
   "source": [],
   "metadata": {
    "collapsed": false
   }
  }
 ],
 "metadata": {
  "kernelspec": {
   "display_name": "Python 3",
   "language": "python",
   "name": "python3"
  },
  "language_info": {
   "codemirror_mode": {
    "name": "ipython",
    "version": 2
   },
   "file_extension": ".py",
   "mimetype": "text/x-python",
   "name": "python",
   "nbconvert_exporter": "python",
   "pygments_lexer": "ipython2",
   "version": "2.7.6"
  }
 },
 "nbformat": 4,
 "nbformat_minor": 0
}
